{
 "cells": [
  {
   "cell_type": "code",
   "execution_count": 1,
   "metadata": {},
   "outputs": [
    {
     "name": "stdout",
     "output_type": "stream",
     "text": [
      "Collecting bs4\n",
      "  Downloading bs4-0.0.1.tar.gz (1.1 kB)\n",
      "Requirement already satisfied: beautifulsoup4 in c:\\programdata\\anaconda3\\lib\\site-packages (from bs4) (4.9.1)\n",
      "Requirement already satisfied: soupsieve>1.2 in c:\\programdata\\anaconda3\\lib\\site-packages (from beautifulsoup4->bs4) (2.0.1)\n",
      "Building wheels for collected packages: bs4\n",
      "  Building wheel for bs4 (setup.py): started\n",
      "  Building wheel for bs4 (setup.py): finished with status 'done'\n",
      "  Created wheel for bs4: filename=bs4-0.0.1-py3-none-any.whl size=1279 sha256=5174cc8ce7c424797ca6757fd9290396efe5edddc2781bf92558261174f3a16c\n",
      "  Stored in directory: c:\\users\\karthik\\appdata\\local\\pip\\cache\\wheels\\75\\78\\21\\68b124549c9bdc94f822c02fb9aa3578a669843f9767776bca\n",
      "Successfully built bs4\n",
      "Installing collected packages: bs4\n",
      "Successfully installed bs4-0.0.1\n",
      "Requirement already satisfied: requests in c:\\programdata\\anaconda3\\lib\\site-packages (2.24.0)\n",
      "Requirement already satisfied: certifi>=2017.4.17 in c:\\programdata\\anaconda3\\lib\\site-packages (from requests) (2020.6.20)\n",
      "Requirement already satisfied: urllib3!=1.25.0,!=1.25.1,<1.26,>=1.21.1 in c:\\programdata\\anaconda3\\lib\\site-packages (from requests) (1.25.9)\n",
      "Requirement already satisfied: chardet<4,>=3.0.2 in c:\\programdata\\anaconda3\\lib\\site-packages (from requests) (3.0.4)\n",
      "Requirement already satisfied: idna<3,>=2.5 in c:\\programdata\\anaconda3\\lib\\site-packages (from requests) (2.10)\n",
      "Requirement already satisfied: html5lib in c:\\programdata\\anaconda3\\lib\\site-packages (1.1)\n",
      "Requirement already satisfied: webencodings in c:\\programdata\\anaconda3\\lib\\site-packages (from html5lib) (0.5.1)\n",
      "Requirement already satisfied: six>=1.9 in c:\\programdata\\anaconda3\\lib\\site-packages (from html5lib) (1.15.0)\n"
     ]
    }
   ],
   "source": [
    "!pip install bs4\n",
    "!pip install requests\n",
    "!pip install html5lib"
   ]
  },
  {
   "cell_type": "code",
   "execution_count": 650,
   "metadata": {},
   "outputs": [
    {
     "name": "stdout",
     "output_type": "stream",
     "text": [
      "Collecting requests_html\n",
      "  Downloading requests_html-0.10.0-py3-none-any.whl (13 kB)\n",
      "Collecting w3lib\n",
      "  Downloading w3lib-1.22.0-py2.py3-none-any.whl (20 kB)\n",
      "Requirement already satisfied: bs4 in c:\\programdata\\anaconda3\\lib\\site-packages (from requests_html) (0.0.1)\n",
      "Collecting pyppeteer>=0.0.14\n",
      "  Downloading pyppeteer-0.2.5-py3-none-any.whl (87 kB)\n",
      "Collecting fake-useragent\n",
      "  Downloading fake-useragent-0.1.11.tar.gz (13 kB)\n",
      "Collecting parse\n",
      "  Downloading parse-1.19.0.tar.gz (30 kB)\n",
      "Requirement already satisfied: requests in c:\\programdata\\anaconda3\\lib\\site-packages (from requests_html) (2.24.0)\n",
      "Collecting pyquery\n",
      "  Downloading pyquery-1.4.3-py3-none-any.whl (22 kB)\n",
      "Requirement already satisfied: six>=1.4.1 in c:\\programdata\\anaconda3\\lib\\site-packages (from w3lib->requests_html) (1.15.0)\n",
      "Requirement already satisfied: beautifulsoup4 in c:\\programdata\\anaconda3\\lib\\site-packages (from bs4->requests_html) (4.9.1)\n",
      "Collecting websockets<9.0,>=8.1\n",
      "  Downloading websockets-8.1-cp38-cp38-win_amd64.whl (66 kB)\n",
      "Requirement already satisfied: tqdm<5.0.0,>=4.42.1 in c:\\users\\karthik\\appdata\\roaming\\python\\python38\\site-packages (from pyppeteer>=0.0.14->requests_html) (4.56.0)\n",
      "Collecting appdirs<2.0.0,>=1.4.3\n",
      "  Downloading appdirs-1.4.4-py2.py3-none-any.whl (9.6 kB)\n",
      "Requirement already satisfied: urllib3<2.0.0,>=1.25.8 in c:\\programdata\\anaconda3\\lib\\site-packages (from pyppeteer>=0.0.14->requests_html) (1.25.9)\n",
      "Collecting pyee<9.0.0,>=8.1.0\n",
      "  Downloading pyee-8.1.0-py2.py3-none-any.whl (12 kB)\n",
      "Requirement already satisfied: chardet<4,>=3.0.2 in c:\\programdata\\anaconda3\\lib\\site-packages (from requests->requests_html) (3.0.4)\n",
      "Requirement already satisfied: certifi>=2017.4.17 in c:\\programdata\\anaconda3\\lib\\site-packages (from requests->requests_html) (2020.6.20)\n",
      "Requirement already satisfied: idna<3,>=2.5 in c:\\programdata\\anaconda3\\lib\\site-packages (from requests->requests_html) (2.10)\n",
      "Requirement already satisfied: lxml>=2.1 in c:\\programdata\\anaconda3\\lib\\site-packages (from pyquery->requests_html) (4.5.2)\n",
      "Collecting cssselect>0.7.9\n",
      "  Downloading cssselect-1.1.0-py2.py3-none-any.whl (16 kB)\n",
      "Requirement already satisfied: soupsieve>1.2 in c:\\programdata\\anaconda3\\lib\\site-packages (from beautifulsoup4->bs4->requests_html) (2.0.1)\n",
      "Building wheels for collected packages: fake-useragent, parse\n",
      "  Building wheel for fake-useragent (setup.py): started\n",
      "  Building wheel for fake-useragent (setup.py): finished with status 'done'\n",
      "  Created wheel for fake-useragent: filename=fake_useragent-0.1.11-py3-none-any.whl size=13489 sha256=ec7191d23c8ad4b0949b8d98e50ae21ee3af28205457793eca9558c59ad99e3c\n",
      "  Stored in directory: c:\\users\\karthik\\appdata\\local\\pip\\cache\\wheels\\a0\\b8\\b7\\8c942b2c5be5158b874a88195116b05ad124bac795f6665e65\n",
      "  Building wheel for parse (setup.py): started\n",
      "  Building wheel for parse (setup.py): finished with status 'done'\n",
      "  Created wheel for parse: filename=parse-1.19.0-py3-none-any.whl size=24585 sha256=896c24186c971eafcc04f16dad0bff595383fc42ed97f1259bbe7c70c8f7a63a\n",
      "  Stored in directory: c:\\users\\karthik\\appdata\\local\\pip\\cache\\wheels\\e5\\33\\1f\\68392720485b3ecf125a69e700baaab7624616deedea2fa6e2\n",
      "Successfully built fake-useragent parse\n",
      "Installing collected packages: w3lib, websockets, appdirs, pyee, pyppeteer, fake-useragent, parse, cssselect, pyquery, requests-html\n",
      "Successfully installed appdirs-1.4.4 cssselect-1.1.0 fake-useragent-0.1.11 parse-1.19.0 pyee-8.1.0 pyppeteer-0.2.5 pyquery-1.4.3 requests-html-0.10.0 w3lib-1.22.0 websockets-8.1\n"
     ]
    }
   ],
   "source": [
    "!pip install requests_html"
   ]
  },
  {
   "cell_type": "code",
   "execution_count": 6,
   "metadata": {},
   "outputs": [],
   "source": [
    "import requests \n",
    "from bs4 import BeautifulSoup"
   ]
  },
  {
   "cell_type": "code",
   "execution_count": 14,
   "metadata": {},
   "outputs": [],
   "source": [
    "import pandas as pd"
   ]
  },
  {
   "cell_type": "code",
   "execution_count": 1110,
   "metadata": {},
   "outputs": [],
   "source": [
    "url=\"https://en.wikipedia.org/wiki/Main_Page\""
   ]
  },
  {
   "cell_type": "code",
   "execution_count": 1172,
   "metadata": {},
   "outputs": [
    {
     "name": "stdout",
     "output_type": "stream",
     "text": [
      "{'Date': 'Sun, 21 Mar 2021 15:44:41 GMT', 'Server': 'mw1324.eqiad.wmnet', 'X-Content-Type-Options': 'nosniff', 'P3p': 'CP=\"See https://en.wikipedia.org/wiki/Special:CentralAutoLogin/P3P for more info.\"', 'Content-Language': 'en', 'Vary': 'Accept-Encoding,Cookie,Authorization', 'X-Request-Id': '55cdb8b5-3761-43b5-9e24-3dce8dc4b9f5', 'Last-Modified': 'Sun, 21 Mar 2021 15:44:39 GMT', 'Content-Type': 'text/html; charset=UTF-8', 'Content-Encoding': 'gzip', 'Age': '1443', 'X-Cache': 'cp5009 miss, cp5007 hit/6735', 'X-Cache-Status': 'hit-front', 'Server-Timing': 'cache;desc=\"hit-front\"', 'Strict-Transport-Security': 'max-age=106384710; includeSubDomains; preload', 'Report-To': '{ \"group\": \"wm_nel\", \"max_age\": 86400, \"endpoints\": [{ \"url\": \"https://intake-logging.wikimedia.org/v1/events?stream=w3c.reportingapi.network_error&schema_uri=/w3c/reportingapi/network_error/1.0.0\" }] }', 'NEL': '{ \"report_to\": \"wm_nel\", \"max_age\": 86400, \"failure_fraction\": 0.05, \"success_fraction\": 0.0}', 'Set-Cookie': 'WMF-Last-Access=21-Mar-2021;Path=/;HttpOnly;secure;Expires=Thu, 22 Apr 2021 12:00:00 GMT, WMF-Last-Access-Global=21-Mar-2021;Path=/;Domain=.wikipedia.org;HttpOnly;secure;Expires=Thu, 22 Apr 2021 12:00:00 GMT, GeoIP=IN:TG:Hyderabad:17.38:78.47:v4; Path=/; secure; Domain=.wikipedia.org', 'X-Client-IP': '2405:201:c012:b002:a560:4812:ff06:b783', 'Cache-Control': 'private, s-maxage=0, max-age=0, must-revalidate', 'Accept-Ranges': 'bytes', 'Content-Length': '18989', 'Connection': 'keep-alive'}\n"
     ]
    }
   ],
   "source": [
    "headers = requests.get(url).headers\n",
    "print(headers)"
   ]
  },
  {
   "cell_type": "code",
   "execution_count": 1112,
   "metadata": {},
   "outputs": [
    {
     "name": "stdout",
     "output_type": "stream",
     "text": [
      "<Response [200]>\n"
     ]
    }
   ],
   "source": [
    "print(res)"
   ]
  },
  {
   "cell_type": "markdown",
   "metadata": {},
   "source": [
    "# IMDB Ratings Top 100 Movies"
   ]
  },
  {
   "cell_type": "code",
   "execution_count": 164,
   "metadata": {},
   "outputs": [],
   "source": [
    "url=\"https://www.imdb.com/search/title/?count=100&groups=top_1000&sort=user_rating\""
   ]
  },
  {
   "cell_type": "code",
   "execution_count": 165,
   "metadata": {},
   "outputs": [
    {
     "name": "stdout",
     "output_type": "stream",
     "text": [
      "<Response [200]>\n"
     ]
    }
   ],
   "source": [
    "res=requests.get(url)\n",
    "print(res)"
   ]
  },
  {
   "cell_type": "code",
   "execution_count": 166,
   "metadata": {},
   "outputs": [],
   "source": [
    "soup=BeautifulSoup(res.content,'html.parser')"
   ]
  },
  {
   "cell_type": "code",
   "execution_count": 167,
   "metadata": {},
   "outputs": [
    {
     "data": {
      "text/plain": [
       "'IMDb \"Top 1000\"\\n(Sorted by IMDb Rating Descending) - IMDb'"
      ]
     },
     "execution_count": 167,
     "metadata": {},
     "output_type": "execute_result"
    }
   ],
   "source": [
    "soup.title.text"
   ]
  },
  {
   "cell_type": "code",
   "execution_count": 168,
   "metadata": {},
   "outputs": [
    {
     "data": {
      "text/plain": [
       "'\\n\\n\\n\\n\\n\\n\\n\\n\\n\\nIMDb \"Top 1000\"\\n(Sorted by IMDb Rating Descending) - IMDb\\n\\n\\n\\n\\n\\n\\n\\n\\n\\n\\n\\n\\n\\n\\n\\n\\n\\n\\n\\n\\n\\n\\n\\n\\n\\n\\n\\n\\n\\n\\n\\n\\n\\n\\n\\n\\n\\n\\n\\n\\n\\n\\n\\n\\n\\n\\n\\n\\n\\n\\n\\n\\n\\n \\n\\n\\n\\n\\n\\n\\n\\n\\n\\n\\n\\nMenuMoviesRelease CalendarDVD & Blu-ray ReleasesTop Rated MoviesMost Popular MoviesBrowse Movies by GenreTop Box OfficeShowtimes & TicketsShowtimes & TicketsIn TheatersComing SoonComing SoonMovie NewsIndia Movie SpotlightTV ShowsWhat\\'s on TV & StreamingWhat\\'s on TV & StreamingTop Rated ShowsMost Popular ShowsBrowse TV Shows by GenreTV NewsIndia TV SpotlightWatchWhat to WatchLatest TrailersIMDb OriginalsIMDb PicksIMDb PodcastsAwards & EventsOscarsBest Picture WinnersBest Picture WinnersGolden GlobesEmmysWomen\\'s History MonthSTARmeter AwardsSan Diego Comic-ConNew York Comic-ConSundance Film FestivalToronto Int\\'l Film FestivalAwards CentralFestival CentralAll EventsCelebsBorn TodayMost Popular CelebsMost Popular CelebsCelebrity NewsCommunityHelp CenterContributor ZonePollsFor Industry ProfessionalsAllAllTitlesTV EpisodesCelebsCompaniesKeywordsAdvanced SearchWatchlistSign In\\n\\n \\n\\n\\n\\n\\n\\n\\n\\n\\n\\n\\n\\n\\n\\n\\n\\n\\nIMDb \"Top 1000\"\\n(Sorted by IMDb Rating Descending) \\n\\n\\n\\n        View Mode:\\n Compact\\n | Detailed\\n \\n\\n1-100 of 1,000 titles.\\n| Next »\\n\\n\\n\\n\\n       Sort by:\\n           Popularity\\n| A-Z\\n| User Rating▼\\n| Number of Votes\\n| US Box Office\\n| Runtime\\n| Year\\n| Release Date\\n| Date of Your Rating\\n| Your Rating\\n\\n\\n\\n\\n\\n\\n\\n\\n\\n \\n \\n\\n\\n1.\\nThe Shawshank Redemption\\n(1994)\\n\\n\\nA\\n|\\n142 min\\n|\\n\\nDrama            \\n\\n\\n\\n\\n9.3\\n\\n\\n\\n\\nRate this\\n\\n\\n\\n\\n\\n\\n\\xa0\\n\\xa0\\n\\n1\\n2\\n3\\n4\\n5\\n6\\n7\\n8\\n9\\n10\\n\\n9.3/10\\nX\\n\\xa0\\n\\n\\n\\n80        \\n        Metascore\\n            \\n\\n\\n    Two imprisoned men bond over a number of years, finding solace and eventual redemption through acts of common decency.\\n\\n    Director:\\nFrank Darabont\\n| \\n    Stars:\\nTim Robbins, \\nMorgan Freeman, \\nBob Gunton, \\nWilliam Sadler\\n\\n\\nVotes:\\n2,363,582\\n| Gross:\\n$28.34M\\n\\n\\n\\n\\n\\n\\n\\n\\n \\n \\n\\n\\n2.\\nThe Godfather\\n(1972)\\n\\n\\nA\\n|\\n175 min\\n|\\n\\nCrime, Drama            \\n\\n\\n\\n\\n9.2\\n\\n\\n\\n\\nRate this\\n\\n\\n\\n\\n\\n\\n\\xa0\\n\\xa0\\n\\n1\\n2\\n3\\n4\\n5\\n6\\n7\\n8\\n9\\n10\\n\\n9.2/10\\nX\\n\\xa0\\n\\n\\n\\n100        \\n        Metascore\\n            \\n\\n\\n    An organized crime dynasty\\'s aging patriarch transfers control of his clandestine empire to his reluctant son.\\n\\n    Director:\\nFrancis Ford Coppola\\n| \\n    Stars:\\nMarlon Brando, \\nAl Pacino, \\nJames Caan, \\nDiane Keaton\\n\\n\\nVotes:\\n1,636,238\\n| Gross:\\n$134.97M\\n\\n\\n\\n\\n\\n\\n\\n\\n \\n \\n\\n\\n3.\\nThe Dark Knight\\n(2008)\\n\\n\\nUA\\n|\\n152 min\\n|\\n\\nAction, Crime, Drama            \\n\\n\\n\\n\\n9.0\\n\\n\\n\\n\\nRate this\\n\\n\\n\\n\\n\\n\\n\\xa0\\n\\xa0\\n\\n1\\n2\\n3\\n4\\n5\\n6\\n7\\n8\\n9\\n10\\n\\n9/10\\nX\\n\\xa0\\n\\n\\n\\n84        \\n        Metascore\\n            \\n\\n\\n    When the menace known as the Joker wreaks havoc and chaos on the people of Gotham, Batman must accept one of the greatest psychological and physical tests of his ability to fight injustice.\\n\\n    Director:\\nChristopher Nolan\\n| \\n    Stars:\\nChristian Bale, \\nHeath Ledger, \\nAaron Eckhart, \\nMichael Caine\\n\\n\\nVotes:\\n2,322,944\\n| Gross:\\n$534.86M\\n\\n\\n\\n\\n\\n\\n\\n\\n \\n \\n\\n\\n4.\\nThe Godfather: Part II\\n(1974)\\n\\n\\nA\\n|\\n202 min\\n|\\n\\nCrime, Drama            \\n\\n\\n\\n\\n9.0\\n\\n\\n\\n\\nRate this\\n\\n\\n\\n\\n\\n\\n\\xa0\\n\\xa0\\n\\n1\\n2\\n3\\n4\\n5\\n6\\n7\\n8\\n9\\n10\\n\\n9/10\\nX\\n\\xa0\\n\\n\\n\\n90        \\n        Metascore\\n            \\n\\n\\n    The early life and career of Vito Corleone in 1920s New York City is portrayed, while his son, Michael, expands and tightens his grip on the family crime syndicate.\\n\\n    Director:\\nFrancis Ford Coppola\\n| \\n    Stars:\\nAl Pacino, \\nRobert De Niro, \\nRobert Duvall, \\nDiane Keaton\\n\\n\\nVotes:\\n1,139,979\\n| Gross:\\n$57.30M\\n\\n\\n\\n\\n\\n\\n\\n\\n \\n \\n\\n\\n5.\\n12 Angry Men\\n(1957)\\n\\n\\nU\\n|\\n96 min\\n|\\n\\nCrime, Drama            \\n\\n\\n\\n\\n9.0\\n\\n\\n\\n\\nRate this\\n\\n\\n\\n\\n\\n\\n\\xa0\\n\\xa0\\n\\n1\\n2\\n3\\n4\\n5\\n6\\n7\\n8\\n9\\n10\\n\\n9/10\\nX\\n\\xa0\\n\\n\\n\\n96        \\n        Metascore\\n            \\n\\n\\n    A jury holdout attempts to prevent a miscarriage of justice by forcing his colleagues to reconsider the evidence.\\n\\n    Director:\\nSidney Lumet\\n| \\n    Stars:\\nHenry Fonda, \\nLee J. Cobb, \\nMartin Balsam, \\nJohn Fiedler\\n\\n\\nVotes:\\n697,116\\n| Gross:\\n$4.36M\\n\\n\\n\\n\\n\\n\\n\\n\\n \\n \\n\\n\\n6.\\nThe Lord of the Rings: The Return of the King\\n(2003)\\n\\n\\nU\\n|\\n201 min\\n|\\n\\nAction, Adventure, Drama            \\n\\n\\n\\n\\n8.9\\n\\n\\n\\n\\nRate this\\n\\n\\n\\n\\n\\n\\n\\xa0\\n\\xa0\\n\\n1\\n2\\n3\\n4\\n5\\n6\\n7\\n8\\n9\\n10\\n\\n8.9/10\\nX\\n\\xa0\\n\\n\\n\\n94        \\n        Metascore\\n            \\n\\n\\n    Gandalf and Aragorn lead the World of Men against Sauron\\'s army to draw his gaze from Frodo and Sam as they approach Mount Doom with the One Ring.\\n\\n    Director:\\nPeter Jackson\\n| \\n    Stars:\\nElijah Wood, \\nViggo Mortensen, \\nIan McKellen, \\nOrlando Bloom\\n\\n\\nVotes:\\n1,655,159\\n| Gross:\\n$377.85M\\n\\n\\n\\n\\n\\n\\n\\n\\n \\n \\n\\n\\n7.\\nPulp Fiction\\n(1994)\\n\\n\\nA\\n|\\n154 min\\n|\\n\\nCrime, Drama            \\n\\n\\n\\n\\n8.9\\n\\n\\n\\n\\nRate this\\n\\n\\n\\n\\n\\n\\n\\xa0\\n\\xa0\\n\\n1\\n2\\n3\\n4\\n5\\n6\\n7\\n8\\n9\\n10\\n\\n8.9/10\\nX\\n\\xa0\\n\\n\\n\\n94        \\n        Metascore\\n            \\n\\n\\n    The lives of two mob hitmen, a boxer, a gangster and his wife, and a pair of diner bandits intertwine in four tales of violence and redemption.\\n\\n    Director:\\nQuentin Tarantino\\n| \\n    Stars:\\nJohn Travolta, \\nUma Thurman, \\nSamuel L. Jackson, \\nBruce Willis\\n\\n\\nVotes:\\n1,841,910\\n| Gross:\\n$107.93M\\n\\n\\n\\n\\n\\n\\n\\n\\n \\n \\n\\n\\n8.\\nSchindler\\'s List\\n(1993)\\n\\n\\nA\\n|\\n195 min\\n|\\n\\nBiography, Drama, History            \\n\\n\\n\\n\\n8.9\\n\\n\\n\\n\\nRate this\\n\\n\\n\\n\\n\\n\\n\\xa0\\n\\xa0\\n\\n1\\n2\\n3\\n4\\n5\\n6\\n7\\n8\\n9\\n10\\n\\n8.9/10\\nX\\n\\xa0\\n\\n\\n\\n94        \\n        Metascore\\n            \\n\\n\\n    In German-occupied Poland during World War II, industrialist Oskar Schindler gradually becomes concerned for his Jewish workforce after witnessing their persecution by the Nazis.\\n\\n    Director:\\nSteven Spielberg\\n| \\n    Stars:\\nLiam Neeson, \\nRalph Fiennes, \\nBen Kingsley, \\nCaroline Goodall\\n\\n\\nVotes:\\n1,222,751\\n| Gross:\\n$96.90M\\n\\n\\n\\n\\n\\n\\n\\n\\n \\n \\n\\n\\n9.\\nInception\\n(2010)\\n\\n\\nUA\\n|\\n148 min\\n|\\n\\nAction, Adventure, Sci-Fi            \\n\\n\\n\\n\\n8.8\\n\\n\\n\\n\\nRate this\\n\\n\\n\\n\\n\\n\\n\\xa0\\n\\xa0\\n\\n1\\n2\\n3\\n4\\n5\\n6\\n7\\n8\\n9\\n10\\n\\n8.8/10\\nX\\n\\xa0\\n\\n\\n\\n74        \\n        Metascore\\n            \\n\\n\\n    A thief who steals corporate secrets through the use of dream-sharing technology is given the inverse task of planting an idea into the mind of a C.E.O.\\n\\n    Director:\\nChristopher Nolan\\n| \\n    Stars:\\nLeonardo DiCaprio, \\nJoseph Gordon-Levitt, \\nElliot Page, \\nKen Watanabe\\n\\n\\nVotes:\\n2,086,614\\n| Gross:\\n$292.58M\\n\\n\\n\\n\\n\\n\\n\\n\\n \\n \\n\\n\\n10.\\nFight Club\\n(1999)\\n\\n\\nA\\n|\\n139 min\\n|\\n\\nDrama            \\n\\n\\n\\n\\n8.8\\n\\n\\n\\n\\nRate this\\n\\n\\n\\n\\n\\n\\n\\xa0\\n\\xa0\\n\\n1\\n2\\n3\\n4\\n5\\n6\\n7\\n8\\n9\\n10\\n\\n8.8/10\\nX\\n\\xa0\\n\\n\\n\\n66        \\n        Metascore\\n            \\n\\n\\n    An insomniac office worker and a devil-may-care soapmaker form an underground fight club that evolves into something much, much more.\\n\\n    Director:\\nDavid Fincher\\n| \\n    Stars:\\nBrad Pitt, \\nEdward Norton, \\nMeat Loaf, \\nZach Grenier\\n\\n\\nVotes:\\n1,870,751\\n| Gross:\\n$37.03M\\n\\n\\n\\n\\n\\n\\n\\n\\n \\n \\n\\n\\n11.\\nThe Lord of the Rings: The Fellowship of the Ring\\n(2001)\\n\\n\\nU\\n|\\n178 min\\n|\\n\\nAction, Adventure, Drama            \\n\\n\\n\\n\\n8.8\\n\\n\\n\\n\\nRate this\\n\\n\\n\\n\\n\\n\\n\\xa0\\n\\xa0\\n\\n1\\n2\\n3\\n4\\n5\\n6\\n7\\n8\\n9\\n10\\n\\n8.8/10\\nX\\n\\xa0\\n\\n\\n\\n92        \\n        Metascore\\n            \\n\\n\\n    A meek Hobbit from the Shire and eight companions set out on a journey to destroy the powerful One Ring and save Middle-earth from the Dark Lord Sauron.\\n\\n    Director:\\nPeter Jackson\\n| \\n    Stars:\\nElijah Wood, \\nIan McKellen, \\nOrlando Bloom, \\nSean Bean\\n\\n\\nVotes:\\n1,674,850\\n| Gross:\\n$315.54M\\n\\n\\n\\n\\n\\n\\n\\n\\n \\n \\n\\n\\n12.\\nForrest Gump\\n(1994)\\n\\n\\nUA\\n|\\n142 min\\n|\\n\\nDrama, Romance            \\n\\n\\n\\n\\n8.8\\n\\n\\n\\n\\nRate this\\n\\n\\n\\n\\n\\n\\n\\xa0\\n\\xa0\\n\\n1\\n2\\n3\\n4\\n5\\n6\\n7\\n8\\n9\\n10\\n\\n8.8/10\\nX\\n\\xa0\\n\\n\\n\\n82        \\n        Metascore\\n            \\n\\n\\n    The presidencies of Kennedy and Johnson, the Vietnam War, the Watergate scandal and other historical events unfold from the perspective of an Alabama man with an IQ of 75, whose only desire is to be reunited with his childhood sweetheart.\\n\\n    Director:\\nRobert Zemeckis\\n| \\n    Stars:\\nTom Hanks, \\nRobin Wright, \\nGary Sinise, \\nSally Field\\n\\n\\nVotes:\\n1,826,991\\n| Gross:\\n$330.25M\\n\\n\\n\\n\\n\\n\\n\\n\\n \\n \\n\\n\\n13.\\nIl buono, il brutto, il cattivo\\n(1966)\\n\\n\\nA\\n|\\n161 min\\n|\\n\\nWestern            \\n\\n\\n\\n\\n8.8\\n\\n\\n\\n\\nRate this\\n\\n\\n\\n\\n\\n\\n\\xa0\\n\\xa0\\n\\n1\\n2\\n3\\n4\\n5\\n6\\n7\\n8\\n9\\n10\\n\\n8.8/10\\nX\\n\\xa0\\n\\n\\n\\n90        \\n        Metascore\\n            \\n\\n\\n    A bounty hunting scam joins two men in an uneasy alliance against a third in a race to find a fortune in gold buried in a remote cemetery.\\n\\n    Director:\\nSergio Leone\\n| \\n    Stars:\\nClint Eastwood, \\nEli Wallach, \\nLee Van Cleef, \\nAldo Giuffrè\\n\\n\\nVotes:\\n693,618\\n| Gross:\\n$6.10M\\n\\n\\n\\n\\n\\n\\n\\n\\n \\n \\n\\n\\n14.\\nThe Lord of the Rings: The Two Towers\\n(2002)\\n\\n\\nUA\\n|\\n179 min\\n|\\n\\nAction, Adventure, Drama            \\n\\n\\n\\n\\n8.7\\n\\n\\n\\n\\nRate this\\n\\n\\n\\n\\n\\n\\n\\xa0\\n\\xa0\\n\\n1\\n2\\n3\\n4\\n5\\n6\\n7\\n8\\n9\\n10\\n\\n8.7/10\\nX\\n\\xa0\\n\\n\\n\\n87        \\n        Metascore\\n            \\n\\n\\n    While Frodo and Sam edge closer to Mordor with the help of the shifty Gollum, the divided fellowship makes a stand against Sauron\\'s new ally, Saruman, and his hordes of Isengard.\\n\\n    Director:\\nPeter Jackson\\n| \\n    Stars:\\nElijah Wood, \\nIan McKellen, \\nViggo Mortensen, \\nOrlando Bloom\\n\\n\\nVotes:\\n1,496,871\\n| Gross:\\n$342.55M\\n\\n\\n\\n\\n\\n\\n\\n\\n \\n \\n\\n\\n15.\\nThe Matrix\\n(1999)\\n\\n\\nA\\n|\\n136 min\\n|\\n\\nAction, Sci-Fi            \\n\\n\\n\\n\\n8.7\\n\\n\\n\\n\\nRate this\\n\\n\\n\\n\\n\\n\\n\\xa0\\n\\xa0\\n\\n1\\n2\\n3\\n4\\n5\\n6\\n7\\n8\\n9\\n10\\n\\n8.7/10\\nX\\n\\xa0\\n\\n\\n\\n73        \\n        Metascore\\n            \\n\\n\\n    When a beautiful stranger leads computer hacker Neo to a forbidding underworld, he discovers the shocking truth--the life he knows is the elaborate deception of an evil cyber-intelligence.\\n\\n    Directors:\\nLana Wachowski, \\nLilly Wachowski\\n| \\n    Stars:\\nKeanu Reeves, \\nLaurence Fishburne, \\nCarrie-Anne Moss, \\nHugo Weaving\\n\\n\\nVotes:\\n1,690,952\\n| Gross:\\n$171.48M\\n\\n\\n\\n\\n\\n\\n\\n\\n \\n \\n\\n\\n16.\\nGoodfellas\\n(1990)\\n\\n\\nA\\n|\\n146 min\\n|\\n\\nBiography, Crime, Drama            \\n\\n\\n\\n\\n8.7\\n\\n\\n\\n\\nRate this\\n\\n\\n\\n\\n\\n\\n\\xa0\\n\\xa0\\n\\n1\\n2\\n3\\n4\\n5\\n6\\n7\\n8\\n9\\n10\\n\\n8.7/10\\nX\\n\\xa0\\n\\n\\n\\n90        \\n        Metascore\\n            \\n\\n\\n    The story of Henry Hill and his life in the mob, covering his relationship with his wife Karen Hill and his mob partners Jimmy Conway and Tommy DeVito in the Italian-American crime syndicate.\\n\\n    Director:\\nMartin Scorsese\\n| \\n    Stars:\\nRobert De Niro, \\nRay Liotta, \\nJoe Pesci, \\nLorraine Bracco\\n\\n\\nVotes:\\n1,030,501\\n| Gross:\\n$46.84M\\n\\n\\n\\n\\n\\n\\n\\n\\n \\n \\n\\n\\n17.\\nStar Wars: Episode V - The Empire Strikes Back\\n(1980)\\n\\n\\nUA\\n|\\n124 min\\n|\\n\\nAction, Adventure, Fantasy            \\n\\n\\n\\n\\n8.7\\n\\n\\n\\n\\nRate this\\n\\n\\n\\n\\n\\n\\n\\xa0\\n\\xa0\\n\\n1\\n2\\n3\\n4\\n5\\n6\\n7\\n8\\n9\\n10\\n\\n8.7/10\\nX\\n\\xa0\\n\\n\\n\\n82        \\n        Metascore\\n            \\n\\n\\n    After the Rebels are brutally overpowered by the Empire on the ice planet Hoth, Luke Skywalker begins Jedi training with Yoda, while his friends are pursued by Darth Vader and a bounty hunter named Boba Fett all over the galaxy.\\n\\n    Director:\\nIrvin Kershner\\n| \\n    Stars:\\nMark Hamill, \\nHarrison Ford, \\nCarrie Fisher, \\nBilly Dee Williams\\n\\n\\nVotes:\\n1,167,799\\n| Gross:\\n$290.48M\\n\\n\\n\\n\\n\\n\\n\\n\\n \\n \\n\\n\\n18.\\nOne Flew Over the Cuckoo\\'s Nest\\n(1975)\\n\\n\\nA\\n|\\n133 min\\n|\\n\\nDrama            \\n\\n\\n\\n\\n8.7\\n\\n\\n\\n\\nRate this\\n\\n\\n\\n\\n\\n\\n\\xa0\\n\\xa0\\n\\n1\\n2\\n3\\n4\\n5\\n6\\n7\\n8\\n9\\n10\\n\\n8.7/10\\nX\\n\\xa0\\n\\n\\n\\n83        \\n        Metascore\\n            \\n\\n\\n    A criminal pleads insanity and is admitted to a mental institution, where he rebels against the oppressive nurse and rallies up the scared patients.\\n\\n    Director:\\nMilos Forman\\n| \\n    Stars:\\nJack Nicholson, \\nLouise Fletcher, \\nMichael Berryman, \\nPeter Brocco\\n\\n\\nVotes:\\n924,837\\n| Gross:\\n$112.00M\\n\\n\\n\\n\\n\\n\\n\\n\\n \\n \\n\\n\\n19.\\nGisaengchung\\n(2019)\\n\\n\\nA\\n|\\n132 min\\n|\\n\\nComedy, Drama, Thriller            \\n\\n\\n\\n\\n8.6\\n\\n\\n\\n\\nRate this\\n\\n\\n\\n\\n\\n\\n\\xa0\\n\\xa0\\n\\n1\\n2\\n3\\n4\\n5\\n6\\n7\\n8\\n9\\n10\\n\\n8.6/10\\nX\\n\\xa0\\n\\n\\n\\n96        \\n        Metascore\\n            \\n\\n\\n    Greed and class discrimination threaten the newly formed symbiotic relationship between the wealthy Park family and the destitute Kim clan.\\n\\n    Director:\\nBong Joon Ho\\n| \\n    Stars:\\nKang-ho Song, \\nLee Sun-kyun, \\nCho Yeo-jeong, \\nChoi Woo-sik\\n\\n\\nVotes:\\n576,639\\n| Gross:\\n$53.37M\\n\\n\\n\\n\\n\\n\\n\\n\\n \\n \\n\\n\\n20.\\nZack Snyder\\'s Justice League\\n(2021)\\n\\n\\n18\\n|\\n242 min\\n|\\n\\nAction, Adventure, Fantasy            \\n\\n\\n\\n\\n8.6\\n\\n\\n\\n\\nRate this\\n\\n\\n\\n\\n\\n\\n\\xa0\\n\\xa0\\n\\n1\\n2\\n3\\n4\\n5\\n6\\n7\\n8\\n9\\n10\\n\\n8.6/10\\nX\\n\\xa0\\n\\n\\n\\n55        \\n        Metascore\\n            \\n\\n\\n    Zack Snyder\\'s definitive director\\'s cut of Justice League. Determined to ensure Superman\\'s ultimate sacrifice was not in vain, Bruce Wayne aligns forces with Diana Prince with plans to recruit a team of metahumans to protect the world from an approaching threat of catastrophic proportions.\\n\\n    Director:\\nZack Snyder\\n| \\n    Stars:\\nHenry Cavill, \\nBen Affleck, \\nGal Gadot, \\nAmy Adams\\n\\n\\nVotes:\\n47,325\\n\\n\\n\\n\\n\\n\\n\\n\\n \\n \\n\\n\\n21.\\nSoorarai Pottru\\n(2020)\\n\\n\\nU\\n|\\n153 min\\n|\\n\\nDrama            \\n\\n\\n\\n\\n8.6\\n\\n\\n\\n\\nRate this\\n\\n\\n\\n\\n\\n\\n\\xa0\\n\\xa0\\n\\n1\\n2\\n3\\n4\\n5\\n6\\n7\\n8\\n9\\n10\\n\\n8.6/10\\nX\\n\\xa0\\n\\n\\n\\n\\n    Nedumaaran Rajangam \"Maara\" sets out to make the common man fly and in the process takes on the world\\'s most capital intensive industry and several enemies who stand in his way.\\n\\n    Director:\\nSudha Kongara\\n| \\n    Stars:\\nSuriya, \\nMadhavan, \\nParesh Rawal, \\nAparna Balamurali\\n\\n\\nVotes:\\n56,658\\n\\n\\n\\n\\n\\n\\n\\n\\n \\n \\n\\n\\n22.\\nInterstellar\\n(2014)\\n\\n\\nUA\\n|\\n169 min\\n|\\n\\nAdventure, Drama, Sci-Fi            \\n\\n\\n\\n\\n8.6\\n\\n\\n\\n\\nRate this\\n\\n\\n\\n\\n\\n\\n\\xa0\\n\\xa0\\n\\n1\\n2\\n3\\n4\\n5\\n6\\n7\\n8\\n9\\n10\\n\\n8.6/10\\nX\\n\\xa0\\n\\n\\n\\n74        \\n        Metascore\\n            \\n\\n\\n    A team of explorers travel through a wormhole in space in an attempt to ensure humanity\\'s survival.\\n\\n    Director:\\nChristopher Nolan\\n| \\n    Stars:\\nMatthew McConaughey, \\nAnne Hathaway, \\nJessica Chastain, \\nMackenzie Foy\\n\\n\\nVotes:\\n1,531,065\\n| Gross:\\n$188.02M\\n\\n\\n\\n\\n\\n\\n\\n\\n \\n \\n\\n\\n23.\\nCidade de Deus\\n(2002)\\n\\n\\nA\\n|\\n130 min\\n|\\n\\nCrime, Drama            \\n\\n\\n\\n\\n8.6\\n\\n\\n\\n\\nRate this\\n\\n\\n\\n\\n\\n\\n\\xa0\\n\\xa0\\n\\n1\\n2\\n3\\n4\\n5\\n6\\n7\\n8\\n9\\n10\\n\\n8.6/10\\nX\\n\\xa0\\n\\n\\n\\n79        \\n        Metascore\\n            \\n\\n\\n    In the slums of Rio, two kids\\' paths diverge as one struggles to become a photographer and the other a kingpin.\\n\\n    Directors:\\nFernando Meirelles, \\nKátia Lund\\n| \\n    Stars:\\nAlexandre Rodrigues, \\nLeandro Firmino, \\nMatheus Nachtergaele, \\nPhellipe Haagensen\\n\\n\\nVotes:\\n703,674\\n| Gross:\\n$7.56M\\n\\n\\n\\n\\n\\n\\n\\n\\n \\n \\n\\n\\n24.\\nSen to Chihiro no kamikakushi\\n(2001)\\n\\n\\nU\\n|\\n125 min\\n|\\n\\nAnimation, Adventure, Family            \\n\\n\\n\\n\\n8.6\\n\\n\\n\\n\\nRate this\\n\\n\\n\\n\\n\\n\\n\\xa0\\n\\xa0\\n\\n1\\n2\\n3\\n4\\n5\\n6\\n7\\n8\\n9\\n10\\n\\n8.6/10\\nX\\n\\xa0\\n\\n\\n\\n96        \\n        Metascore\\n            \\n\\n\\n    During her family\\'s move to the suburbs, a sullen 10-year-old girl wanders into a world ruled by gods, witches, and spirits, and where humans are changed into beasts.\\n\\n    Director:\\nHayao Miyazaki\\n| \\n    Stars:\\nDaveigh Chase, \\nSuzanne Pleshette, \\nMiyu Irino, \\nRumi Hiiragi\\n\\n\\nVotes:\\n659,675\\n| Gross:\\n$10.06M\\n\\n\\n\\n\\n\\n\\n\\n\\n \\n \\n\\n\\n25.\\nSaving Private Ryan\\n(1998)\\n\\n\\n15+\\n|\\n169 min\\n|\\n\\nDrama, War            \\n\\n\\n\\n\\n8.6\\n\\n\\n\\n\\nRate this\\n\\n\\n\\n\\n\\n\\n\\xa0\\n\\xa0\\n\\n1\\n2\\n3\\n4\\n5\\n6\\n7\\n8\\n9\\n10\\n\\n8.6/10\\nX\\n\\xa0\\n\\n\\n\\n91        \\n        Metascore\\n            \\n\\n\\n    Following the Normandy Landings, a group of U.S. soldiers go behind enemy lines to retrieve a paratrooper whose brothers have been killed in action.\\n\\n    Director:\\nSteven Spielberg\\n| \\n    Stars:\\nTom Hanks, \\nMatt Damon, \\nTom Sizemore, \\nEdward Burns\\n\\n\\nVotes:\\n1,246,139\\n| Gross:\\n$216.54M\\n\\n\\n\\n\\n\\n\\n\\n\\n \\n \\n\\n\\n26.\\nThe Green Mile\\n(1999)\\n\\n\\nUA\\n|\\n189 min\\n|\\n\\nCrime, Drama, Fantasy            \\n\\n\\n\\n\\n8.6\\n\\n\\n\\n\\nRate this\\n\\n\\n\\n\\n\\n\\n\\xa0\\n\\xa0\\n\\n1\\n2\\n3\\n4\\n5\\n6\\n7\\n8\\n9\\n10\\n\\n8.6/10\\nX\\n\\xa0\\n\\n\\n\\n61        \\n        Metascore\\n            \\n\\n\\n    The lives of guards on Death Row are affected by one of their charges: a black man accused of child murder and rape, yet who has a mysterious gift.\\n\\n    Director:\\nFrank Darabont\\n| \\n    Stars:\\nTom Hanks, \\nMichael Clarke Duncan, \\nDavid Morse, \\nBonnie Hunt\\n\\n\\nVotes:\\n1,159,057\\n| Gross:\\n$136.80M\\n\\n\\n\\n\\n\\n\\n\\n\\n \\n \\n\\n\\n27.\\nLa vita è bella\\n(1997)\\n\\n\\nU\\n|\\n116 min\\n|\\n\\nComedy, Drama, Romance            \\n\\n\\n\\n\\n8.6\\n\\n\\n\\n\\nRate this\\n\\n\\n\\n\\n\\n\\n\\xa0\\n\\xa0\\n\\n1\\n2\\n3\\n4\\n5\\n6\\n7\\n8\\n9\\n10\\n\\n8.6/10\\nX\\n\\xa0\\n\\n\\n\\n59        \\n        Metascore\\n            \\n\\n\\n    When an open-minded Jewish librarian and his son become victims of the Holocaust, he uses a perfect mixture of will, humor, and imagination to protect his son from the dangers around their camp.\\n\\n    Director:\\nRoberto Benigni\\n| \\n    Stars:\\nRoberto Benigni, \\nNicoletta Braschi, \\nGiorgio Cantarini, \\nGiustino Durano\\n\\n\\nVotes:\\n629,359\\n| Gross:\\n$57.60M\\n\\n\\n\\n\\n\\n\\n\\n\\n \\n \\n\\n\\n28.\\nSe7en\\n(1995)\\n\\n\\nA\\n|\\n127 min\\n|\\n\\nCrime, Drama, Mystery            \\n\\n\\n\\n\\n8.6\\n\\n\\n\\n\\nRate this\\n\\n\\n\\n\\n\\n\\n\\xa0\\n\\xa0\\n\\n1\\n2\\n3\\n4\\n5\\n6\\n7\\n8\\n9\\n10\\n\\n8.6/10\\nX\\n\\xa0\\n\\n\\n\\n65        \\n        Metascore\\n            \\n\\n\\n    Two detectives, a rookie and a veteran, hunt a serial killer who uses the seven deadly sins as his motives.\\n\\n    Director:\\nDavid Fincher\\n| \\n    Stars:\\nMorgan Freeman, \\nBrad Pitt, \\nKevin Spacey, \\nAndrew Kevin Walker\\n\\n\\nVotes:\\n1,459,146\\n| Gross:\\n$100.13M\\n\\n\\n\\n\\n\\n\\n\\n\\n \\n \\n\\n\\n29.\\nThe Silence of the Lambs\\n(1991)\\n\\n\\nA\\n|\\n118 min\\n|\\n\\nCrime, Drama, Thriller            \\n\\n\\n\\n\\n8.6\\n\\n\\n\\n\\nRate this\\n\\n\\n\\n\\n\\n\\n\\xa0\\n\\xa0\\n\\n1\\n2\\n3\\n4\\n5\\n6\\n7\\n8\\n9\\n10\\n\\n8.6/10\\nX\\n\\xa0\\n\\n\\n\\n85        \\n        Metascore\\n            \\n\\n\\n    A young F.B.I. cadet must receive the help of an incarcerated and manipulative cannibal killer to help catch another serial killer, a madman who skins his victims.\\n\\n    Director:\\nJonathan Demme\\n| \\n    Stars:\\nJodie Foster, \\nAnthony Hopkins, \\nLawrence A. Bonney, \\nKasi Lemmons\\n\\n\\nVotes:\\n1,283,223\\n| Gross:\\n$130.74M\\n\\n\\n\\n\\n\\n\\n\\n\\n \\n \\n\\n\\n30.\\nStar Wars\\n(1977)\\n\\n\\nUA\\n|\\n121 min\\n|\\n\\nAction, Adventure, Fantasy            \\n\\n\\n\\n\\n8.6\\n\\n\\n\\n\\nRate this\\n\\n\\n\\n\\n\\n\\n\\xa0\\n\\xa0\\n\\n1\\n2\\n3\\n4\\n5\\n6\\n7\\n8\\n9\\n10\\n\\n8.6/10\\nX\\n\\xa0\\n\\n\\n\\n90        \\n        Metascore\\n            \\n\\n\\n    Luke Skywalker joins forces with a Jedi Knight, a cocky pilot, a Wookiee and two droids to save the galaxy from the Empire\\'s world-destroying battle station, while also attempting to rescue Princess Leia from the mysterious Darth Vader.\\n\\n    Director:\\nGeorge Lucas\\n| \\n    Stars:\\nMark Hamill, \\nHarrison Ford, \\nCarrie Fisher, \\nAlec Guinness\\n\\n\\nVotes:\\n1,239,899\\n| Gross:\\n$322.74M\\n\\n\\n\\n\\n\\n\\n\\n\\n \\n \\n\\n\\n31.\\nSeppuku\\n(1962)\\n\\n\\n133 min\\n|\\n\\nAction, Drama, Mystery            \\n\\n\\n\\n\\n8.6\\n\\n\\n\\n\\nRate this\\n\\n\\n\\n\\n\\n\\n\\xa0\\n\\xa0\\n\\n1\\n2\\n3\\n4\\n5\\n6\\n7\\n8\\n9\\n10\\n\\n8.6/10\\nX\\n\\xa0\\n\\n\\n\\n85        \\n        Metascore\\n            \\n\\n\\n    When a ronin requesting seppuku at a feudal lord\\'s palace is told of the brutal suicide of another ronin who previously visited, he reveals how their pasts are intertwined - and in doing so challenges the clan\\'s integrity.\\n\\n    Director:\\nMasaki Kobayashi\\n| \\n    Stars:\\nTatsuya Nakadai, \\nAkira Ishihama, \\nShima Iwashita, \\nTetsurô Tanba\\n\\n\\nVotes:\\n43,317\\n\\n\\n\\n\\n\\n\\n\\n\\n \\n \\n\\n\\n32.\\nShichinin no samurai\\n(1954)\\n\\n\\nU\\n|\\n207 min\\n|\\n\\nAction, Adventure, Drama            \\n\\n\\n\\n\\n8.6\\n\\n\\n\\n\\nRate this\\n\\n\\n\\n\\n\\n\\n\\xa0\\n\\xa0\\n\\n1\\n2\\n3\\n4\\n5\\n6\\n7\\n8\\n9\\n10\\n\\n8.6/10\\nX\\n\\xa0\\n\\n\\n\\n98        \\n        Metascore\\n            \\n\\n\\n    A poor village under attack by bandits recruits seven unemployed samurai to help them defend themselves.\\n\\n    Director:\\nAkira Kurosawa\\n| \\n    Stars:\\nToshirô Mifune, \\nTakashi Shimura, \\nKeiko Tsushima, \\nYukiko Shimazaki\\n\\n\\nVotes:\\n318,243\\n| Gross:\\n$0.27M\\n\\n\\n\\n\\n\\n\\n\\n\\n \\n \\n\\n\\n33.\\nIt\\'s a Wonderful Life\\n(1946)\\n\\n\\nPG\\n|\\n130 min\\n|\\n\\nDrama, Family, Fantasy            \\n\\n\\n\\n\\n8.6\\n\\n\\n\\n\\nRate this\\n\\n\\n\\n\\n\\n\\n\\xa0\\n\\xa0\\n\\n1\\n2\\n3\\n4\\n5\\n6\\n7\\n8\\n9\\n10\\n\\n8.6/10\\nX\\n\\xa0\\n\\n\\n\\n89        \\n        Metascore\\n            \\n\\n\\n    An angel is sent from Heaven to help a desperately frustrated businessman by showing him what life would have been like if he had never existed.\\n\\n    Director:\\nFrank Capra\\n| \\n    Stars:\\nJames Stewart, \\nDonna Reed, \\nLionel Barrymore, \\nThomas Mitchell\\n\\n\\nVotes:\\n408,928\\n\\n\\n\\n\\n\\n\\n\\n\\n \\n \\n\\n\\n34.\\nHamilton\\n(2020)\\n\\n\\n12+\\n|\\n160 min\\n|\\n\\nBiography, Drama, History            \\n\\n\\n\\n\\n8.5\\n\\n\\n\\n\\nRate this\\n\\n\\n\\n\\n\\n\\n\\xa0\\n\\xa0\\n\\n1\\n2\\n3\\n4\\n5\\n6\\n7\\n8\\n9\\n10\\n\\n8.5/10\\nX\\n\\xa0\\n\\n\\n\\n90        \\n        Metascore\\n            \\n\\n\\n    The real life of one of America\\'s foremost founding fathers and first Secretary of the Treasury, Alexander Hamilton. Captured live on Broadway from the Richard Rodgers Theater with the original Broadway cast.\\n\\n    Director:\\nThomas Kail\\n| \\n    Stars:\\nLin-Manuel Miranda, \\nPhillipa Soo, \\nLeslie Odom Jr., \\nRenée Elise Goldsberry\\n\\n\\nVotes:\\n59,851\\n\\n\\n\\n\\n\\n\\n\\n\\n \\n \\n\\n\\n35.\\nRatsasan\\n(2018)\\n\\n\\nUA\\n|\\n170 min\\n|\\n\\nAction, Crime, Thriller            \\n\\n\\n\\n\\n8.5\\n\\n\\n\\n\\nRate this\\n\\n\\n\\n\\n\\n\\n\\xa0\\n\\xa0\\n\\n1\\n2\\n3\\n4\\n5\\n6\\n7\\n8\\n9\\n10\\n\\n8.5/10\\nX\\n\\xa0\\n\\n\\n\\n\\n    A sub-inspector sets out in pursuit of a mysterious serial killer who targets teen school girls and murders them brutally.\\n\\n    Director:\\nRam Kumar\\n| \\n    Stars:\\nVishnu Vishal, \\nAmala Paul, \\nRadha Ravi, \\nSangili Murugan\\n\\n\\nVotes:\\n26,210\\n\\n\\n\\n\\n\\n\\n\\n\\n \\n \\n\\n\\n36.\\nWhiplash\\n(2014)\\n\\n\\nA\\n|\\n106 min\\n|\\n\\nDrama, Music            \\n\\n\\n\\n\\n8.5\\n\\n\\n\\n\\nRate this\\n\\n\\n\\n\\n\\n\\n\\xa0\\n\\xa0\\n\\n1\\n2\\n3\\n4\\n5\\n6\\n7\\n8\\n9\\n10\\n\\n8.5/10\\nX\\n\\xa0\\n\\n\\n\\n88        \\n        Metascore\\n            \\n\\n\\n    A promising young drummer enrolls at a cut-throat music conservatory where his dreams of greatness are mentored by an instructor who will stop at nothing to realize a student\\'s potential.\\n\\n    Director:\\nDamien Chazelle\\n| \\n    Stars:\\nMiles Teller, \\nJ.K. Simmons, \\nMelissa Benoist, \\nPaul Reiser\\n\\n\\nVotes:\\n726,446\\n| Gross:\\n$13.09M\\n\\n\\n\\n\\n\\n\\n\\n\\n \\n \\n\\n\\n37.\\nThe Intouchables\\n(2011)\\n\\n\\nUA\\n|\\n112 min\\n|\\n\\nBiography, Comedy, Drama            \\n\\n\\n\\n\\n8.5\\n\\n\\n\\n\\nRate this\\n\\n\\n\\n\\n\\n\\n\\xa0\\n\\xa0\\n\\n1\\n2\\n3\\n4\\n5\\n6\\n7\\n8\\n9\\n10\\n\\n8.5/10\\nX\\n\\xa0\\n\\n\\n\\n57        \\n        Metascore\\n            \\n\\n\\n    After he becomes a quadriplegic from a paragliding accident, an aristocrat hires a young man from the projects to be his caregiver.\\n\\n    Directors:\\nOlivier Nakache, \\nÉric Toledano\\n| \\n    Stars:\\nFrançois Cluzet, \\nOmar Sy, \\nAnne Le Ny, \\nAudrey Fleurot\\n\\n\\nVotes:\\n768,602\\n| Gross:\\n$13.18M\\n\\n\\n\\n\\n\\n\\n\\n\\n \\n \\n\\n\\n38.\\nThe Prestige\\n(2006)\\n\\n\\nU\\n|\\n130 min\\n|\\n\\nDrama, Mystery, Sci-Fi            \\n\\n\\n\\n\\n8.5\\n\\n\\n\\n\\nRate this\\n\\n\\n\\n\\n\\n\\n\\xa0\\n\\xa0\\n\\n1\\n2\\n3\\n4\\n5\\n6\\n7\\n8\\n9\\n10\\n\\n8.5/10\\nX\\n\\xa0\\n\\n\\n\\n66        \\n        Metascore\\n            \\n\\n\\n    After a tragic accident, two stage magicians engage in a battle to create the ultimate illusion while sacrificing everything they have to outwit each other.\\n\\n    Director:\\nChristopher Nolan\\n| \\n    Stars:\\nChristian Bale, \\nHugh Jackman, \\nScarlett Johansson, \\nMichael Caine\\n\\n\\nVotes:\\n1,201,056\\n| Gross:\\n$53.09M\\n\\n\\n\\n\\n\\n\\n\\n\\n \\n \\n\\n\\n39.\\nThe Departed\\n(2006)\\n\\n\\nA\\n|\\n151 min\\n|\\n\\nCrime, Drama, Thriller            \\n\\n\\n\\n\\n8.5\\n\\n\\n\\n\\nRate this\\n\\n\\n\\n\\n\\n\\n\\xa0\\n\\xa0\\n\\n1\\n2\\n3\\n4\\n5\\n6\\n7\\n8\\n9\\n10\\n\\n8.5/10\\nX\\n\\xa0\\n\\n\\n\\n85        \\n        Metascore\\n            \\n\\n\\n    An undercover cop and a mole in the police attempt to identify each other while infiltrating an Irish gang in South Boston.\\n\\n    Director:\\nMartin Scorsese\\n| \\n    Stars:\\nLeonardo DiCaprio, \\nMatt Damon, \\nJack Nicholson, \\nMark Wahlberg\\n\\n\\nVotes:\\n1,199,986\\n| Gross:\\n$132.38M\\n\\n\\n\\n\\n\\n\\n\\n\\n \\n \\n\\n\\n40.\\nThe Pianist\\n(2002)\\n\\n\\n13\\n|\\n150 min\\n|\\n\\nBiography, Drama, Music            \\n\\n\\n\\n\\n8.5\\n\\n\\n\\n\\nRate this\\n\\n\\n\\n\\n\\n\\n\\xa0\\n\\xa0\\n\\n1\\n2\\n3\\n4\\n5\\n6\\n7\\n8\\n9\\n10\\n\\n8.5/10\\nX\\n\\xa0\\n\\n\\n\\n85        \\n        Metascore\\n            \\n\\n\\n    A Polish Jewish musician struggles to survive the destruction of the Warsaw ghetto of World War II.\\n\\n    Director:\\nRoman Polanski\\n| \\n    Stars:\\nAdrien Brody, \\nThomas Kretschmann, \\nFrank Finlay, \\nEmilia Fox\\n\\n\\nVotes:\\n737,662\\n| Gross:\\n$32.57M\\n\\n\\n\\n\\n\\n\\n\\n\\n \\n \\n\\n\\n41.\\nGladiator\\n(2000)\\n\\n\\nUA\\n|\\n155 min\\n|\\n\\nAction, Adventure, Drama            \\n\\n\\n\\n\\n8.5\\n\\n\\n\\n\\nRate this\\n\\n\\n\\n\\n\\n\\n\\xa0\\n\\xa0\\n\\n1\\n2\\n3\\n4\\n5\\n6\\n7\\n8\\n9\\n10\\n\\n8.5/10\\nX\\n\\xa0\\n\\n\\n\\n67        \\n        Metascore\\n            \\n\\n\\n    A former Roman General sets out to exact vengeance against the corrupt emperor who murdered his family and sent him into slavery.\\n\\n    Director:\\nRidley Scott\\n| \\n    Stars:\\nRussell Crowe, \\nJoaquin Phoenix, \\nConnie Nielsen, \\nOliver Reed\\n\\n\\nVotes:\\n1,351,861\\n| Gross:\\n$187.71M\\n\\n\\n\\n\\n\\n\\n\\n\\n \\n \\n\\n\\n42.\\nAmerican History X\\n(1998)\\n\\n\\nR\\n|\\n119 min\\n|\\n\\nDrama            \\n\\n\\n\\n\\n8.5\\n\\n\\n\\n\\nRate this\\n\\n\\n\\n\\n\\n\\n\\xa0\\n\\xa0\\n\\n1\\n2\\n3\\n4\\n5\\n6\\n7\\n8\\n9\\n10\\n\\n8.5/10\\nX\\n\\xa0\\n\\n\\n\\n62        \\n        Metascore\\n            \\n\\n\\n    A former neo-nazi skinhead tries to prevent his younger brother from going down the same wrong path that he did.\\n\\n    Director:\\nTony Kaye\\n| \\n    Stars:\\nEdward Norton, \\nEdward Furlong, \\nBeverly D\\'Angelo, \\nJennifer Lien\\n\\n\\nVotes:\\n1,041,205\\n| Gross:\\n$6.72M\\n\\n\\n\\n\\n\\n\\n\\n\\n \\n \\n\\n\\n43.\\nThe Usual Suspects\\n(1995)\\n\\n\\nA\\n|\\n106 min\\n|\\n\\nCrime, Mystery, Thriller            \\n\\n\\n\\n\\n8.5\\n\\n\\n\\n\\nRate this\\n\\n\\n\\n\\n\\n\\n\\xa0\\n\\xa0\\n\\n1\\n2\\n3\\n4\\n5\\n6\\n7\\n8\\n9\\n10\\n\\n8.5/10\\nX\\n\\xa0\\n\\n\\n\\n77        \\n        Metascore\\n            \\n\\n\\n    A sole survivor tells of the twisty events leading up to a horrific gun battle on a boat, which began when five criminals met at a seemingly random police lineup.\\n\\n    Director:\\nBryan Singer\\n| \\n    Stars:\\nKevin Spacey, \\nGabriel Byrne, \\nChazz Palminteri, \\nStephen Baldwin\\n\\n\\nVotes:\\n998,326\\n| Gross:\\n$23.34M\\n\\n\\n\\n\\n\\n\\n\\n\\n \\n \\n\\n\\n44.\\nLéon\\n(1994)\\n\\n\\nA\\n|\\n110 min\\n|\\n\\nAction, Crime, Drama            \\n\\n\\n\\n\\n8.5\\n\\n\\n\\n\\nRate this\\n\\n\\n\\n\\n\\n\\n\\xa0\\n\\xa0\\n\\n1\\n2\\n3\\n4\\n5\\n6\\n7\\n8\\n9\\n10\\n\\n8.5/10\\nX\\n\\xa0\\n\\n\\n\\n64        \\n        Metascore\\n            \\n\\n\\n    Mathilda, a 12-year-old girl, is reluctantly taken in by Léon, a professional assassin, after her family is murdered. An unusual relationship forms as she becomes his protégée and learns the assassin\\'s trade.\\n\\n    Director:\\nLuc Besson\\n| \\n    Stars:\\nJean Reno, \\nGary Oldman, \\nNatalie Portman, \\nDanny Aiello\\n\\n\\nVotes:\\n1,044,409\\n| Gross:\\n$19.50M\\n\\n\\n\\n\\n\\n\\n\\n\\n \\n \\n\\n\\n45.\\nThe Lion King\\n(1994)\\n\\n\\nU\\n|\\n88 min\\n|\\n\\nAnimation, Adventure, Drama            \\n\\n\\n\\n\\n8.5\\n\\n\\n\\n\\nRate this\\n\\n\\n\\n\\n\\n\\n\\xa0\\n\\xa0\\n\\n1\\n2\\n3\\n4\\n5\\n6\\n7\\n8\\n9\\n10\\n\\n8.5/10\\nX\\n\\xa0\\n\\n\\n\\n88        \\n        Metascore\\n            \\n\\n\\n    Lion prince Simba and his father are targeted by his bitter uncle, who wants to ascend the throne himself.\\n\\n    Directors:\\nRoger Allers, \\nRob Minkoff\\n| \\n    Stars:\\nMatthew Broderick, \\nJeremy Irons, \\nJames Earl Jones, \\nWhoopi Goldberg\\n\\n\\nVotes:\\n950,515\\n| Gross:\\n$422.78M\\n\\n\\n\\n\\n\\n\\n\\n\\n \\n \\n\\n\\n46.\\nTerminator 2: Judgment Day\\n(1991)\\n\\n\\nU\\n|\\n137 min\\n|\\n\\nAction, Sci-Fi            \\n\\n\\n\\n\\n8.5\\n\\n\\n\\n\\nRate this\\n\\n\\n\\n\\n\\n\\n\\xa0\\n\\xa0\\n\\n1\\n2\\n3\\n4\\n5\\n6\\n7\\n8\\n9\\n10\\n\\n8.5/10\\nX\\n\\xa0\\n\\n\\n\\n75        \\n        Metascore\\n            \\n\\n\\n    A cyborg, identical to the one who failed to kill Sarah Connor, must now protect her ten year old son, John Connor, from a more advanced and powerful cyborg.\\n\\n    Director:\\nJames Cameron\\n| \\n    Stars:\\nArnold Schwarzenegger, \\nLinda Hamilton, \\nEdward Furlong, \\nRobert Patrick\\n\\n\\nVotes:\\n1,001,863\\n| Gross:\\n$204.84M\\n\\n\\n\\n\\n\\n\\n\\n\\n \\n \\n\\n\\n47.\\nNuovo Cinema Paradiso\\n(1988)\\n\\n\\nU\\n|\\n155 min\\n|\\n\\nDrama, Romance            \\n\\n\\n\\n\\n8.5\\n\\n\\n\\n\\nRate this\\n\\n\\n\\n\\n\\n\\n\\xa0\\n\\xa0\\n\\n1\\n2\\n3\\n4\\n5\\n6\\n7\\n8\\n9\\n10\\n\\n8.5/10\\nX\\n\\xa0\\n\\n\\n\\n80        \\n        Metascore\\n            \\n\\n\\n    A filmmaker recalls his childhood when falling in love with the pictures at the cinema of his home village and forms a deep friendship with the cinema\\'s projectionist.\\n\\n    Director:\\nGiuseppe Tornatore\\n| \\n    Stars:\\nPhilippe Noiret, \\nEnzo Cannavale, \\nAntonella Attili, \\nIsa Danieli\\n\\n\\nVotes:\\n233,198\\n| Gross:\\n$11.99M\\n\\n\\n\\n\\n\\n\\n\\n\\n \\n \\n\\n\\n48.\\nHotaru no haka\\n(1988)\\n\\n\\nU\\n|\\n89 min\\n|\\n\\nAnimation, Drama, War            \\n\\n\\n\\n\\n8.5\\n\\n\\n\\n\\nRate this\\n\\n\\n\\n\\n\\n\\n\\xa0\\n\\xa0\\n\\n1\\n2\\n3\\n4\\n5\\n6\\n7\\n8\\n9\\n10\\n\\n8.5/10\\nX\\n\\xa0\\n\\n\\n\\n94        \\n        Metascore\\n            \\n\\n\\n    A young boy and his little sister struggle to survive in Japan during World War II.\\n\\n    Director:\\nIsao Takahata\\n| \\n    Stars:\\nTsutomu Tatsumi, \\nAyano Shiraishi, \\nAkemi Yamaguchi, \\nYoshiko Shinohara\\n\\n\\nVotes:\\n238,436\\n\\n\\n\\n\\n\\n\\n\\n\\n \\n \\n\\n\\n49.\\nBack to the Future\\n(1985)\\n\\n\\nU\\n|\\n116 min\\n|\\n\\nAdventure, Comedy, Sci-Fi            \\n\\n\\n\\n\\n8.5\\n\\n\\n\\n\\nRate this\\n\\n\\n\\n\\n\\n\\n\\xa0\\n\\xa0\\n\\n1\\n2\\n3\\n4\\n5\\n6\\n7\\n8\\n9\\n10\\n\\n8.5/10\\nX\\n\\xa0\\n\\n\\n\\n87        \\n        Metascore\\n            \\n\\n\\n    Marty McFly, a 17-year-old high school student, is accidentally sent thirty years into the past in a time-traveling DeLorean invented by his close friend, the eccentric scientist Doc Brown.\\n\\n    Director:\\nRobert Zemeckis\\n| \\n    Stars:\\nMichael J. Fox, \\nChristopher Lloyd, \\nLea Thompson, \\nCrispin Glover\\n\\n\\nVotes:\\n1,067,815\\n| Gross:\\n$210.61M\\n\\n\\n\\n\\n\\n\\n\\n\\n \\n \\n\\n\\n50.\\nOnce Upon a Time in the West\\n(1968)\\n\\n\\nU\\n|\\n165 min\\n|\\n\\nWestern            \\n\\n\\n\\n\\n8.5\\n\\n\\n\\n\\nRate this\\n\\n\\n\\n\\n\\n\\n\\xa0\\n\\xa0\\n\\n1\\n2\\n3\\n4\\n5\\n6\\n7\\n8\\n9\\n10\\n\\n8.5/10\\nX\\n\\xa0\\n\\n\\n\\n80        \\n        Metascore\\n            \\n\\n\\n    A mysterious stranger with a harmonica joins forces with a notorious desperado to protect a beautiful widow from a ruthless assassin working for the railroad.\\n\\n    Director:\\nSergio Leone\\n| \\n    Stars:\\nHenry Fonda, \\nCharles Bronson, \\nClaudia Cardinale, \\nJason Robards\\n\\n\\nVotes:\\n305,023\\n| Gross:\\n$5.32M\\n\\n\\n\\n\\n\\n\\n\\n\\n \\n \\n\\n\\n51.\\nPsycho\\n(1960)\\n\\n\\nA\\n|\\n109 min\\n|\\n\\nHorror, Mystery, Thriller            \\n\\n\\n\\n\\n8.5\\n\\n\\n\\n\\nRate this\\n\\n\\n\\n\\n\\n\\n\\xa0\\n\\xa0\\n\\n1\\n2\\n3\\n4\\n5\\n6\\n7\\n8\\n9\\n10\\n\\n8.5/10\\nX\\n\\xa0\\n\\n\\n\\n97        \\n        Metascore\\n            \\n\\n\\n    A Phoenix secretary embezzles $40,000 from her employer\\'s client, goes on the run, and checks into a remote motel run by a young man under the domination of his mother.\\n\\n    Director:\\nAlfred Hitchcock\\n| \\n    Stars:\\nAnthony Perkins, \\nJanet Leigh, \\nVera Miles, \\nJohn Gavin\\n\\n\\nVotes:\\n609,197\\n| Gross:\\n$32.00M\\n\\n\\n\\n\\n\\n\\n\\n\\n \\n \\n\\n\\n52.\\nCasablanca\\n(1942)\\n\\n\\nU\\n|\\n102 min\\n|\\n\\nDrama, Romance, War            \\n\\n\\n\\n\\n8.5\\n\\n\\n\\n\\nRate this\\n\\n\\n\\n\\n\\n\\n\\xa0\\n\\xa0\\n\\n1\\n2\\n3\\n4\\n5\\n6\\n7\\n8\\n9\\n10\\n\\n8.5/10\\nX\\n\\xa0\\n\\n\\n\\n100        \\n        Metascore\\n            \\n\\n\\n    A cynical expatriate American cafe owner struggles to decide whether or not to help his former lover and her fugitive husband escape the Nazis in French Morocco.\\n\\n    Director:\\nMichael Curtiz\\n| \\n    Stars:\\nHumphrey Bogart, \\nIngrid Bergman, \\nPaul Henreid, \\nClaude Rains\\n\\n\\nVotes:\\n525,941\\n| Gross:\\n$1.02M\\n\\n\\n\\n\\n\\n\\n\\n\\n \\n \\n\\n\\n53.\\nModern Times\\n(1936)\\n\\n\\n87 min\\n|\\n\\nComedy, Drama, Family            \\n\\n\\n\\n\\n8.5\\n\\n\\n\\n\\nRate this\\n\\n\\n\\n\\n\\n\\n\\xa0\\n\\xa0\\n\\n1\\n2\\n3\\n4\\n5\\n6\\n7\\n8\\n9\\n10\\n\\n8.5/10\\nX\\n\\xa0\\n\\n\\n\\n96        \\n        Metascore\\n            \\n\\n\\n    The Tramp struggles to live in modern industrial society with the help of a young homeless woman.\\n\\n    Director:\\nCharles Chaplin\\n| \\n    Stars:\\nCharles Chaplin, \\nPaulette Goddard, \\nHenry Bergman, \\nTiny Sandford\\n\\n\\nVotes:\\n219,990\\n| Gross:\\n$0.16M\\n\\n\\n\\n\\n\\n\\n\\n\\n \\n \\n\\n\\n54.\\nCity Lights\\n(1931)\\n\\n\\nG\\n|\\n87 min\\n|\\n\\nComedy, Drama, Romance            \\n\\n\\n\\n\\n8.5\\n\\n\\n\\n\\nRate this\\n\\n\\n\\n\\n\\n\\n\\xa0\\n\\xa0\\n\\n1\\n2\\n3\\n4\\n5\\n6\\n7\\n8\\n9\\n10\\n\\n8.5/10\\nX\\n\\xa0\\n\\n\\n\\n99        \\n        Metascore\\n            \\n\\n\\n    With the aid of a wealthy erratic tippler, a dewy-eyed tramp who has fallen in love with a sightless flower girl accumulates money to be able to help her medically.\\n\\n    Director:\\nCharles Chaplin\\n| \\n    Stars:\\nCharles Chaplin, \\nVirginia Cherrill, \\nFlorence Lee, \\nHarry Myers\\n\\n\\nVotes:\\n169,297\\n| Gross:\\n$0.02M\\n\\n\\n\\n\\n\\n\\n\\n\\n \\n \\n\\n\\n55.\\nCapharnaüm\\n(2018)\\n\\n\\nA\\n|\\n126 min\\n|\\n\\nDrama            \\n\\n\\n\\n\\n8.4\\n\\n\\n\\n\\nRate this\\n\\n\\n\\n\\n\\n\\n\\xa0\\n\\xa0\\n\\n1\\n2\\n3\\n4\\n5\\n6\\n7\\n8\\n9\\n10\\n\\n8.4/10\\nX\\n\\xa0\\n\\n\\n\\n75        \\n        Metascore\\n            \\n\\n\\n    While serving a five-year sentence for a violent crime, a 12-year-old boy sues his parents for neglect.\\n\\n    Director:\\nNadine Labaki\\n| \\n    Stars:\\nZain Al Rafeea, \\nYordanos Shiferaw, \\nBoluwatife Treasure Bankole, \\nKawsar Al Haddad\\n\\n\\nVotes:\\n65,256\\n| Gross:\\n$1.66M\\n\\n\\n\\n\\n\\n\\n\\n\\n \\n \\n\\n\\n56.\\nJoker\\n(2019)\\n\\n\\nA\\n|\\n122 min\\n|\\n\\nCrime, Drama, Thriller            \\n\\n\\n\\n\\n8.4\\n\\n\\n\\n\\nRate this\\n\\n\\n\\n\\n\\n\\n\\xa0\\n\\xa0\\n\\n1\\n2\\n3\\n4\\n5\\n6\\n7\\n8\\n9\\n10\\n\\n8.4/10\\nX\\n\\xa0\\n\\n\\n\\n59        \\n        Metascore\\n            \\n\\n\\n    In Gotham City, mentally troubled comedian Arthur Fleck is disregarded and mistreated by society. He then embarks on a downward spiral of revolution and bloody crime. This path brings him face-to-face with his alter-ego: the Joker.\\n\\n    Director:\\nTodd Phillips\\n| \\n    Stars:\\nJoaquin Phoenix, \\nRobert De Niro, \\nZazie Beetz, \\nFrances Conroy\\n\\n\\nVotes:\\n963,389\\n| Gross:\\n$335.45M\\n\\n\\n\\n\\n\\n\\n\\n\\n \\n \\n\\n\\n57.\\nAyla: The Daughter of War\\n(2017)\\n\\n\\n125 min\\n|\\n\\nBiography, Drama, History            \\n\\n\\n\\n\\n8.4\\n\\n\\n\\n\\nRate this\\n\\n\\n\\n\\n\\n\\n\\xa0\\n\\xa0\\n\\n1\\n2\\n3\\n4\\n5\\n6\\n7\\n8\\n9\\n10\\n\\n8.4/10\\nX\\n\\xa0\\n\\n\\n\\n\\n    In 1950, amid-st the ravages of the Korean War, Sergeant Süleyman stumbles upon a half-frozen little girl, with no parents and no help in sight. Frantic, scared and on the verge of death, ...                See full summary\\xa0»\\n\\n\\n    Director:\\nCan Ulkay\\n| \\n    Stars:\\nÇetin Tekindor, \\nIsmail Hacioglu, \\nKyung-jin Lee, \\nKim Seol\\n\\n\\nVotes:\\n34,710\\n\\n\\n\\n\\n\\n\\n\\n\\n \\n \\n\\n\\n58.\\nVikram Vedha\\n(2017)\\n\\n\\nUA\\n|\\n147 min\\n|\\n\\nAction, Crime, Drama            \\n\\n\\n\\n\\n8.4\\n\\n\\n\\n\\nRate this\\n\\n\\n\\n\\n\\n\\n\\xa0\\n\\xa0\\n\\n1\\n2\\n3\\n4\\n5\\n6\\n7\\n8\\n9\\n10\\n\\n8.4/10\\nX\\n\\xa0\\n\\n\\n\\n\\n    Vikram, a no-nonsense police officer, accompanied by Simon, his partner, is on the hunt to capture Vedha, a smuggler and a murderer. Vedha tries to change Vikram\\'s life, which leads to a conflict.\\n\\n    Directors:\\nGayatri, \\nPushkar\\n| \\n    Stars:\\nMadhavan, \\nVijay Sethupathi, \\nShraddha Srinath, \\nKathir\\n\\n\\nVotes:\\n29,132\\n\\n\\n\\n\\n\\n\\n\\n\\n \\n \\n\\n\\n59.\\nKimi no na wa.\\n(2016)\\n\\n\\nU\\n|\\n106 min\\n|\\n\\nAnimation, Drama, Fantasy            \\n\\n\\n\\n\\n8.4\\n\\n\\n\\n\\nRate this\\n\\n\\n\\n\\n\\n\\n\\xa0\\n\\xa0\\n\\n1\\n2\\n3\\n4\\n5\\n6\\n7\\n8\\n9\\n10\\n\\n8.4/10\\nX\\n\\xa0\\n\\n\\n\\n79        \\n        Metascore\\n            \\n\\n\\n    Two strangers find themselves linked in a bizarre way. When a connection forms, will distance be the only thing to keep them apart?\\n\\n    Director:\\nMakoto Shinkai\\n| \\n    Stars:\\nRyûnosuke Kamiki, \\nMone Kamishiraishi, \\nRyô Narita, \\nAoi Yûki\\n\\n\\nVotes:\\n200,630\\n| Gross:\\n$5.02M\\n\\n\\n\\n\\n\\n\\n\\n\\n \\n \\n\\n\\n60.\\nDangal\\n(2016)\\n\\n\\nU\\n|\\n161 min\\n|\\n\\nAction, Biography, Drama            \\n\\n\\n\\n\\n8.4\\n\\n\\n\\n\\nRate this\\n\\n\\n\\n\\n\\n\\n\\xa0\\n\\xa0\\n\\n1\\n2\\n3\\n4\\n5\\n6\\n7\\n8\\n9\\n10\\n\\n8.4/10\\nX\\n\\xa0\\n\\n\\n\\n\\n    Former wrestler Mahavir Singh Phogat and his two wrestler daughters struggle towards glory at the Commonwealth Games in the face of societal oppression.\\n\\n    Director:\\nNitesh Tiwari\\n| \\n    Stars:\\nAamir Khan, \\nSakshi Tanwar, \\nFatima Sana Shaikh, \\nSanya Malhotra\\n\\n\\nVotes:\\n158,974\\n| Gross:\\n$12.39M\\n\\n\\n\\n\\n\\n\\n\\n\\n \\n \\n\\n\\n61.\\nSpider-Man: Into the Spider-Verse\\n(2018)\\n\\n\\nU\\n|\\n117 min\\n|\\n\\nAnimation, Action, Adventure            \\n\\n\\n\\n\\n8.4\\n\\n\\n\\n\\nRate this\\n\\n\\n\\n\\n\\n\\n\\xa0\\n\\xa0\\n\\n1\\n2\\n3\\n4\\n5\\n6\\n7\\n8\\n9\\n10\\n\\n8.4/10\\nX\\n\\xa0\\n\\n\\n\\n87        \\n        Metascore\\n            \\n\\n\\n    Teen Miles Morales becomes the Spider-Man of his universe, and must join with five spider-powered individuals from other dimensions to stop a threat for all realities.\\n\\n    Directors:\\nBob Persichetti, \\nPeter Ramsey, \\nRodney Rothman\\n| \\n    Stars:\\nShameik Moore, \\nJake Johnson, \\nHailee Steinfeld, \\nMahershala Ali\\n\\n\\nVotes:\\n385,227\\n| Gross:\\n$190.24M\\n\\n\\n\\n\\n\\n\\n\\n\\n \\n \\n\\n\\n62.\\nAvengers: Endgame\\n(2019)\\n\\n\\nUA\\n|\\n181 min\\n|\\n\\nAction, Adventure, Drama            \\n\\n\\n\\n\\n8.4\\n\\n\\n\\n\\nRate this\\n\\n\\n\\n\\n\\n\\n\\xa0\\n\\xa0\\n\\n1\\n2\\n3\\n4\\n5\\n6\\n7\\n8\\n9\\n10\\n\\n8.4/10\\nX\\n\\xa0\\n\\n\\n\\n78        \\n        Metascore\\n            \\n\\n\\n    After the devastating events of Avengers: Infinity War (2018), the universe is in ruins. With the help of remaining allies, the Avengers assemble once more in order to reverse Thanos\\' actions and restore balance to the universe.\\n\\n    Directors:\\nAnthony Russo, \\nJoe Russo\\n| \\n    Stars:\\nRobert Downey Jr., \\nChris Evans, \\nMark Ruffalo, \\nChris Hemsworth\\n\\n\\nVotes:\\n833,660\\n| Gross:\\n$858.37M\\n\\n\\n\\n\\n\\n\\n\\n\\n \\n \\n\\n\\n63.\\nAvengers: Infinity War\\n(2018)\\n\\n\\nUA\\n|\\n149 min\\n|\\n\\nAction, Adventure, Sci-Fi            \\n\\n\\n\\n\\n8.4\\n\\n\\n\\n\\nRate this\\n\\n\\n\\n\\n\\n\\n\\xa0\\n\\xa0\\n\\n1\\n2\\n3\\n4\\n5\\n6\\n7\\n8\\n9\\n10\\n\\n8.4/10\\nX\\n\\xa0\\n\\n\\n\\n68        \\n        Metascore\\n            \\n\\n\\n    The Avengers and their allies must be willing to sacrifice all in an attempt to defeat the powerful Thanos before his blitz of devastation and ruin puts an end to the universe.\\n\\n    Directors:\\nAnthony Russo, \\nJoe Russo\\n| \\n    Stars:\\nRobert Downey Jr., \\nChris Hemsworth, \\nMark Ruffalo, \\nChris Evans\\n\\n\\nVotes:\\n850,148\\n| Gross:\\n$678.82M\\n\\n\\n\\n\\n\\n\\n\\n\\n \\n \\n\\n\\n64.\\nDrishyam\\n(2013)\\n\\n\\nU\\n|\\n160 min\\n|\\n\\nCrime, Drama, Thriller            \\n\\n\\n\\n\\n8.4\\n\\n\\n\\n\\nRate this\\n\\n\\n\\n\\n\\n\\n\\xa0\\n\\xa0\\n\\n1\\n2\\n3\\n4\\n5\\n6\\n7\\n8\\n9\\n10\\n\\n8.4/10\\nX\\n\\xa0\\n\\n\\n\\n\\n    A man goes to extreme lengths to save his family from punishment after the family commits an accidental crime.\\n\\n    Director:\\nJeethu Joseph\\n| \\n    Stars:\\nMohanlal, \\nMeena, \\nAsha Sharath, \\nAnsiba\\n\\n\\nVotes:\\n33,613\\n\\n\\n\\n\\n\\n\\n\\n\\n \\n \\n\\n\\n65.\\nCoco\\n(I) (2017)\\n\\n\\nU\\n|\\n105 min\\n|\\n\\nAnimation, Adventure, Family            \\n\\n\\n\\n\\n8.4\\n\\n\\n\\n\\nRate this\\n\\n\\n\\n\\n\\n\\n\\xa0\\n\\xa0\\n\\n1\\n2\\n3\\n4\\n5\\n6\\n7\\n8\\n9\\n10\\n\\n8.4/10\\nX\\n\\xa0\\n\\n\\n\\n81        \\n        Metascore\\n            \\n\\n\\n    Aspiring musician Miguel, confronted with his family\\'s ancestral ban on music, enters the Land of the Dead to find his great-great-grandfather, a legendary singer.\\n\\n    Directors:\\nLee Unkrich, \\nAdrian Molina\\n| \\n    Stars:\\nAnthony Gonzalez, \\nGael García Bernal, \\nBenjamin Bratt, \\nAlanna Ubach\\n\\n\\nVotes:\\n393,393\\n| Gross:\\n$209.73M\\n\\n\\n\\n\\n\\n\\n\\n\\n \\n \\n\\n\\n66.\\nDjango Unchained\\n(2012)\\n\\n\\nA\\n|\\n165 min\\n|\\n\\nDrama, Western            \\n\\n\\n\\n\\n8.4\\n\\n\\n\\n\\nRate this\\n\\n\\n\\n\\n\\n\\n\\xa0\\n\\xa0\\n\\n1\\n2\\n3\\n4\\n5\\n6\\n7\\n8\\n9\\n10\\n\\n8.4/10\\nX\\n\\xa0\\n\\n\\n\\n81        \\n        Metascore\\n            \\n\\n\\n    With the help of a German bounty-hunter, a freed slave sets out to rescue his wife from a brutal plantation-owner in Mississippi.\\n\\n    Director:\\nQuentin Tarantino\\n| \\n    Stars:\\nJamie Foxx, \\nChristoph Waltz, \\nLeonardo DiCaprio, \\nKerry Washington\\n\\n\\nVotes:\\n1,371,153\\n| Gross:\\n$162.81M\\n\\n\\n\\n\\n\\n\\n\\n\\n \\n \\n\\n\\n67.\\nThe Dark Knight Rises\\n(2012)\\n\\n\\nUA\\n|\\n164 min\\n|\\n\\nAction, Adventure            \\n\\n\\n\\n\\n8.4\\n\\n\\n\\n\\nRate this\\n\\n\\n\\n\\n\\n\\n\\xa0\\n\\xa0\\n\\n1\\n2\\n3\\n4\\n5\\n6\\n7\\n8\\n9\\n10\\n\\n8.4/10\\nX\\n\\xa0\\n\\n\\n\\n78        \\n        Metascore\\n            \\n\\n\\n    Eight years after the Joker\\'s reign of anarchy, Batman, with the help of the enigmatic Catwoman, is forced from his exile to save Gotham City from the brutal guerrilla terrorist Bane.\\n\\n    Director:\\nChristopher Nolan\\n| \\n    Stars:\\nChristian Bale, \\nTom Hardy, \\nAnne Hathaway, \\nGary Oldman\\n\\n\\nVotes:\\n1,527,225\\n| Gross:\\n$448.14M\\n\\n\\n\\n\\n\\n\\n\\n\\n \\n \\n\\n\\n68.\\n3 Idiots\\n(2009)\\n\\n\\nUA\\n|\\n170 min\\n|\\n\\nComedy, Drama            \\n\\n\\n\\n\\n8.4\\n\\n\\n\\n\\nRate this\\n\\n\\n\\n\\n\\n\\n\\xa0\\n\\xa0\\n\\n1\\n2\\n3\\n4\\n5\\n6\\n7\\n8\\n9\\n10\\n\\n8.4/10\\nX\\n\\xa0\\n\\n\\n\\n67        \\n        Metascore\\n            \\n\\n\\n    Two friends are searching for their long lost companion. They revisit their college days and recall the memories of their friend who inspired them to think differently, even as the rest of the world called them \"idiots\".\\n\\n    Director:\\nRajkumar Hirani\\n| \\n    Stars:\\nAamir Khan, \\nMadhavan, \\nMona Singh, \\nSharman Joshi\\n\\n\\nVotes:\\n347,982\\n| Gross:\\n$6.53M\\n\\n\\n\\n\\n\\n\\n\\n\\n \\n \\n\\n\\n69.\\nDara iz Jasenovca\\n(2020)\\n\\n\\nR\\n|\\n130 min\\n|\\n\\nDrama, War            \\n\\n\\n\\n\\n8.4\\n\\n\\n\\n\\nRate this\\n\\n\\n\\n\\n\\n\\n\\xa0\\n\\xa0\\n\\n1\\n2\\n3\\n4\\n5\\n6\\n7\\n8\\n9\\n10\\n\\n8.4/10\\nX\\n\\xa0\\n\\n\\n\\n\\n    Follows the story of a young girl named Dara who is sent to a concentration camp in Croatia during World War 2.\\n\\n    Director:\\nPredrag Antonijevic\\n| \\n    Stars:\\nBiljana Cekic, \\nZlatan Vidovic, \\nAnja Stanic, \\nLuka Saranovic\\n\\n\\nVotes:\\n33,717\\n\\n\\n\\n\\n\\n\\n\\n\\n \\n \\n\\n\\n70.\\nTaare Zameen Par\\n(2007)\\n\\n\\nU\\n|\\n165 min\\n|\\n\\nDrama, Family            \\n\\n\\n\\n\\n8.4\\n\\n\\n\\n\\nRate this\\n\\n\\n\\n\\n\\n\\n\\xa0\\n\\xa0\\n\\n1\\n2\\n3\\n4\\n5\\n6\\n7\\n8\\n9\\n10\\n\\n8.4/10\\nX\\n\\xa0\\n\\n\\n\\n\\n    An eight-year-old boy is thought to be a lazy trouble-maker, until the new art teacher has the patience and compassion to discover the real problem behind his struggles in school.\\n\\n    Directors:\\nAamir Khan, \\nAmole Gupte\\n| \\n    Stars:\\nDarsheel Safary, \\nAamir Khan, \\nTisca Chopra, \\nVipin Sharma\\n\\n\\nVotes:\\n171,159\\n| Gross:\\n$1.22M\\n\\n\\n\\n\\n\\n\\n\\n\\n \\n \\n\\n\\n71.\\nWALL·E\\n(2008)\\n\\n\\nU\\n|\\n98 min\\n|\\n\\nAnimation, Adventure, Family            \\n\\n\\n\\n\\n8.4\\n\\n\\n\\n\\nRate this\\n\\n\\n\\n\\n\\n\\n\\xa0\\n\\xa0\\n\\n1\\n2\\n3\\n4\\n5\\n6\\n7\\n8\\n9\\n10\\n\\n8.4/10\\nX\\n\\xa0\\n\\n\\n\\n95        \\n        Metascore\\n            \\n\\n\\n    In the distant future, a small waste-collecting robot inadvertently embarks on a space journey that will ultimately decide the fate of mankind.\\n\\n    Director:\\nAndrew Stanton\\n| \\n    Stars:\\nBen Burtt, \\nElissa Knight, \\nJeff Garlin, \\nFred Willard\\n\\n\\nVotes:\\n1,008,000\\n| Gross:\\n$223.81M\\n\\n\\n\\n\\n\\n\\n\\n\\n \\n \\n\\n\\n72.\\nThe Lives of Others\\n(2006)\\n\\n\\nA\\n|\\n137 min\\n|\\n\\nDrama, Mystery, Thriller            \\n\\n\\n\\n\\n8.4\\n\\n\\n\\n\\nRate this\\n\\n\\n\\n\\n\\n\\n\\xa0\\n\\xa0\\n\\n1\\n2\\n3\\n4\\n5\\n6\\n7\\n8\\n9\\n10\\n\\n8.4/10\\nX\\n\\xa0\\n\\n\\n\\n89        \\n        Metascore\\n            \\n\\n\\n    In 1984 East Berlin, an agent of the secret police, conducting surveillance on a writer and his lover, finds himself becoming increasingly absorbed by their lives.\\n\\n    Director:\\nFlorian Henckel von Donnersmarck\\n| \\n    Stars:\\nUlrich Mühe, \\nMartina Gedeck, \\nSebastian Koch, \\nUlrich Tukur\\n\\n\\nVotes:\\n361,731\\n| Gross:\\n$11.29M\\n\\n\\n\\n\\n\\n\\n\\n\\n \\n \\n\\n\\n73.\\nOldeuboi\\n(2003)\\n\\n\\nA\\n|\\n101 min\\n|\\n\\nAction, Drama, Mystery            \\n\\n\\n\\n\\n8.4\\n\\n\\n\\n\\nRate this\\n\\n\\n\\n\\n\\n\\n\\xa0\\n\\xa0\\n\\n1\\n2\\n3\\n4\\n5\\n6\\n7\\n8\\n9\\n10\\n\\n8.4/10\\nX\\n\\xa0\\n\\n\\n\\n77        \\n        Metascore\\n            \\n\\n\\n    After being kidnapped and imprisoned for fifteen years, Oh Dae-Su is released, only to find that he must find his captor in five days.\\n\\n    Director:\\nChan-wook Park\\n| \\n    Stars:\\nChoi Min-sik, \\nYoo Ji-Tae, \\nKang Hye-jeong, \\nKim Byeong-Ok\\n\\n\\nVotes:\\n520,301\\n| Gross:\\n$0.71M\\n\\n\\n\\n\\n\\n\\n\\n\\n \\n \\n\\n\\n74.\\nMemento\\n(2000)\\n\\n\\nUA\\n|\\n113 min\\n|\\n\\nMystery, Thriller            \\n\\n\\n\\n\\n8.4\\n\\n\\n\\n\\nRate this\\n\\n\\n\\n\\n\\n\\n\\xa0\\n\\xa0\\n\\n1\\n2\\n3\\n4\\n5\\n6\\n7\\n8\\n9\\n10\\n\\n8.4/10\\nX\\n\\xa0\\n\\n\\n\\n80        \\n        Metascore\\n            \\n\\n\\n    A man with short-term memory loss attempts to track down his wife\\'s murderer.\\n\\n    Director:\\nChristopher Nolan\\n| \\n    Stars:\\nGuy Pearce, \\nCarrie-Anne Moss, \\nJoe Pantoliano, \\nMark Boone Junior\\n\\n\\nVotes:\\n1,133,862\\n| Gross:\\n$25.54M\\n\\n\\n\\n\\n\\n\\n\\n\\n \\n \\n\\n\\n75.\\nMononoke-hime\\n(1997)\\n\\n\\nU\\n|\\n134 min\\n|\\n\\nAnimation, Action, Adventure            \\n\\n\\n\\n\\n8.4\\n\\n\\n\\n\\nRate this\\n\\n\\n\\n\\n\\n\\n\\xa0\\n\\xa0\\n\\n1\\n2\\n3\\n4\\n5\\n6\\n7\\n8\\n9\\n10\\n\\n8.4/10\\nX\\n\\xa0\\n\\n\\n\\n76        \\n        Metascore\\n            \\n\\n\\n    On a journey to find the cure for a Tatarigami\\'s curse, Ashitaka finds himself in the middle of a war between the forest gods and Tatara, a mining colony. In this quest he also meets San, the Mononoke Hime.\\n\\n    Director:\\nHayao Miyazaki\\n| \\n    Stars:\\nYôji Matsuda, \\nYuriko Ishida, \\nYûko Tanaka, \\nBilly Crudup\\n\\n\\nVotes:\\n347,328\\n| Gross:\\n$2.38M\\n\\n\\n\\n\\n\\n\\n\\n\\n \\n \\n\\n\\n76.\\nOnce Upon a Time in America\\n(1984)\\n\\n\\nA\\n|\\n229 min\\n|\\n\\nCrime, Drama            \\n\\n\\n\\n\\n8.4\\n\\n\\n\\n\\nRate this\\n\\n\\n\\n\\n\\n\\n\\xa0\\n\\xa0\\n\\n1\\n2\\n3\\n4\\n5\\n6\\n7\\n8\\n9\\n10\\n\\n8.4/10\\nX\\n\\xa0\\n\\n\\n\\n\\n    A former Prohibition-era Jewish gangster returns to the Lower East Side of Manhattan over thirty years later, where he once again must confront the ghosts and regrets of his old life.\\n\\n    Director:\\nSergio Leone\\n| \\n    Stars:\\nRobert De Niro, \\nJames Woods, \\nElizabeth McGovern, \\nTreat Williams\\n\\n\\nVotes:\\n314,469\\n| Gross:\\n$5.32M\\n\\n\\n\\n\\n\\n\\n\\n\\n \\n \\n\\n\\n77.\\nRaiders of the Lost Ark\\n(1981)\\n\\n\\nA\\n|\\n115 min\\n|\\n\\nAction, Adventure            \\n\\n\\n\\n\\n8.4\\n\\n\\n\\n\\nRate this\\n\\n\\n\\n\\n\\n\\n\\xa0\\n\\xa0\\n\\n1\\n2\\n3\\n4\\n5\\n6\\n7\\n8\\n9\\n10\\n\\n8.4/10\\nX\\n\\xa0\\n\\n\\n\\n85        \\n        Metascore\\n            \\n\\n\\n    In 1936, archaeologist and adventurer Indiana Jones is hired by the U.S. government to find the Ark of the Covenant before Adolf Hitler\\'s Nazis can obtain its awesome powers.\\n\\n    Director:\\nSteven Spielberg\\n| \\n    Stars:\\nHarrison Ford, \\nKaren Allen, \\nPaul Freeman, \\nJohn Rhys-Davies\\n\\n\\nVotes:\\n889,620\\n| Gross:\\n$248.16M\\n\\n\\n\\n\\n\\n\\n\\n\\n \\n \\n\\n\\n78.\\nThe Shining\\n(1980)\\n\\n\\nA\\n|\\n146 min\\n|\\n\\nDrama, Horror            \\n\\n\\n\\n\\n8.4\\n\\n\\n\\n\\nRate this\\n\\n\\n\\n\\n\\n\\n\\xa0\\n\\xa0\\n\\n1\\n2\\n3\\n4\\n5\\n6\\n7\\n8\\n9\\n10\\n\\n8.4/10\\nX\\n\\xa0\\n\\n\\n\\n66        \\n        Metascore\\n            \\n\\n\\n    A family heads to an isolated hotel for the winter where a sinister presence influences the father into violence, while his psychic son sees horrific forebodings from both past and future.\\n\\n    Director:\\nStanley Kubrick\\n| \\n    Stars:\\nJack Nicholson, \\nShelley Duvall, \\nDanny Lloyd, \\nScatman Crothers\\n\\n\\nVotes:\\n906,530\\n| Gross:\\n$44.02M\\n\\n\\n\\n\\n\\n\\n\\n\\n \\n \\n\\n\\n79.\\nApocalypse Now\\n(1979)\\n\\n\\nR\\n|\\n147 min\\n|\\n\\nDrama, Mystery, War            \\n\\n\\n\\n\\n8.4\\n\\n\\n\\n\\nRate this\\n\\n\\n\\n\\n\\n\\n\\xa0\\n\\xa0\\n\\n1\\n2\\n3\\n4\\n5\\n6\\n7\\n8\\n9\\n10\\n\\n8.4/10\\nX\\n\\xa0\\n\\n\\n\\n94        \\n        Metascore\\n            \\n\\n\\n    A U.S. Army officer serving in Vietnam is tasked with assassinating a renegade Special Forces Colonel who sees himself as a god.\\n\\n    Director:\\nFrancis Ford Coppola\\n| \\n    Stars:\\nMartin Sheen, \\nMarlon Brando, \\nRobert Duvall, \\nFrederic Forrest\\n\\n\\nVotes:\\n611,245\\n| Gross:\\n$83.47M\\n\\n\\n\\n\\n\\n\\n\\n\\n \\n \\n\\n\\n80.\\nAlien\\n(1979)\\n\\n\\nR\\n|\\n117 min\\n|\\n\\nHorror, Sci-Fi            \\n\\n\\n\\n\\n8.4\\n\\n\\n\\n\\nRate this\\n\\n\\n\\n\\n\\n\\n\\xa0\\n\\xa0\\n\\n1\\n2\\n3\\n4\\n5\\n6\\n7\\n8\\n9\\n10\\n\\n8.4/10\\nX\\n\\xa0\\n\\n\\n\\n89        \\n        Metascore\\n            \\n\\n\\n    After a space merchant vessel receives an unknown transmission as a distress call, one of the crew is attacked by a mysterious life form and they soon realize that its life cycle has merely begun.\\n\\n    Director:\\nRidley Scott\\n| \\n    Stars:\\nSigourney Weaver, \\nTom Skerritt, \\nJohn Hurt, \\nVeronica Cartwright\\n\\n\\nVotes:\\n794,199\\n| Gross:\\n$78.90M\\n\\n\\n\\n\\n\\n\\n\\n\\n \\n \\n\\n\\n81.\\nTengoku to jigoku\\n(1963)\\n\\n\\n143 min\\n|\\n\\nCrime, Drama, Mystery            \\n\\n\\n\\n\\n8.4\\n\\n\\n\\n\\nRate this\\n\\n\\n\\n\\n\\n\\n\\xa0\\n\\xa0\\n\\n1\\n2\\n3\\n4\\n5\\n6\\n7\\n8\\n9\\n10\\n\\n8.4/10\\nX\\n\\xa0\\n\\n\\n\\n\\n    An executive of a shoe company becomes a victim of extortion when his chauffeur\\'s son is kidnapped and held for ransom.\\n\\n    Director:\\nAkira Kurosawa\\n| \\n    Stars:\\nToshirô Mifune, \\nYutaka Sada, \\nTatsuya Nakadai, \\nKyôko Kagawa\\n\\n\\nVotes:\\n35,351\\n\\n\\n\\n\\n\\n\\n\\n\\n \\n \\n\\n\\n82.\\nDr. Strangelove or: How I Learned to Stop Worrying and Love the Bomb\\n(1964)\\n\\n\\nA\\n|\\n95 min\\n|\\n\\nComedy            \\n\\n\\n\\n\\n8.4\\n\\n\\n\\n\\nRate this\\n\\n\\n\\n\\n\\n\\n\\xa0\\n\\xa0\\n\\n1\\n2\\n3\\n4\\n5\\n6\\n7\\n8\\n9\\n10\\n\\n8.4/10\\nX\\n\\xa0\\n\\n\\n\\n97        \\n        Metascore\\n            \\n\\n\\n    An insane general triggers a path to nuclear holocaust that a War Room full of politicians and generals frantically tries to stop.\\n\\n    Director:\\nStanley Kubrick\\n| \\n    Stars:\\nPeter Sellers, \\nGeorge C. Scott, \\nSterling Hayden, \\nKeenan Wynn\\n\\n\\nVotes:\\n453,677\\n| Gross:\\n$0.28M\\n\\n\\n\\n\\n\\n\\n\\n\\n \\n \\n\\n\\n83.\\nWitness for the Prosecution\\n(1957)\\n\\n\\nU\\n|\\n116 min\\n|\\n\\nCrime, Drama, Mystery            \\n\\n\\n\\n\\n8.4\\n\\n\\n\\n\\nRate this\\n\\n\\n\\n\\n\\n\\n\\xa0\\n\\xa0\\n\\n1\\n2\\n3\\n4\\n5\\n6\\n7\\n8\\n9\\n10\\n\\n8.4/10\\nX\\n\\xa0\\n\\n\\n\\n\\n    A veteran British barrister must defend his client in a murder trial that has surprise after surprise.\\n\\n    Director:\\nBilly Wilder\\n| \\n    Stars:\\nTyrone Power, \\nMarlene Dietrich, \\nCharles Laughton, \\nElsa Lanchester\\n\\n\\nVotes:\\n110,154\\n| Gross:\\n$8.18M\\n\\n\\n\\n\\n\\n\\n\\n\\n \\n \\n\\n\\n84.\\nPaths of Glory\\n(1957)\\n\\n\\nA\\n|\\n88 min\\n|\\n\\nDrama, War            \\n\\n\\n\\n\\n8.4\\n\\n\\n\\n\\nRate this\\n\\n\\n\\n\\n\\n\\n\\xa0\\n\\xa0\\n\\n1\\n2\\n3\\n4\\n5\\n6\\n7\\n8\\n9\\n10\\n\\n8.4/10\\nX\\n\\xa0\\n\\n\\n\\n90        \\n        Metascore\\n            \\n\\n\\n    After refusing to attack an enemy position, a general accuses the soldiers of cowardice and their commanding officer must defend them.\\n\\n    Director:\\nStanley Kubrick\\n| \\n    Stars:\\nKirk Douglas, \\nRalph Meeker, \\nAdolphe Menjou, \\nGeorge Macready\\n\\n\\nVotes:\\n179,948\\n\\n\\n\\n\\n\\n\\n\\n\\n \\n \\n\\n\\n85.\\nRear Window\\n(1954)\\n\\n\\nU\\n|\\n112 min\\n|\\n\\nMystery, Thriller            \\n\\n\\n\\n\\n8.4\\n\\n\\n\\n\\nRate this\\n\\n\\n\\n\\n\\n\\n\\xa0\\n\\xa0\\n\\n1\\n2\\n3\\n4\\n5\\n6\\n7\\n8\\n9\\n10\\n\\n8.4/10\\nX\\n\\xa0\\n\\n\\n\\n100        \\n        Metascore\\n            \\n\\n\\n    A wheelchair-bound photographer spies on his neighbors from his apartment window and becomes convinced one of them has committed murder.\\n\\n    Director:\\nAlfred Hitchcock\\n| \\n    Stars:\\nJames Stewart, \\nGrace Kelly, \\nWendell Corey, \\nThelma Ritter\\n\\n\\nVotes:\\n447,488\\n| Gross:\\n$36.76M\\n\\n\\n\\n\\n\\n\\n\\n\\n \\n \\n\\n\\n86.\\nSunset Blvd.\\n(1950)\\n\\n\\n110 min\\n|\\n\\nDrama, Film-Noir            \\n\\n\\n\\n\\n8.4\\n\\n\\n\\n\\nRate this\\n\\n\\n\\n\\n\\n\\n\\xa0\\n\\xa0\\n\\n1\\n2\\n3\\n4\\n5\\n6\\n7\\n8\\n9\\n10\\n\\n8.4/10\\nX\\n\\xa0\\n\\n\\n\\n\\n    A screenwriter develops a dangerous relationship with a faded film star determined to make a triumphant return.\\n\\n    Director:\\nBilly Wilder\\n| \\n    Stars:\\nWilliam Holden, \\nGloria Swanson, \\nErich von Stroheim, \\nNancy Olson\\n\\n\\nVotes:\\n203,269\\n\\n\\n\\n\\n\\n\\n\\n\\n \\n \\n\\n\\n87.\\nThe Great Dictator\\n(1940)\\n\\n\\n125 min\\n|\\n\\nComedy, Drama, War            \\n\\n\\n\\n\\n8.4\\n\\n\\n\\n\\nRate this\\n\\n\\n\\n\\n\\n\\n\\xa0\\n\\xa0\\n\\n1\\n2\\n3\\n4\\n5\\n6\\n7\\n8\\n9\\n10\\n\\n8.4/10\\nX\\n\\xa0\\n\\n\\n\\n\\n    Dictator Adenoid Hynkel tries to expand his empire while a poor Jewish barber tries to avoid persecution from Hynkel\\'s regime.\\n\\n    Director:\\nCharles Chaplin\\n| \\n    Stars:\\nCharles Chaplin, \\nPaulette Goddard, \\nJack Oakie, \\nReginald Gardiner\\n\\n\\nVotes:\\n204,770\\n| Gross:\\n$0.29M\\n\\n\\n\\n\\n\\n\\n\\n\\n \\n \\n\\n\\n88.\\n1917\\n(2019)\\n\\n\\nR\\n|\\n119 min\\n|\\n\\nDrama, Thriller, War            \\n\\n\\n\\n\\n8.3\\n\\n\\n\\n\\nRate this\\n\\n\\n\\n\\n\\n\\n\\xa0\\n\\xa0\\n\\n1\\n2\\n3\\n4\\n5\\n6\\n7\\n8\\n9\\n10\\n\\n8.3/10\\nX\\n\\xa0\\n\\n\\n\\n78        \\n        Metascore\\n            \\n\\n\\n    April 6th, 1917. As a regiment assembles to wage war deep in enemy territory, two soldiers are assigned to race against time and deliver a message that will stop 1,600 men from walking straight into a deadly trap.\\n\\n    Director:\\nSam Mendes\\n| \\n    Stars:\\nDean-Charles Chapman, \\nGeorge MacKay, \\nDaniel Mays, \\nColin Firth\\n\\n\\nVotes:\\n442,382\\n| Gross:\\n$159.23M\\n\\n\\n\\n\\n\\n\\n\\n\\n \\n \\n\\n\\n89.\\nTumbbad\\n(2018)\\n\\n\\nA\\n|\\n104 min\\n|\\n\\nDrama, Fantasy, Horror            \\n\\n\\n\\n\\n8.3\\n\\n\\n\\n\\nRate this\\n\\n\\n\\n\\n\\n\\n\\xa0\\n\\xa0\\n\\n1\\n2\\n3\\n4\\n5\\n6\\n7\\n8\\n9\\n10\\n\\n8.3/10\\nX\\n\\xa0\\n\\n\\n\\n\\n    A mythological story about a goddess who created the entire universe. The plot revolves around the consequences when humans build a temple for her first-born.\\n\\n    Directors:\\nRahi Anil Barve, \\nAnand Gandhi, \\nAdesh Prasad\\n| \\n    Stars:\\nSohum Shah, \\nJyoti Malshe, \\nAnita Date, \\nRonjini Chakraborty\\n\\n\\nVotes:\\n28,640\\n\\n\\n\\n\\n\\n\\n\\n\\n \\n \\n\\n\\n90.\\nAndhadhun\\n(2018)\\n\\n\\nUA\\n|\\n139 min\\n|\\n\\nCrime, Drama, Music            \\n\\n\\n\\n\\n8.3\\n\\n\\n\\n\\nRate this\\n\\n\\n\\n\\n\\n\\n\\xa0\\n\\xa0\\n\\n1\\n2\\n3\\n4\\n5\\n6\\n7\\n8\\n9\\n10\\n\\n8.3/10\\nX\\n\\xa0\\n\\n\\n\\n\\n    A series of mysterious events change the life of a blind pianist, who must now report a crime that he should technically know nothing of.\\n\\n    Director:\\nSriram Raghavan\\n| \\n    Stars:\\nAyushmann Khurrana, \\nTabu, \\nRadhika Apte, \\nAnil Dhawan\\n\\n\\nVotes:\\n73,540\\n| Gross:\\n$1.37M\\n\\n\\n\\n\\n\\n\\n\\n\\n \\n \\n\\n\\n91.\\nJagten\\n(2012)\\n\\n\\nR\\n|\\n115 min\\n|\\n\\nDrama            \\n\\n\\n\\n\\n8.3\\n\\n\\n\\n\\nRate this\\n\\n\\n\\n\\n\\n\\n\\xa0\\n\\xa0\\n\\n1\\n2\\n3\\n4\\n5\\n6\\n7\\n8\\n9\\n10\\n\\n8.3/10\\nX\\n\\xa0\\n\\n\\n\\n77        \\n        Metascore\\n            \\n\\n\\n    A teacher lives a lonely life, all the while struggling over his son\\'s custody. His life slowly gets better as he finds love and receives good news from his son, but his new luck is about to be brutally shattered by an innocent little lie.\\n\\n    Director:\\nThomas Vinterberg\\n| \\n    Stars:\\nMads Mikkelsen, \\nThomas Bo Larsen, \\nAnnika Wedderkopp, \\nLasse Fogelstrøm\\n\\n\\nVotes:\\n285,912\\n| Gross:\\n$0.69M\\n\\n\\n\\n\\n\\n\\n\\n\\n \\n \\n\\n\\n92.\\nJodaeiye Nader az Simin\\n(2011)\\n\\n\\n7\\n|\\n123 min\\n|\\n\\nDrama            \\n\\n\\n\\n\\n8.3\\n\\n\\n\\n\\nRate this\\n\\n\\n\\n\\n\\n\\n\\xa0\\n\\xa0\\n\\n1\\n2\\n3\\n4\\n5\\n6\\n7\\n8\\n9\\n10\\n\\n8.3/10\\nX\\n\\xa0\\n\\n\\n\\n95        \\n        Metascore\\n            \\n\\n\\n    A married couple are faced with a difficult decision - to improve the life of their child by moving to another country or to stay in Iran and look after a deteriorating parent who has Alzheimer\\'s disease.\\n\\n    Director:\\nAsghar Farhadi\\n| \\n    Stars:\\nPayman Maadi, \\nLeila Hatami, \\nSareh Bayat, \\nShahab Hosseini\\n\\n\\nVotes:\\n222,033\\n| Gross:\\n$7.10M\\n\\n\\n\\n\\n\\n\\n\\n\\n \\n \\n\\n\\n93.\\nIncendies\\n(2010)\\n\\n\\nR\\n|\\n131 min\\n|\\n\\nDrama, Mystery, War            \\n\\n\\n\\n\\n8.3\\n\\n\\n\\n\\nRate this\\n\\n\\n\\n\\n\\n\\n\\xa0\\n\\xa0\\n\\n1\\n2\\n3\\n4\\n5\\n6\\n7\\n8\\n9\\n10\\n\\n8.3/10\\nX\\n\\xa0\\n\\n\\n\\n80        \\n        Metascore\\n            \\n\\n\\n    Twins journey to the Middle East to discover their family history and fulfill their mother\\'s last wishes.\\n\\n    Director:\\nDenis Villeneuve\\n| \\n    Stars:\\nLubna Azabal, \\nMélissa Désormeaux-Poulin, \\nMaxim Gaudette, \\nMustafa Kamel\\n\\n\\nVotes:\\n152,393\\n| Gross:\\n$6.86M\\n\\n\\n\\n\\n\\n\\n\\n\\n \\n \\n\\n\\n94.\\nBabam ve Oglum\\n(2005)\\n\\n\\n112 min\\n|\\n\\nDrama, Family            \\n\\n\\n\\n\\n8.3\\n\\n\\n\\n\\nRate this\\n\\n\\n\\n\\n\\n\\n\\xa0\\n\\xa0\\n\\n1\\n2\\n3\\n4\\n5\\n6\\n7\\n8\\n9\\n10\\n\\n8.3/10\\nX\\n\\xa0\\n\\n\\n\\n\\n    The family of a left-wing journalist is torn apart after the military coup of Turkey in 1980.\\n\\n    Director:\\nÇagan Irmak\\n| \\n    Stars:\\nEser Sariyar, \\nÇetin Tekindor, \\nFikret Kuskan, \\nHümeyra\\n\\n\\nVotes:\\n79,780\\n\\n\\n\\n\\n\\n\\n\\n\\n \\n \\n\\n\\n95.\\nInglourious Basterds\\n(2009)\\n\\n\\nA\\n|\\n153 min\\n|\\n\\nAdventure, Drama, War            \\n\\n\\n\\n\\n8.3\\n\\n\\n\\n\\nRate this\\n\\n\\n\\n\\n\\n\\n\\xa0\\n\\xa0\\n\\n1\\n2\\n3\\n4\\n5\\n6\\n7\\n8\\n9\\n10\\n\\n8.3/10\\nX\\n\\xa0\\n\\n\\n\\n69        \\n        Metascore\\n            \\n\\n\\n    In Nazi-occupied France during World War II, a plan to assassinate Nazi leaders by a group of Jewish U.S. soldiers coincides with a theatre owner\\'s vengeful plans for the same.\\n\\n    Director:\\nQuentin Tarantino\\n| \\n    Stars:\\nBrad Pitt, \\nDiane Kruger, \\nEli Roth, \\nMélanie Laurent\\n\\n\\nVotes:\\n1,280,637\\n| Gross:\\n$120.54M\\n\\n\\n\\n\\n\\n\\n\\n\\n \\n \\n\\n\\n96.\\nEternal Sunshine of the Spotless Mind\\n(2004)\\n\\n\\nUA\\n|\\n108 min\\n|\\n\\nDrama, Romance, Sci-Fi            \\n\\n\\n\\n\\n8.3\\n\\n\\n\\n\\nRate this\\n\\n\\n\\n\\n\\n\\n\\xa0\\n\\xa0\\n\\n1\\n2\\n3\\n4\\n5\\n6\\n7\\n8\\n9\\n10\\n\\n8.3/10\\nX\\n\\xa0\\n\\n\\n\\n89        \\n        Metascore\\n            \\n\\n\\n    When their relationship turns sour, a couple undergoes a medical procedure to have each other erased from their memories.\\n\\n    Director:\\nMichel Gondry\\n| \\n    Stars:\\nJim Carrey, \\nKate Winslet, \\nTom Wilkinson, \\nGerry Robert Byrne\\n\\n\\nVotes:\\n918,252\\n| Gross:\\n$34.40M\\n\\n\\n\\n\\n\\n\\n\\n\\n \\n \\n\\n\\n97.\\nAmélie\\n(2001)\\n\\n\\nU\\n|\\n122 min\\n|\\n\\nComedy, Romance            \\n\\n\\n\\n\\n8.3\\n\\n\\n\\n\\nRate this\\n\\n\\n\\n\\n\\n\\n\\xa0\\n\\xa0\\n\\n1\\n2\\n3\\n4\\n5\\n6\\n7\\n8\\n9\\n10\\n\\n8.3/10\\nX\\n\\xa0\\n\\n\\n\\n69        \\n        Metascore\\n            \\n\\n\\n    Amélie is an innocent and naive girl in Paris with her own sense of justice. She decides to help those around her and, along the way, discovers love.\\n\\n    Director:\\nJean-Pierre Jeunet\\n| \\n    Stars:\\nAudrey Tautou, \\nMathieu Kassovitz, \\nRufus, \\nLorella Cravotta\\n\\n\\nVotes:\\n708,059\\n| Gross:\\n$33.23M\\n\\n\\n\\n\\n\\n\\n\\n\\n \\n \\n\\n\\n98.\\nSnatch\\n(2000)\\n\\n\\nUA\\n|\\n104 min\\n|\\n\\nComedy, Crime            \\n\\n\\n\\n\\n8.3\\n\\n\\n\\n\\nRate this\\n\\n\\n\\n\\n\\n\\n\\xa0\\n\\xa0\\n\\n1\\n2\\n3\\n4\\n5\\n6\\n7\\n8\\n9\\n10\\n\\n8.3/10\\nX\\n\\xa0\\n\\n\\n\\n55        \\n        Metascore\\n            \\n\\n\\n    Unscrupulous boxing promoters, violent bookmakers, a Russian gangster, incompetent amateur robbers and supposedly Jewish jewelers fight to track down a priceless stolen diamond.\\n\\n    Director:\\nGuy Ritchie\\n| \\n    Stars:\\nJason Statham, \\nBrad Pitt, \\nBenicio Del Toro, \\nDennis Farina\\n\\n\\nVotes:\\n787,278\\n| Gross:\\n$30.33M\\n\\n\\n\\n\\n\\n\\n\\n\\n \\n \\n\\n\\n99.\\nRequiem for a Dream\\n(2000)\\n\\n\\nA\\n|\\n102 min\\n|\\n\\nDrama            \\n\\n\\n\\n\\n8.3\\n\\n\\n\\n\\nRate this\\n\\n\\n\\n\\n\\n\\n\\xa0\\n\\xa0\\n\\n1\\n2\\n3\\n4\\n5\\n6\\n7\\n8\\n9\\n10\\n\\n8.3/10\\nX\\n\\xa0\\n\\n\\n\\n68        \\n        Metascore\\n            \\n\\n\\n    The drug-induced utopias of four Coney Island people are shattered when their addictions run deep.\\n\\n    Director:\\nDarren Aronofsky\\n| \\n    Stars:\\nEllen Burstyn, \\nJared Leto, \\nJennifer Connelly, \\nMarlon Wayans\\n\\n\\nVotes:\\n772,839\\n| Gross:\\n$3.64M\\n\\n\\n\\n\\n\\n\\n\\n\\n \\n \\n\\n\\n100.\\nAmerican Beauty\\n(1999)\\n\\n\\nUA\\n|\\n122 min\\n|\\n\\nDrama            \\n\\n\\n\\n\\n8.3\\n\\n\\n\\n\\nRate this\\n\\n\\n\\n\\n\\n\\n\\xa0\\n\\xa0\\n\\n1\\n2\\n3\\n4\\n5\\n6\\n7\\n8\\n9\\n10\\n\\n8.3/10\\nX\\n\\xa0\\n\\n\\n\\n84        \\n        Metascore\\n            \\n\\n\\n    A sexually frustrated suburban father has a mid-life crisis after becoming infatuated with his daughter\\'s best friend.\\n\\n    Director:\\nSam Mendes\\n| \\n    Stars:\\nKevin Spacey, \\nAnnette Bening, \\nThora Birch, \\nWes Bentley\\n\\n\\nVotes:\\n1,076,415\\n| Gross:\\n$130.10M\\n\\n\\n\\n\\n\\n\\n\\n1-100 of 1,000 titles.\\n| Next »\\n\\n\\n\\n\\n\\n\\n\\n\\n\\n\\n\\n\\n\\nClear your history\\n\\nRecently Viewed\\n\\n\\xa0\\n\\n\\n\\n\\n\\n\\n\\n\\nGet the IMDb AppGet the IMDb AppView Full SiteHelpSite IndexIMDbProBox Office MojoIMDb DeveloperPress RoomAdvertisingJobsConditions of UsePrivacy PolicyInterest-Based Ads© 1990-2021 by IMDb.com, Inc.\\n\\n \\n\\n\\n\\n\\n\\n\\n\\n\\n\\n\\n\\n\\n\\n\\n\\n\\n\\n'"
      ]
     },
     "execution_count": 168,
     "metadata": {},
     "output_type": "execute_result"
    }
   ],
   "source": [
    "soup.get_text()"
   ]
  },
  {
   "cell_type": "code",
   "execution_count": 169,
   "metadata": {},
   "outputs": [],
   "source": [
    "movies = soup.findAll('div',{'class':'lister-item mode-advanced'})"
   ]
  },
  {
   "cell_type": "code",
   "execution_count": 170,
   "metadata": {
    "scrolled": true
   },
   "outputs": [
    {
     "data": {
      "text/plain": [
       "<div class=\"lister-item mode-advanced\">\n",
       "<div class=\"lister-top-right\">\n",
       "<div class=\"ribbonize\" data-caller=\"filmosearch\" data-tconst=\"tt0111161\"></div>\n",
       "</div>\n",
       "<div class=\"lister-item-image float-left\">\n",
       "<a href=\"/title/tt0111161/\"> <img alt=\"The Shawshank Redemption\" class=\"loadlate\" data-tconst=\"tt0111161\" height=\"98\" loadlate=\"https://m.media-amazon.com/images/M/MV5BMDFkYTc0MGEtZmNhMC00ZDIzLWFmNTEtODM1ZmRlYWMwMWFmXkEyXkFqcGdeQXVyMTMxODk2OTU@._V1_UX67_CR0,0,67,98_AL_.jpg\" src=\"https://m.media-amazon.com/images/S/sash/4FyxwxECzL-U1J8.png\" width=\"67\"/>\n",
       "</a> </div>\n",
       "<div class=\"lister-item-content\">\n",
       "<h3 class=\"lister-item-header\">\n",
       "<span class=\"lister-item-index unbold text-primary\">1.</span>\n",
       "<a href=\"/title/tt0111161/\">The Shawshank Redemption</a>\n",
       "<span class=\"lister-item-year text-muted unbold\">(1994)</span>\n",
       "</h3>\n",
       "<p class=\"text-muted\">\n",
       "<span class=\"certificate\">A</span>\n",
       "<span class=\"ghost\">|</span>\n",
       "<span class=\"runtime\">142 min</span>\n",
       "<span class=\"ghost\">|</span>\n",
       "<span class=\"genre\">\n",
       "Drama            </span>\n",
       "</p>\n",
       "<div class=\"ratings-bar\">\n",
       "<div class=\"inline-block ratings-imdb-rating\" data-value=\"9.3\" name=\"ir\">\n",
       "<span class=\"global-sprite rating-star imdb-rating\"></span>\n",
       "<strong>9.3</strong>\n",
       "</div>\n",
       "<div class=\"inline-block ratings-user-rating\">\n",
       "<span class=\"userRatingValue\" data-tconst=\"tt0111161\" id=\"urv_tt0111161\">\n",
       "<span class=\"global-sprite rating-star no-rating\"></span>\n",
       "<span class=\"rate\" data-no-rating=\"Rate this\" data-value=\"0\" name=\"ur\">Rate this</span>\n",
       "</span>\n",
       "<div class=\"starBarWidget\" id=\"sb_tt0111161\">\n",
       "<div class=\"rating rating-list\" data-csrf-token=\"\" data-ga-identifier=\"\" data-starbar-class=\"rating-list\" data-user=\"\" id=\"tt0111161|imdb|9.3|9.3|adv_li_tt||advsearch|title\" itemprop=\"aggregateRating\" itemscope=\"\" itemtype=\"http://schema.org/AggregateRating\" title=\"Users rated this 9.3/10 (2,363,582 votes) - click stars to rate\">\n",
       "<meta content=\"9.3\" itemprop=\"ratingValue\"/>\n",
       "<meta content=\"10\" itemprop=\"bestRating\"/>\n",
       "<meta content=\"2363582\" itemprop=\"ratingCount\"/>\n",
       "<span class=\"rating-bg\"> </span>\n",
       "<span class=\"rating-imdb\" style=\"width: 130.2px\"> </span>\n",
       "<span class=\"rating-stars\">\n",
       "<a href=\"/register/login?why=vote\" rel=\"nofollow\" title=\"Register or login to rate this title\"><span>1</span></a>\n",
       "<a href=\"/register/login?why=vote\" rel=\"nofollow\" title=\"Register or login to rate this title\"><span>2</span></a>\n",
       "<a href=\"/register/login?why=vote\" rel=\"nofollow\" title=\"Register or login to rate this title\"><span>3</span></a>\n",
       "<a href=\"/register/login?why=vote\" rel=\"nofollow\" title=\"Register or login to rate this title\"><span>4</span></a>\n",
       "<a href=\"/register/login?why=vote\" rel=\"nofollow\" title=\"Register or login to rate this title\"><span>5</span></a>\n",
       "<a href=\"/register/login?why=vote\" rel=\"nofollow\" title=\"Register or login to rate this title\"><span>6</span></a>\n",
       "<a href=\"/register/login?why=vote\" rel=\"nofollow\" title=\"Register or login to rate this title\"><span>7</span></a>\n",
       "<a href=\"/register/login?why=vote\" rel=\"nofollow\" title=\"Register or login to rate this title\"><span>8</span></a>\n",
       "<a href=\"/register/login?why=vote\" rel=\"nofollow\" title=\"Register or login to rate this title\"><span>9</span></a>\n",
       "<a href=\"/register/login?why=vote\" rel=\"nofollow\" title=\"Register or login to rate this title\"><span>10</span></a>\n",
       "</span>\n",
       "<span class=\"rating-rating\"><span class=\"value\">9.3</span><span class=\"grey\">/</span><span class=\"grey\">10</span></span>\n",
       "<span class=\"rating-cancel\"><a href=\"/title/tt0111161/vote\" rel=\"nofollow\" title=\"Delete\"><span>X</span></a></span>\n",
       " </div>\n",
       "</div>\n",
       "</div>\n",
       "<div class=\"inline-block ratings-metascore\">\n",
       "<span class=\"metascore favorable\">80        </span>\n",
       "        Metascore\n",
       "            </div>\n",
       "</div>\n",
       "<p class=\"text-muted\">\n",
       "    Two imprisoned men bond over a number of years, finding solace and eventual redemption through acts of common decency.</p>\n",
       "<p class=\"\">\n",
       "    Director:\n",
       "<a href=\"/name/nm0001104/\">Frank Darabont</a>\n",
       "<span class=\"ghost\">|</span> \n",
       "    Stars:\n",
       "<a href=\"/name/nm0000209/\">Tim Robbins</a>, \n",
       "<a href=\"/name/nm0000151/\">Morgan Freeman</a>, \n",
       "<a href=\"/name/nm0348409/\">Bob Gunton</a>, \n",
       "<a href=\"/name/nm0006669/\">William Sadler</a>\n",
       "</p>\n",
       "<p class=\"sort-num_votes-visible\">\n",
       "<span class=\"text-muted\">Votes:</span>\n",
       "<span data-value=\"2363582\" name=\"nv\">2,363,582</span>\n",
       "<span class=\"ghost\">|</span> <span class=\"text-muted\">Gross:</span>\n",
       "<span data-value=\"28,341,469\" name=\"nv\">$28.34M</span>\n",
       "</p>\n",
       "</div>\n",
       "</div>"
      ]
     },
     "execution_count": 170,
     "metadata": {},
     "output_type": "execute_result"
    }
   ],
   "source": [
    "movies[0]"
   ]
  },
  {
   "cell_type": "code",
   "execution_count": 171,
   "metadata": {},
   "outputs": [],
   "source": [
    "first_movie=movies[0]"
   ]
  },
  {
   "cell_type": "code",
   "execution_count": 172,
   "metadata": {},
   "outputs": [
    {
     "data": {
      "text/plain": [
       "'The Shawshank Redemption'"
      ]
     },
     "execution_count": 172,
     "metadata": {},
     "output_type": "execute_result"
    }
   ],
   "source": [
    "first_movie.h3.a.text #Movie Name"
   ]
  },
  {
   "cell_type": "code",
   "execution_count": 173,
   "metadata": {},
   "outputs": [
    {
     "data": {
      "text/plain": [
       "'1994'"
      ]
     },
     "execution_count": 173,
     "metadata": {},
     "output_type": "execute_result"
    }
   ],
   "source": [
    "first_movie.find(\"span\",{\"class\":\"lister-item-year text-muted unbold\"}).text[1:5] #Year of Release"
   ]
  },
  {
   "cell_type": "code",
   "execution_count": 174,
   "metadata": {},
   "outputs": [
    {
     "data": {
      "text/plain": [
       "'9.3'"
      ]
     },
     "execution_count": 174,
     "metadata": {},
     "output_type": "execute_result"
    }
   ],
   "source": [
    "first_movie.find('strong').text #Rating of the movie"
   ]
  },
  {
   "cell_type": "code",
   "execution_count": 175,
   "metadata": {},
   "outputs": [],
   "source": [
    "#Let us now build a Dataframe containing all the hundred movies"
   ]
  },
  {
   "cell_type": "code",
   "execution_count": 176,
   "metadata": {},
   "outputs": [],
   "source": [
    "Name = []\n",
    "Year = []\n",
    "Rating = []\n",
    "for i in movies:\n",
    "    Name.append(i.h3.a.text)\n",
    "    Year.append(i.find(\"span\",{\"class\":\"lister-item-year text-muted unbold\"}).text[1:5])\n",
    "    Rating.append(i.find('strong').text)"
   ]
  },
  {
   "cell_type": "code",
   "execution_count": 177,
   "metadata": {},
   "outputs": [],
   "source": [
    "data= list(zip(Name,Year,Rating))"
   ]
  },
  {
   "cell_type": "code",
   "execution_count": 178,
   "metadata": {},
   "outputs": [],
   "source": [
    "df= pd.DataFrame(data,columns=[\"Movie Name\",\"Year\", \"Rating\"])"
   ]
  },
  {
   "cell_type": "code",
   "execution_count": 181,
   "metadata": {},
   "outputs": [
    {
     "data": {
      "text/html": [
       "<div>\n",
       "<style scoped>\n",
       "    .dataframe tbody tr th:only-of-type {\n",
       "        vertical-align: middle;\n",
       "    }\n",
       "\n",
       "    .dataframe tbody tr th {\n",
       "        vertical-align: top;\n",
       "    }\n",
       "\n",
       "    .dataframe thead th {\n",
       "        text-align: right;\n",
       "    }\n",
       "</style>\n",
       "<table border=\"1\" class=\"dataframe\">\n",
       "  <thead>\n",
       "    <tr style=\"text-align: right;\">\n",
       "      <th></th>\n",
       "      <th>Movie Name</th>\n",
       "      <th>Year</th>\n",
       "      <th>Rating</th>\n",
       "    </tr>\n",
       "  </thead>\n",
       "  <tbody>\n",
       "    <tr>\n",
       "      <th>0</th>\n",
       "      <td>The Shawshank Redemption</td>\n",
       "      <td>1994</td>\n",
       "      <td>9.3</td>\n",
       "    </tr>\n",
       "    <tr>\n",
       "      <th>1</th>\n",
       "      <td>The Godfather</td>\n",
       "      <td>1972</td>\n",
       "      <td>9.2</td>\n",
       "    </tr>\n",
       "    <tr>\n",
       "      <th>2</th>\n",
       "      <td>The Dark Knight</td>\n",
       "      <td>2008</td>\n",
       "      <td>9.0</td>\n",
       "    </tr>\n",
       "    <tr>\n",
       "      <th>3</th>\n",
       "      <td>The Godfather: Part II</td>\n",
       "      <td>1974</td>\n",
       "      <td>9.0</td>\n",
       "    </tr>\n",
       "    <tr>\n",
       "      <th>4</th>\n",
       "      <td>12 Angry Men</td>\n",
       "      <td>1957</td>\n",
       "      <td>9.0</td>\n",
       "    </tr>\n",
       "  </tbody>\n",
       "</table>\n",
       "</div>"
      ],
      "text/plain": [
       "                 Movie Name  Year Rating\n",
       "0  The Shawshank Redemption  1994    9.3\n",
       "1             The Godfather  1972    9.2\n",
       "2           The Dark Knight  2008    9.0\n",
       "3    The Godfather: Part II  1974    9.0\n",
       "4              12 Angry Men  1957    9.0"
      ]
     },
     "execution_count": 181,
     "metadata": {},
     "output_type": "execute_result"
    }
   ],
   "source": [
    "df"
   ]
  },
  {
   "cell_type": "code",
   "execution_count": 180,
   "metadata": {
    "scrolled": true
   },
   "outputs": [
    {
     "name": "stdout",
     "output_type": "stream",
     "text": [
      "<class 'pandas.core.frame.DataFrame'>\n",
      "RangeIndex: 100 entries, 0 to 99\n",
      "Data columns (total 3 columns):\n",
      " #   Column      Non-Null Count  Dtype \n",
      "---  ------      --------------  ----- \n",
      " 0   Movie Name  100 non-null    object\n",
      " 1   Year        100 non-null    object\n",
      " 2   Rating      100 non-null    object\n",
      "dtypes: object(3)\n",
      "memory usage: 2.5+ KB\n"
     ]
    }
   ],
   "source": [
    "df.info()"
   ]
  },
  {
   "cell_type": "markdown",
   "metadata": {},
   "source": [
    "# Top 100 Indian Movies IMDB"
   ]
  },
  {
   "cell_type": "code",
   "execution_count": 183,
   "metadata": {},
   "outputs": [],
   "source": [
    "url=\"https://www.imdb.com/india/top-rated-indian-movies/\""
   ]
  },
  {
   "cell_type": "code",
   "execution_count": 184,
   "metadata": {},
   "outputs": [
    {
     "name": "stdout",
     "output_type": "stream",
     "text": [
      "<Response [200]>\n"
     ]
    }
   ],
   "source": [
    "res=requests.get(url)\n",
    "print(res)"
   ]
  },
  {
   "cell_type": "code",
   "execution_count": 185,
   "metadata": {},
   "outputs": [],
   "source": [
    "soup=BeautifulSoup(res.content,'html.parser')"
   ]
  },
  {
   "cell_type": "code",
   "execution_count": 186,
   "metadata": {},
   "outputs": [
    {
     "data": {
      "text/plain": [
       "'Top Rated Indian Movies - IMDb'"
      ]
     },
     "execution_count": 186,
     "metadata": {},
     "output_type": "execute_result"
    }
   ],
   "source": [
    "soup.title.text"
   ]
  },
  {
   "cell_type": "raw",
   "metadata": {},
   "source": [
    "cls=['titleColumn','ratingColumn imdbRating']\n",
    "movies=[]\n",
    "for i in cls:\n",
    "    movies.append(soup.find_all('td',{'class':[i]}))"
   ]
  },
  {
   "cell_type": "code",
   "execution_count": 223,
   "metadata": {},
   "outputs": [],
   "source": [
    "movies_title = soup.find_all('td',{'class':'titleColumn'})"
   ]
  },
  {
   "cell_type": "code",
   "execution_count": 224,
   "metadata": {},
   "outputs": [],
   "source": [
    "movies_rating = soup.find_all('td',{'class':'ratingColumn imdbRating'})"
   ]
  },
  {
   "cell_type": "code",
   "execution_count": 225,
   "metadata": {},
   "outputs": [
    {
     "data": {
      "text/plain": [
       "[<td class=\"titleColumn\">\n",
       "       1.\n",
       "       <a href=\"/title/tt0048473/\" title=\"Satyajit Ray (dir.), Kanu Bannerjee, Karuna Bannerjee\">Pather Panchali</a>\n",
       " <span class=\"secondaryInfo\">(1955)</span>\n",
       " </td>,\n",
       " <td class=\"titleColumn\">\n",
       "       2.\n",
       "       <a href=\"/title/tt0079221/\" title=\"Hrishikesh Mukherjee (dir.), Amol Palekar, Bindiya Goswami\">Gol Maal</a>\n",
       " <span class=\"secondaryInfo\">(1979)</span>\n",
       " </td>,\n",
       " <td class=\"titleColumn\">\n",
       "       3.\n",
       "       <a href=\"/title/tt0093603/\" title=\"Mani Ratnam (dir.), Kamal Haasan, Saranya Ponvannan\">Nayakan</a>\n",
       " <span class=\"secondaryInfo\">(1987)</span>\n",
       " </td>,\n",
       " <td class=\"titleColumn\">\n",
       "       4.\n",
       "       <a href=\"/title/tt0367495/\" title=\"Sundar C. (dir.), Kamal Haasan, Madhavan\">Anbe Sivam</a>\n",
       " <span class=\"secondaryInfo\">(2003)</span>\n",
       " </td>,\n",
       " <td class=\"titleColumn\">\n",
       "       5.\n",
       "       <a href=\"/title/tt12361178/\" title=\"Jeethu Joseph (dir.), Mohanlal, Meena\">Drishyam 2</a>\n",
       " <span class=\"secondaryInfo\">(2021)</span>\n",
       " </td>,\n",
       " <td class=\"titleColumn\">\n",
       "       6.\n",
       "       <a href=\"/title/tt0052572/\" title=\"Satyajit Ray (dir.), Soumitra Chatterjee, Sharmila Tagore\">Apur Sansar</a>\n",
       " <span class=\"secondaryInfo\">(1959)</span>\n",
       " </td>,\n",
       " <td class=\"titleColumn\">\n",
       "       7.\n",
       "       <a href=\"/title/tt0237376/\" title=\"Sibi Malayil (dir.), Mohanlal, Thilakan\">Kireedam</a>\n",
       " <span class=\"secondaryInfo\">(1989)</span>\n",
       " </td>,\n",
       " <td class=\"titleColumn\">\n",
       "       8.\n",
       "       <a href=\"/title/tt5311546/\" title=\"Mahesh Manjrekar (dir.), Nana Patekar, Medha Manjrekar\">Natsamrat</a>\n",
       " <span class=\"secondaryInfo\">(2016)</span>\n",
       " </td>,\n",
       " <td class=\"titleColumn\">\n",
       "       9.\n",
       "       <a href=\"/title/tt8176054/\" title=\"Mari Selvaraj (dir.), Kathir, Anandhi\">Pariyerum Perumal</a>\n",
       " <span class=\"secondaryInfo\">(2018)</span>\n",
       " </td>,\n",
       " <td class=\"titleColumn\">\n",
       "       10.\n",
       "       <a href=\"/title/tt0400234/\" title=\"Anurag Kashyap (dir.), Kay Kay Menon, Pawan Malhotra\">Black Friday</a>\n",
       " <span class=\"secondaryInfo\">(2004)</span>\n",
       " </td>,\n",
       " <td class=\"titleColumn\">\n",
       "       11.\n",
       "       <a href=\"/title/tt0214915/\" title=\"Fazil (dir.), Mohanlal, Shobana\">Manichitrathazhu</a>\n",
       " <span class=\"secondaryInfo\">(1993)</span>\n",
       " </td>,\n",
       " <td class=\"titleColumn\">\n",
       "       12.\n",
       "       <a href=\"/title/tt0105575/\" title=\"Bharathan (dir.), Kamal Haasan, Shivaji Ganesan\">Thevar Magan</a>\n",
       " <span class=\"secondaryInfo\">(1992)</span>\n",
       " </td>,\n",
       " <td class=\"titleColumn\">\n",
       "       13.\n",
       "       <a href=\"/title/tt7019842/\" title=\"C. Prem Kumar (dir.), Vijay Sethupathi, Trisha Krishnan\">96</a>\n",
       " <span class=\"secondaryInfo\">(2018)</span>\n",
       " </td>,\n",
       " <td class=\"titleColumn\">\n",
       "       14.\n",
       "       <a href=\"/title/tt7060344/\" title=\"Ram Kumar (dir.), Vishnu Vishal, Amala Paul\">Ratsasan</a>\n",
       " <span class=\"secondaryInfo\">(2018)</span>\n",
       " </td>,\n",
       " <td class=\"titleColumn\">\n",
       "       15.\n",
       "       <a href=\"/title/tt8413338/\" title=\"Madhu C. Narayanan (dir.), Shane Nigam, Soubin Shahir\">Kumbalangi Nights</a>\n",
       " <span class=\"secondaryInfo\">(2019)</span>\n",
       " </td>,\n",
       " <td class=\"titleColumn\">\n",
       "       16.\n",
       "       <a href=\"/title/tt1187043/\" title=\"Rajkumar Hirani (dir.), Aamir Khan, Madhavan\">3 Idiots</a>\n",
       " <span class=\"secondaryInfo\">(2009)</span>\n",
       " </td>,\n",
       " <td class=\"titleColumn\">\n",
       "       17.\n",
       "       <a href=\"/title/tt0986264/\" title=\"Aamir Khan (dir.), Darsheel Safary, Aamir Khan\">Taare Zameen Par</a>\n",
       " <span class=\"secondaryInfo\">(2007)</span>\n",
       " </td>,\n",
       " <td class=\"titleColumn\">\n",
       "       18.\n",
       "       <a href=\"/title/tt4991384/\" title=\"Vetrimaaran (dir.), Dinesh, Samuthirakani\">Visaaranai</a>\n",
       " <span class=\"secondaryInfo\">(2015)</span>\n",
       " </td>,\n",
       " <td class=\"titleColumn\">\n",
       "       19.\n",
       "       <a href=\"/title/tt0101649/\" title=\"Mani Ratnam (dir.), Rajinikanth, Mammootty\">Thalapathi</a>\n",
       " <span class=\"secondaryInfo\">(1991)</span>\n",
       " </td>,\n",
       " <td class=\"titleColumn\">\n",
       "       20.\n",
       "       <a href=\"/title/tt0048956/\" title=\"Satyajit Ray (dir.), Pinaki Sengupta, Smaran Ghosal\">Aparajito</a>\n",
       " <span class=\"secondaryInfo\">(1956)</span>\n",
       " </td>,\n",
       " <td class=\"titleColumn\">\n",
       "       21.\n",
       "       <a href=\"/title/tt0085743/\" title=\"Kundan Shah (dir.), Naseeruddin Shah, Ravi Baswani\">Jaane Bhi Do Yaaro</a>\n",
       " <span class=\"secondaryInfo\">(1983)</span>\n",
       " </td>,\n",
       " <td class=\"titleColumn\">\n",
       "       22.\n",
       "       <a href=\"/title/tt9477520/\" title=\"Vetrimaaran (dir.), Dhanush, Manju Warrier\">Asuran</a>\n",
       " <span class=\"secondaryInfo\">(2019)</span>\n",
       " </td>,\n",
       " <td class=\"titleColumn\">\n",
       "       23.\n",
       "       <a href=\"/title/tt0050870/\" title=\"Guru Dutt (dir.), Guru Dutt, Waheeda Rehman\">Pyaasa</a>\n",
       " <span class=\"secondaryInfo\">(1957)</span>\n",
       " </td>,\n",
       " <td class=\"titleColumn\">\n",
       "       24.\n",
       "       <a href=\"/title/tt0059246/\" title=\"Vijay Anand (dir.), Dev Anand, Waheeda Rehman\">Guide</a>\n",
       " <span class=\"secondaryInfo\">(1965)</span>\n",
       " </td>,\n",
       " <td class=\"titleColumn\">\n",
       "       25.\n",
       "       <a href=\"/title/tt0066763/\" title=\"Hrishikesh Mukherjee (dir.), Rajesh Khanna, Amitabh Bachchan\">Anand</a>\n",
       " <span class=\"secondaryInfo\">(1971)</span>\n",
       " </td>,\n",
       " <td class=\"titleColumn\">\n",
       "       26.\n",
       "       <a href=\"/title/tt0312859/\" title=\"Mani Ratnam (dir.), Madhavan, Simran\">Kannathil Muthamittal</a>\n",
       " <span class=\"secondaryInfo\">(2002)</span>\n",
       " </td>,\n",
       " <td class=\"titleColumn\">\n",
       "       27.\n",
       "       <a href=\"/title/tt8948790/\" title=\"Gowtam Tinnanuri (dir.), Nani, Shraddha Srinath\">Jersey</a>\n",
       " <span class=\"secondaryInfo\">(2019)</span>\n",
       " </td>,\n",
       " <td class=\"titleColumn\">\n",
       "       28.\n",
       "       <a href=\"/title/tt0072783/\" title=\"Hrishikesh Mukherjee (dir.), Dharmendra, Sharmila Tagore\">Chupke Chupke</a>\n",
       " <span class=\"secondaryInfo\">(1975)</span>\n",
       " </td>,\n",
       " <td class=\"titleColumn\">\n",
       "       29.\n",
       "       <a href=\"/title/tt9900782/\" title=\"Lokesh Kanagaraj (dir.), Karthi, Narain\">Kaithi</a>\n",
       " <span class=\"secondaryInfo\">(2019)</span>\n",
       " </td>,\n",
       " <td class=\"titleColumn\">\n",
       "       30.\n",
       "       <a href=\"/title/tt3417422/\" title=\"Jeethu Joseph (dir.), Mohanlal, Meena\">Drishyam</a>\n",
       " <span class=\"secondaryInfo\">(2013)</span>\n",
       " </td>,\n",
       " <td class=\"titleColumn\">\n",
       "       31.\n",
       "       <a href=\"/title/tt4987556/\" title=\"Mohan Raja (dir.), Jayam Ravi, Arvind Swamy\">Thani Oruvan</a>\n",
       " <span class=\"secondaryInfo\">(2015)</span>\n",
       " </td>,\n",
       " <td class=\"titleColumn\">\n",
       "       32.\n",
       "       <a href=\"/title/tt6148156/\" title=\"Gayatri (dir.), Madhavan, Vijay Sethupathi\">Vikram Vedha</a>\n",
       " <span class=\"secondaryInfo\">(2017)</span>\n",
       " </td>,\n",
       " <td class=\"titleColumn\">\n",
       "       33.\n",
       "       <a href=\"/title/tt5959980/\" title=\"Vetrimaaran (dir.), Dhanush, Ameer Sultan\">Vada Chennai</a>\n",
       " <span class=\"secondaryInfo\">(2018)</span>\n",
       " </td>,\n",
       " <td class=\"titleColumn\">\n",
       "       34.\n",
       "       <a href=\"/title/tt10189514/\" title=\"Sudha Kongara (dir.), Suriya, Madhavan\">Soorarai Pottru</a>\n",
       " <span class=\"secondaryInfo\">(2020)</span>\n",
       " </td>,\n",
       " <td class=\"titleColumn\">\n",
       "       35.\n",
       "       <a href=\"/title/tt5867800/\" title=\"Arun Prabhu Purushothaman (dir.), Aditi Balan, Padmashri Mohammad Ali\">Aruvi</a>\n",
       " <span class=\"secondaryInfo\">(2016)</span>\n",
       " </td>,\n",
       " <td class=\"titleColumn\">\n",
       "       36.\n",
       "       <a href=\"/title/tt7738784/\" title=\"Ram (dir.), Mammootty, Sadhana\">Peranbu</a>\n",
       " <span class=\"secondaryInfo\">(2018)</span>\n",
       " </td>,\n",
       " <td class=\"titleColumn\">\n",
       "       37.\n",
       "       <a href=\"/title/tt0466460/\" title=\"Dibakar Banerjee (dir.), Anupam Kher, Boman Irani\">Khosla Ka Ghosla!</a>\n",
       " <span class=\"secondaryInfo\">(2006)</span>\n",
       " </td>,\n",
       " <td class=\"titleColumn\">\n",
       "       38.\n",
       "       <a href=\"/title/tt7019942/\" title=\"Thiagarajan Kumararaja (dir.), Vijay Sethupathi, Fahadh Faasil\">Super Deluxe</a>\n",
       " <span class=\"secondaryInfo\">(2019)</span>\n",
       " </td>,\n",
       " <td class=\"titleColumn\">\n",
       "       39.\n",
       "       <a href=\"/title/tt10214826/\" title=\"Swaroop Rsj (dir.), Naveen Polishetty, Shruti Sharma\">Agent Sai Srinivasa Athreya</a>\n",
       " <span class=\"secondaryInfo\">(2019)</span>\n",
       " </td>,\n",
       " <td class=\"titleColumn\">\n",
       "       40.\n",
       "       <a href=\"/title/tt7465992/\" title=\"Nag Ashwin (dir.), Keerthy Suresh, Dulquer Salmaan\">Mahanati</a>\n",
       " <span class=\"secondaryInfo\">(2018)</span>\n",
       " </td>,\n",
       " <td class=\"titleColumn\">\n",
       "       41.\n",
       "       <a href=\"/title/tt8239946/\" title=\"Rahi Anil Barve (dir.), Sohum Shah, Jyoti Malshe\">Tumbbad</a>\n",
       " <span class=\"secondaryInfo\">(2018)</span>\n",
       " </td>,\n",
       " <td class=\"titleColumn\">\n",
       "       42.\n",
       "       <a href=\"/title/tt8108198/\" title=\"Sriram Raghavan (dir.), Ayushmann Khurrana, Tabu\">Andhadhun</a>\n",
       " <span class=\"secondaryInfo\">(2018)</span>\n",
       " </td>,\n",
       " <td class=\"titleColumn\">\n",
       "       43.\n",
       "       <a href=\"/title/tt3973410/\" title=\"M. Manikandan (dir.), Ramesh, J. Vignesh\">Kaakkaa Muttai</a>\n",
       " <span class=\"secondaryInfo\">(2014)</span>\n",
       " </td>,\n",
       " <td class=\"titleColumn\">\n",
       "       44.\n",
       "       <a href=\"/title/tt4679210/\" title=\"Alphonse Puthren (dir.), Nivin Pauly, Sai Pallavi\">Premam</a>\n",
       " <span class=\"secondaryInfo\">(2015)</span>\n",
       " </td>,\n",
       " <td class=\"titleColumn\">\n",
       "       45.\n",
       "       <a href=\"/title/tt6380520/\" title=\"Karthick Naren (dir.), Rahman, Prakash Raghavan\">Dhuruvangal Pathinaaru</a>\n",
       " <span class=\"secondaryInfo\">(2016)</span>\n",
       " </td>,\n",
       " <td class=\"titleColumn\">\n",
       "       46.\n",
       "       <a href=\"/title/tt0195231/\" title=\"Ram Gopal Varma (dir.), J.D. Chakravarthi, Manoj Bajpayee\">Satya</a>\n",
       " <span class=\"secondaryInfo\">(1998)</span>\n",
       " </td>,\n",
       " <td class=\"titleColumn\">\n",
       "       47.\n",
       "       <a href=\"/title/tt2181831/\" title=\"Hansal Mehta (dir.), Rajkummar Rao, Prabhleen Sandhu\">Shahid</a>\n",
       " <span class=\"secondaryInfo\">(2012)</span>\n",
       " </td>,\n",
       " <td class=\"titleColumn\">\n",
       "       48.\n",
       "       <a href=\"/title/tt3668162/\" title=\"Anjali Menon (dir.), Nazriya Nazim, Nivin Pauly\">Bangalore Days</a>\n",
       " <span class=\"secondaryInfo\">(2014)</span>\n",
       " </td>,\n",
       " <td class=\"titleColumn\">\n",
       "       49.\n",
       "       <a href=\"/title/tt0220656/\" title=\"S. Shankar (dir.), Arjun Sarja, Manisha Koirala\">Mudhalvan</a>\n",
       " <span class=\"secondaryInfo\">(1999)</span>\n",
       " </td>,\n",
       " <td class=\"titleColumn\">\n",
       "       50.\n",
       "       <a href=\"/title/tt2877108/\" title=\"Nalan Kumarasamy (dir.), Vijay Sethupathi, Sanchita Shetty\">Soodhu Kavvum</a>\n",
       " <span class=\"secondaryInfo\">(2013)</span>\n",
       " </td>,\n",
       " <td class=\"titleColumn\">\n",
       "       51.\n",
       "       <a href=\"/title/tt0376127/\" title=\"S. Shankar (dir.), Vikram, Sada\">Anniyan</a>\n",
       " <span class=\"secondaryInfo\">(2005)</span>\n",
       " </td>,\n",
       " <td class=\"titleColumn\">\n",
       "       52.\n",
       "       <a href=\"/title/tt1954470/\" title=\"Anurag Kashyap (dir.), Manoj Bajpayee, Richa Chadha\">Gangs of Wasseypur</a>\n",
       " <span class=\"secondaryInfo\">(2012)</span>\n",
       " </td>,\n",
       " <td class=\"titleColumn\">\n",
       "       53.\n",
       "       <a href=\"/title/tt4429128/\" title=\"Jeethu Joseph (dir.), Kamal Haasan, Gautami\">Papanasam</a>\n",
       " <span class=\"secondaryInfo\">(2015)</span>\n",
       " </td>,\n",
       " <td class=\"titleColumn\">\n",
       "       54.\n",
       "       <a href=\"/title/tt3569782/\" title=\"Karthik Subbaraj (dir.), Siddharth, Bobby Simha\">Jigarthanda</a>\n",
       " <span class=\"secondaryInfo\">(2014)</span>\n",
       " </td>,\n",
       " <td class=\"titleColumn\">\n",
       "       55.\n",
       "       <a href=\"/title/tt2356180/\" title=\"Rakeysh Omprakash Mehra (dir.), Farhan Akhtar, Sonam Kapoor\">Bhaag Milkha Bhaag</a>\n",
       " <span class=\"secondaryInfo\">(2013)</span>\n",
       " </td>,\n",
       " <td class=\"titleColumn\">\n",
       "       56.\n",
       "       <a href=\"/title/tt1620933/\" title=\"Tigmanshu Dhulia (dir.), Irrfan Khan, Mahie Gill\">Paan Singh Tomar</a>\n",
       " <span class=\"secondaryInfo\">(2012)</span>\n",
       " </td>,\n",
       " <td class=\"titleColumn\">\n",
       "       57.\n",
       "       <a href=\"/title/tt0367110/\" title=\"Ashutosh Gowariker (dir.), Shah Rukh Khan, Gayatri Joshi\">Swades: We, the People</a>\n",
       " <span class=\"secondaryInfo\">(2004)</span>\n",
       " </td>,\n",
       " <td class=\"titleColumn\">\n",
       "       58.\n",
       "       <a href=\"/title/tt4934950/\" title=\"Meghna Gulzar (dir.), Irrfan Khan, Konkona Sen Sharma\">Talvar</a>\n",
       " <span class=\"secondaryInfo\">(2015)</span>\n",
       " </td>,\n",
       " <td class=\"titleColumn\">\n",
       "       59.\n",
       "       <a href=\"/title/tt0073707/\" title=\"Ramesh Sippy (dir.), Sanjeev Kumar, Dharmendra\">Sholay</a>\n",
       " <span class=\"secondaryInfo\">(1975)</span>\n",
       " </td>,\n",
       " <td class=\"titleColumn\">\n",
       "       60.\n",
       "       <a href=\"/title/tt0242519/\" title=\"Priyadarshan (dir.), Akshay Kumar, Sunil Shetty\">Hera Pheri</a>\n",
       " <span class=\"secondaryInfo\">(2000)</span>\n",
       " </td>,\n",
       " <td class=\"titleColumn\">\n",
       "       61.\n",
       "       <a href=\"/title/tt5312232/\" title=\"Nagraj Manjule (dir.), Rinku Rajguru, Akash Thosar\">Sairat</a>\n",
       " <span class=\"secondaryInfo\">(2016)</span>\n",
       " </td>,\n",
       " <td class=\"titleColumn\">\n",
       "       62.\n",
       "       <a href=\"/title/tt4430212/\" title=\"Nishikant Kamat (dir.), Ajay Devgn, Shriya Saran\">Drishyam</a>\n",
       " <span class=\"secondaryInfo\">(2015)</span>\n",
       " </td>,\n",
       " <td class=\"titleColumn\">\n",
       "       63.\n",
       "       <a href=\"/title/tt5005684/\" title=\"Ashwiny Iyer Tiwari (dir.), Swara Bhaskar, Ratna Pathak Shah\">Nil Battey Sannata</a>\n",
       " <span class=\"secondaryInfo\">(2015)</span>\n",
       " </td>,\n",
       " <td class=\"titleColumn\">\n",
       "       64.\n",
       "       <a href=\"/title/tt0375611/\" title=\"Sanjay Leela Bhansali (dir.), Amitabh Bachchan, Rani Mukerji\">Black</a>\n",
       " <span class=\"secondaryInfo\">(2005)</span>\n",
       " </td>,\n",
       " <td class=\"titleColumn\">\n",
       "       65.\n",
       "       <a href=\"/title/tt0871510/\" title=\"Shimit Amin (dir.), Shah Rukh Khan, Vidya Malvade\">Chak De! India</a>\n",
       " <span class=\"secondaryInfo\">(2007)</span>\n",
       " </td>,\n",
       " <td class=\"titleColumn\">\n",
       "       66.\n",
       "       <a href=\"/title/tt0376076/\" title=\"Bala (dir.), Vikram, Suriya\">Pithamagan</a>\n",
       " <span class=\"secondaryInfo\">(2003)</span>\n",
       " </td>,\n",
       " <td class=\"titleColumn\">\n",
       "       67.\n",
       "       <a href=\"/title/tt0057935/\" title=\"Satyajit Ray (dir.), Soumitra Chatterjee, Madhabi Mukherjee\">Charulata</a>\n",
       " <span class=\"secondaryInfo\">(1964)</span>\n",
       " </td>,\n",
       " <td class=\"titleColumn\">\n",
       "       68.\n",
       "       <a href=\"/title/tt0104561/\" title=\"Mansoor Khan (dir.), Aamir Khan, Ayesha Jhulka\">Jo Jeeta Wohi Sikandar</a>\n",
       " <span class=\"secondaryInfo\">(1992)</span>\n",
       " </td>,\n",
       " <td class=\"titleColumn\">\n",
       "       69.\n",
       "       <a href=\"/title/tt0054098/\" title=\"K. Asif (dir.), Prithviraj Kapoor, Madhubala\">Mughal-E-Azam</a>\n",
       " <span class=\"secondaryInfo\">(1960)</span>\n",
       " </td>,\n",
       " <td class=\"titleColumn\">\n",
       "       70.\n",
       "       <a href=\"/title/tt2218988/\" title=\"Anwar Rasheed (dir.), Dulquer Salmaan, Thilakan\">Ustad Hotel</a>\n",
       " <span class=\"secondaryInfo\">(2012)</span>\n",
       " </td>,\n",
       " <td class=\"titleColumn\">\n",
       "       71.\n",
       "       <a href=\"/title/tt1639426/\" title=\"Vikramaditya Motwane (dir.), Rajat Barmecha, Ronit Roy\">Udaan</a>\n",
       " <span class=\"secondaryInfo\">(2010)</span>\n",
       " </td>,\n",
       " <td class=\"titleColumn\">\n",
       "       72.\n",
       "       <a href=\"/title/tt0405508/\" title=\"Rakeysh Omprakash Mehra (dir.), Aamir Khan, Soha Ali Khan\">Rang De Basanti</a>\n",
       " <span class=\"secondaryInfo\">(2006)</span>\n",
       " </td>,\n",
       " <td class=\"titleColumn\">\n",
       "       73.\n",
       "       <a href=\"/title/tt3322420/\" title=\"Vikas Bahl (dir.), Kangana Ranaut, Rajkummar Rao\">Queen</a>\n",
       " <span class=\"secondaryInfo\">(2013)</span>\n",
       " </td>,\n",
       " <td class=\"titleColumn\">\n",
       "       74.\n",
       "       <a href=\"/title/tt1562872/\" title=\"Zoya Akhtar (dir.), Hrithik Roshan, Farhan Akhtar\">Zindagi Na Milegi Dobara</a>\n",
       " <span class=\"secondaryInfo\">(2011)</span>\n",
       " </td>,\n",
       " <td class=\"titleColumn\">\n",
       "       75.\n",
       "       <a href=\"/title/tt10324144/\" title=\"Anubhav Sinha (dir.), Ayushmann Khurrana, Nassar\">Article 15</a>\n",
       " <span class=\"secondaryInfo\">(2019)</span>\n",
       " </td>,\n",
       " <td class=\"titleColumn\">\n",
       "       76.\n",
       "       <a href=\"/title/tt1280558/\" title=\"Neeraj Pandey (dir.), Anupam Kher, Naseeruddin Shah\">A Wednesday</a>\n",
       " <span class=\"secondaryInfo\">(2008)</span>\n",
       " </td>,\n",
       " <td class=\"titleColumn\">\n",
       "       77.\n",
       "       <a href=\"/title/tt0374887/\" title=\"Rajkumar Hirani (dir.), Sanjay Dutt, Arshad Warsi\">Munna Bhai M.B.B.S.</a>\n",
       " <span class=\"secondaryInfo\">(2003)</span>\n",
       " </td>,\n",
       " <td class=\"titleColumn\">\n",
       "       78.\n",
       "       <a href=\"/title/tt0292490/\" title=\"Farhan Akhtar (dir.), Aamir Khan, Saif Ali Khan\">Dil Chahta Hai</a>\n",
       " <span class=\"secondaryInfo\">(2001)</span>\n",
       " </td>,\n",
       " <td class=\"titleColumn\">\n",
       "       79.\n",
       "       <a href=\"/title/tt0200087/\" title=\"John Mathew Matthan (dir.), Aamir Khan, Naseeruddin Shah\">Sarfarosh</a>\n",
       " <span class=\"secondaryInfo\">(1999)</span>\n",
       " </td>,\n",
       " <td class=\"titleColumn\">\n",
       "       80.\n",
       "       <a href=\"/title/tt4635372/\" title=\"Neeraj Ghaywan (dir.), Richa Chadha, Sanjay Mishra\">Masaan</a>\n",
       " <span class=\"secondaryInfo\">(2015)</span>\n",
       " </td>,\n",
       " <td class=\"titleColumn\">\n",
       "       81.\n",
       "       <a href=\"/title/tt0109117/\" title=\"Rajkumar Santoshi (dir.), Aamir Khan, Salman Khan\">Andaz Apna Apna</a>\n",
       " <span class=\"secondaryInfo\">(1994)</span>\n",
       " </td>,\n",
       " <td class=\"titleColumn\">\n",
       "       82.\n",
       "       <a href=\"/title/tt4851630/\" title=\"Dileesh Pothan (dir.), Fahadh Faasil, Aparna Balamurali\">Maheshinte Prathikaaram</a>\n",
       " <span class=\"secondaryInfo\">(2016)</span>\n",
       " </td>,\n",
       " <td class=\"titleColumn\">\n",
       "       83.\n",
       "       <a href=\"/title/tt2283748/\" title=\"Umesh Shukla (dir.), Paresh Rawal, Akshay Kumar\">OMG: Oh My God!</a>\n",
       " <span class=\"secondaryInfo\">(2012)</span>\n",
       " </td>,\n",
       " <td class=\"titleColumn\">\n",
       "       84.\n",
       "       <a href=\"/title/tt0105271/\" title=\"Mani Ratnam (dir.), Arvind Swamy, Madhoo\">Roja</a>\n",
       " <span class=\"secondaryInfo\">(1992)</span>\n",
       " </td>,\n",
       " <td class=\"titleColumn\">\n",
       "       85.\n",
       "       <a href=\"/title/tt0169102/\" title=\"Ashutosh Gowariker (dir.), Aamir Khan, Raghuvir Yadav\">Lagaan: Once Upon a Time in India</a>\n",
       " <span class=\"secondaryInfo\">(2001)</span>\n",
       " </td>,\n",
       " <td class=\"titleColumn\">\n",
       "       86.\n",
       "       <a href=\"/title/tt0242256/\" title=\"Mani Ratnam (dir.), Madhavan, Shalini\">Alai Payuthey</a>\n",
       " <span class=\"secondaryInfo\">(2000)</span>\n",
       " </td>,\n",
       " <td class=\"titleColumn\">\n",
       "       87.\n",
       "       <a href=\"/title/tt7060460/\" title=\"H. Vinoth (dir.), Karthi, Rakul Preet Singh\">Theeran adhigaaram ondru</a>\n",
       " <span class=\"secondaryInfo\">(2017)</span>\n",
       " </td>,\n",
       " <td class=\"titleColumn\">\n",
       "       88.\n",
       "       <a href=\"/title/tt1821480/\" title=\"Sujoy Ghosh (dir.), Vidya Balan, Parambrata Chattopadhyay\">Kahaani</a>\n",
       " <span class=\"secondaryInfo\">(2012)</span>\n",
       " </td>,\n",
       " <td class=\"titleColumn\">\n",
       "       89.\n",
       "       <a href=\"/title/tt0139876/\" title=\"Suresh Krishna (dir.), Rajinikanth, Nagma\">Baasha</a>\n",
       " <span class=\"secondaryInfo\">(1995)</span>\n",
       " </td>,\n",
       " <td class=\"titleColumn\">\n",
       "       90.\n",
       "       <a href=\"/title/tt2338151/\" title=\"Rajkumar Hirani (dir.), Aamir Khan, Anushka Sharma\">PK</a>\n",
       " <span class=\"secondaryInfo\">(2014)</span>\n",
       " </td>,\n",
       " <td class=\"titleColumn\">\n",
       "       91.\n",
       "       <a href=\"/title/tt8291224/\" title=\"Aditya Dhar (dir.), Vicky Kaushal, Paresh Rawal\">Uri: The Surgical Strike</a>\n",
       " <span class=\"secondaryInfo\">(2018)</span>\n",
       " </td>,\n",
       " <td class=\"titleColumn\">\n",
       "       92.\n",
       "       <a href=\"/title/tt0453729/\" title=\"Nagesh Kukunoor (dir.), Shreyas Talpade, Naseeruddin Shah\">Iqbal</a>\n",
       " <span class=\"secondaryInfo\">(2005)</span>\n",
       " </td>,\n",
       " <td class=\"titleColumn\">\n",
       "       93.\n",
       "       <a href=\"/title/tt2358592/\" title=\"Pawan Kumar (dir.), Sathish Neenasam, Sruthi Hariharan\">Lucia</a>\n",
       " <span class=\"secondaryInfo\">(2013)</span>\n",
       " </td>,\n",
       " <td class=\"titleColumn\">\n",
       "       94.\n",
       "       <a href=\"/title/tt5571734/\" title=\"Aniruddha Roy Chowdhury (dir.), Taapsee Pannu, Amitabh Bachchan\">Pink</a>\n",
       " <span class=\"secondaryInfo\">(2016)</span>\n",
       " </td>,\n",
       " <td class=\"titleColumn\">\n",
       "       95.\n",
       "       <a href=\"/title/tt2082197/\" title=\"Anurag Basu (dir.), Ranbir Kapoor, Priyanka Chopra\">Barfi!</a>\n",
       " <span class=\"secondaryInfo\">(2012)</span>\n",
       " </td>,\n",
       " <td class=\"titleColumn\">\n",
       "       96.\n",
       "       <a href=\"/title/tt0319736/\" title=\"Rajkumar Santoshi (dir.), Ajay Devgn, Sushant Singh\">The Legend of Bhagat Singh</a>\n",
       " <span class=\"secondaryInfo\">(2002)</span>\n",
       " </td>,\n",
       " <td class=\"titleColumn\">\n",
       "       97.\n",
       "       <a href=\"/title/tt0843326/\" title=\"Bhaskar (dir.), Siddharth, Genelia D'Souza\">Bommarillu</a>\n",
       " <span class=\"secondaryInfo\">(2006)</span>\n",
       " </td>,\n",
       " <td class=\"titleColumn\">\n",
       "       98.\n",
       "       <a href=\"/title/tt0379370/\" title=\"Vishal Bhardwaj (dir.), Irrfan Khan, Tabu\">Maqbool</a>\n",
       " <span class=\"secondaryInfo\">(2003)</span>\n",
       " </td>,\n",
       " <td class=\"titleColumn\">\n",
       "       99.\n",
       "       <a href=\"/title/tt0112553/\" title=\"Mani Ratnam (dir.), Arvind Swamy, Manisha Koirala\">Bombay</a>\n",
       " <span class=\"secondaryInfo\">(1995)</span>\n",
       " </td>,\n",
       " <td class=\"titleColumn\">\n",
       "       100.\n",
       "       <a href=\"/title/tt0488414/\" title=\"Vishal Bhardwaj (dir.), Ajay Devgn, Kareena Kapoor\">Omkara</a>\n",
       " <span class=\"secondaryInfo\">(2006)</span>\n",
       " </td>,\n",
       " <td class=\"titleColumn\">\n",
       "       101.\n",
       "       <a href=\"/title/tt8144834/\" title=\"Ajay Bahl (dir.), Akshaye Khanna, Richa Chadha\">Section 375</a>\n",
       " <span class=\"secondaryInfo\">(2019)</span>\n",
       " </td>,\n",
       " <td class=\"titleColumn\">\n",
       "       102.\n",
       "       <a href=\"/title/tt0456144/\" title=\"Rajkumar Hirani (dir.), Sanjay Dutt, Arshad Warsi\">Lage Raho Munna Bhai</a>\n",
       " <span class=\"secondaryInfo\">(2006)</span>\n",
       " </td>,\n",
       " <td class=\"titleColumn\">\n",
       "       103.\n",
       "       <a href=\"/title/tt0116630/\" title=\"S. Shankar (dir.), Kamal Haasan, Sukanya\">Indian</a>\n",
       " <span class=\"secondaryInfo\">(1996)</span>\n",
       " </td>,\n",
       " <td class=\"titleColumn\">\n",
       "       104.\n",
       "       <a href=\"/title/tt9052870/\" title=\"Nitesh Tiwari (dir.), Sushant Singh Rajput, Shraddha Kapoor\">Chhichhore</a>\n",
       " <span class=\"secondaryInfo\">(2019)</span>\n",
       " </td>,\n",
       " <td class=\"titleColumn\">\n",
       "       105.\n",
       "       <a href=\"/title/tt0072860/\" title=\"Yash Chopra (dir.), Amitabh Bachchan, Shashi Kapoor\">Deewaar</a>\n",
       " <span class=\"secondaryInfo\">(1975)</span>\n",
       " </td>,\n",
       " <td class=\"titleColumn\">\n",
       "       106.\n",
       "       <a href=\"/title/tt4849438/\" title=\"S.S. Rajamouli (dir.), Prabhas, Rana Daggubati\">Baahubali 2: The Conclusion</a>\n",
       " <span class=\"secondaryInfo\">(2017)</span>\n",
       " </td>,\n",
       " <td class=\"titleColumn\">\n",
       "       107.\n",
       "       <a href=\"/title/tt0112870/\" title=\"Aditya Chopra (dir.), Shah Rukh Khan, Kajol\">Dilwale Dulhania Le Jayenge</a>\n",
       " <span class=\"secondaryInfo\">(1995)</span>\n",
       " </td>,\n",
       " <td class=\"titleColumn\">\n",
       "       108.\n",
       "       <a href=\"/title/tt1261047/\" title=\"Anurag Kashyap (dir.), Kay Kay Menon, Raj Singh Chaudhary\">Gulaal</a>\n",
       " <span class=\"secondaryInfo\">(2009)</span>\n",
       " </td>,\n",
       " <td class=\"titleColumn\">\n",
       "       109.\n",
       "       <a href=\"/title/tt0063404/\" title=\"Jyoti Swaroop (dir.), Sunil Dutt, Saira Banu\">Padosan</a>\n",
       " <span class=\"secondaryInfo\">(1968)</span>\n",
       " </td>,\n",
       " <td class=\"titleColumn\">\n",
       "       110.\n",
       "       <a href=\"/title/tt3390572/\" title=\"Vishal Bhardwaj (dir.), Shahid Kapoor, Tabu\">Haider</a>\n",
       " <span class=\"secondaryInfo\">(2014)</span>\n",
       " </td>,\n",
       " <td class=\"titleColumn\">\n",
       "       111.\n",
       "       <a href=\"/title/tt5824826/\" title=\"Tharun Bhascker Dhaassyam (dir.), Abhay Bethiganti, Keshav Deepak\">Pelli Choopulu</a>\n",
       " <span class=\"secondaryInfo\">(2016)</span>\n",
       " </td>,\n",
       " <td class=\"titleColumn\">\n",
       "       112.\n",
       "       <a href=\"/title/tt0471571/\" title=\"Trivikram Srinivas (dir.), Mahesh Babu, Trisha Krishnan\">Athadu</a>\n",
       " <span class=\"secondaryInfo\">(2005)</span>\n",
       " </td>,\n",
       " <td class=\"titleColumn\">\n",
       "       113.\n",
       "       <a href=\"/title/tt2395469/\" title=\"Zoya Akhtar (dir.), Vijay Varma, Nakul Roshan Sahdev\">Gully Boy</a>\n",
       " <span class=\"secondaryInfo\">(2019)</span>\n",
       " </td>,\n",
       " <td class=\"titleColumn\">\n",
       "       114.\n",
       "       <a href=\"/title/tt0050188/\" title=\"Mehboob Khan (dir.), Nargis, Sunil Dutt\">Mother India</a>\n",
       " <span class=\"secondaryInfo\">(1957)</span>\n",
       " </td>,\n",
       " <td class=\"titleColumn\">\n",
       "       115.\n",
       "       <a href=\"/title/tt2882328/\" title=\"Anurag Kashyap (dir.), Rahul Bhatt, Ronit Roy\">Ugly</a>\n",
       " <span class=\"secondaryInfo\">(2013)</span>\n",
       " </td>,\n",
       " <td class=\"titleColumn\">\n",
       "       116.\n",
       "       <a href=\"/title/tt0213969/\" title=\"K.S. Ravikumar (dir.), Shivaji Ganesan, Rajinikanth\">Padayappa</a>\n",
       " <span class=\"secondaryInfo\">(1999)</span>\n",
       " </td>,\n",
       " <td class=\"titleColumn\">\n",
       "       117.\n",
       "       <a href=\"/title/tt2377938/\" title=\"Neeraj Pandey (dir.), Akshay Kumar, Anupam Kher\">Special Chabbis</a>\n",
       " <span class=\"secondaryInfo\">(2013)</span>\n",
       " </td>,\n",
       " <td class=\"titleColumn\">\n",
       "       118.\n",
       "       <a href=\"/title/tt7392212/\" title=\"Sukumar (dir.), Ram Charan, Samantha Ruth Prabhu\">Rangasthalam</a>\n",
       " <span class=\"secondaryInfo\">(2018)</span>\n",
       " </td>,\n",
       " <td class=\"titleColumn\">\n",
       "       119.\n",
       "       <a href=\"/title/tt1327035/\" title=\"Anurag Kashyap (dir.), Abhay Deol, Mahie Gill\">Dev.D</a>\n",
       " <span class=\"secondaryInfo\">(2009)</span>\n",
       " </td>,\n",
       " <td class=\"titleColumn\">\n",
       "       120.\n",
       "       <a href=\"/title/tt1773764/\" title=\"Anand Gandhi (dir.), Aydah El-Kashef, Yogesh Shah\">Ship of Theseus</a>\n",
       " <span class=\"secondaryInfo\">(2012)</span>\n",
       " </td>,\n",
       " <td class=\"titleColumn\">\n",
       "       121.\n",
       "       <a href=\"/title/tt0051792/\" title=\"Satyajit Ray (dir.), Chhabi Biswas, Sardar Akhtar\">Jalsaghar</a>\n",
       " <span class=\"secondaryInfo\">(1958)</span>\n",
       " </td>,\n",
       " <td class=\"titleColumn\">\n",
       "       122.\n",
       "       <a href=\"/title/tt7725596/\" title=\"Amit Ravindernath Sharma (dir.), Ayushmann Khurrana, Neena Gupta\">Badhaai ho</a>\n",
       " <span class=\"secondaryInfo\">(2018)</span>\n",
       " </td>,\n",
       " <td class=\"titleColumn\">\n",
       "       123.\n",
       "       <a href=\"/title/tt3863552/\" title=\"Kabir Khan (dir.), Salman Khan, Harshaali Malhotra\">Bajrangi Bhaijaan</a>\n",
       " <span class=\"secondaryInfo\">(2015)</span>\n",
       " </td>,\n",
       " <td class=\"titleColumn\">\n",
       "       124.\n",
       "       <a href=\"/title/tt3394420/\" title=\"Rakshit Shetty (dir.), Kishore Kumar G., Rakshit Shetty\">Ulidavaru Kandanthe</a>\n",
       " <span class=\"secondaryInfo\">(2014)</span>\n",
       " </td>,\n",
       " <td class=\"titleColumn\">\n",
       "       125.\n",
       "       <a href=\"/title/tt0220832/\" title=\"Mahesh Manjrekar (dir.), Sanjay Dutt, Namrata Shirodkar\">Vaastav: The Reality</a>\n",
       " <span class=\"secondaryInfo\">(1999)</span>\n",
       " </td>,\n",
       " <td class=\"titleColumn\">\n",
       "       126.\n",
       "       <a href=\"/title/tt0296574/\" title=\"Ram Gopal Varma (dir.), Ajay Devgn, Mohanlal\">Company</a>\n",
       " <span class=\"secondaryInfo\">(2002)</span>\n",
       " </td>,\n",
       " <td class=\"titleColumn\">\n",
       "       127.\n",
       "       <a href=\"/title/tt7294534/\" title=\"Sandeep Reddy Vanga (dir.), Vijay Deverakonda, Shalini Pandey\">Arjun Reddy</a>\n",
       " <span class=\"secondaryInfo\">(2017)</span>\n",
       " </td>,\n",
       " <td class=\"titleColumn\">\n",
       "       128.\n",
       "       <a href=\"/title/tt7180544/\" title=\"Anurag Kashyap (dir.), Vineet Kumar Singh, Jimmy Sheirgill\">Mukkabaaz</a>\n",
       " <span class=\"secondaryInfo\">(2017)</span>\n",
       " </td>,\n",
       " <td class=\"titleColumn\">\n",
       "       129.\n",
       "       <a href=\"/title/tt3614516/\" title=\"Rajat Kapoor (dir.), Sanjay Mishra, Seema Bhargava\">Ankhon Dekhi</a>\n",
       " <span class=\"secondaryInfo\">(2013)</span>\n",
       " </td>,\n",
       " <td class=\"titleColumn\">\n",
       "       130.\n",
       "       <a href=\"/title/tt1180583/\" title=\"Gautham Vasudev Menon (dir.), Suriya, Simran\">Vaaranam Aayiram</a>\n",
       " <span class=\"secondaryInfo\">(2008)</span>\n",
       " </td>,\n",
       " <td class=\"titleColumn\">\n",
       "       131.\n",
       "       <a href=\"/title/tt1649431/\" title=\"Radha Krishna Jagarlamudi (dir.), Manoj Kumar Manchu, Allu Arjun\">Vedam</a>\n",
       " <span class=\"secondaryInfo\">(2010)</span>\n",
       " </td>,\n",
       " <td class=\"titleColumn\">\n",
       "       132.\n",
       "       <a href=\"/title/tt7838252/\" title=\"Prashanth Neel (dir.), Yash, Srinidhi Shetty\">K.G.F: Chapter 1</a>\n",
       " <span class=\"secondaryInfo\">(2018)</span>\n",
       " </td>,\n",
       " <td class=\"titleColumn\">\n",
       "       133.\n",
       "       <a href=\"/title/tt3449292/\" title=\"Ketan Mehta (dir.), Nawazuddin Siddiqui, Radhika Apte\">Manjhi: The Mountain Man</a>\n",
       " <span class=\"secondaryInfo\">(2015)</span>\n",
       " </td>,\n",
       " <td class=\"titleColumn\">\n",
       "       134.\n",
       "       <a href=\"/title/tt2585562/\" title=\"Karthik Subbaraj (dir.), Vijay Sethupathi, Ramya Nambeeshan\">Pizza</a>\n",
       " <span class=\"secondaryInfo\">(2012)</span>\n",
       " </td>,\n",
       " <td class=\"titleColumn\">\n",
       "       135.\n",
       "       <a href=\"/title/tt1188996/\" title=\"Karan Johar (dir.), Shah Rukh Khan, Kajol\">My Name Is Khan</a>\n",
       " <span class=\"secondaryInfo\">(2010)</span>\n",
       " </td>,\n",
       " <td class=\"titleColumn\">\n",
       "       136.\n",
       "       <a href=\"/title/tt0347304/\" title=\"Nikkhil Advani (dir.), Preity Zinta, Shah Rukh Khan\">Kal Ho Naa Ho</a>\n",
       " <span class=\"secondaryInfo\">(2003)</span>\n",
       " </td>,\n",
       " <td class=\"titleColumn\">\n",
       "       137.\n",
       "       <a href=\"/title/tt1093370/\" title=\"Imtiaz Ali (dir.), Shahid Kapoor, Kareena Kapoor\">Jab We Met</a>\n",
       " <span class=\"secondaryInfo\">(2007)</span>\n",
       " </td>,\n",
       " <td class=\"titleColumn\">\n",
       "       138.\n",
       "       <a href=\"/title/tt8110330/\" title=\"Mukesh Chhabra (dir.), Sushant Singh Rajput, Sanjana Sanghi\">Dil Bechara</a>\n",
       " <span class=\"secondaryInfo\">(2020)</span>\n",
       " </td>,\n",
       " <td class=\"titleColumn\">\n",
       "       139.\n",
       "       <a href=\"/title/tt2924472/\" title=\"Roshan Andrews (dir.), Prithviraj Sukumaran, Jayasurya\">Mumbai Police</a>\n",
       " <span class=\"secondaryInfo\">(2013)</span>\n",
       " </td>,\n",
       " <td class=\"titleColumn\">\n",
       "       140.\n",
       "       <a href=\"/title/tt3124456/\" title=\"Jeethu Joseph (dir.), Prithviraj Sukumaran, Sreejith Ravi\">Memories</a>\n",
       " <span class=\"secondaryInfo\">(2013)</span>\n",
       " </td>,\n",
       " <td class=\"titleColumn\">\n",
       "       141.\n",
       "       <a href=\"/title/tt1417299/\" title=\"Chakri Toleti (dir.), Kamal Haasan, Mohanlal\">Unnaipol Oruvan</a>\n",
       " <span class=\"secondaryInfo\">(2009)</span>\n",
       " </td>,\n",
       " <td class=\"titleColumn\">\n",
       "       142.\n",
       "       <a href=\"/title/tt7218518/\" title=\"R. Balki (dir.), Akshay Kumar, Radhika Apte\">Padman</a>\n",
       " <span class=\"secondaryInfo\">(2018)</span>\n",
       " </td>,\n",
       " <td class=\"titleColumn\">\n",
       "       143.\n",
       "       <a href=\"/title/tt0118751/\" title=\"J.P. Dutta (dir.), Sunny Deol, Sunil Shetty\">Border</a>\n",
       " <span class=\"secondaryInfo\">(1997)</span>\n",
       " </td>,\n",
       " <td class=\"titleColumn\">\n",
       "       144.\n",
       "       <a href=\"/title/tt0323013/\" title=\"Farhan Akhtar (dir.), Hrithik Roshan, Preity Zinta\">Lakshya</a>\n",
       " <span class=\"secondaryInfo\">(2004)</span>\n",
       " </td>,\n",
       " <td class=\"titleColumn\">\n",
       "       145.\n",
       "       <a href=\"/title/tt0824316/\" title=\"Nagesh Kukunoor (dir.), Ayesha Takia, Shreyas Talpade\">Dor</a>\n",
       " <span class=\"secondaryInfo\">(2006)</span>\n",
       " </td>,\n",
       " <td class=\"titleColumn\">\n",
       "       146.\n",
       "       <a href=\"/title/tt7485048/\" title=\"Vikas Bahl (dir.), Hrithik Roshan, Mrunal Thakur\">Super 30</a>\n",
       " <span class=\"secondaryInfo\">(2019)</span>\n",
       " </td>,\n",
       " <td class=\"titleColumn\">\n",
       "       147.\n",
       "       <a href=\"/title/tt4387040/\" title=\"Raja Menon (dir.), Akshay Kumar, Nimrat Kaur\">Airlift</a>\n",
       " <span class=\"secondaryInfo\">(2016)</span>\n",
       " </td>,\n",
       " <td class=\"titleColumn\">\n",
       "       148.\n",
       "       <a href=\"/title/tt5082014/\" title=\"Martin Prakkat (dir.), Dulquer Salmaan, Parvathy Thiruvothu\">Charlie</a>\n",
       " <span class=\"secondaryInfo\">(2015)</span>\n",
       " </td>,\n",
       " <td class=\"titleColumn\">\n",
       "       149.\n",
       "       <a href=\"/title/tt0455829/\" title=\"Gautham Vasudev Menon (dir.), Kamal Haasan, Jyotika\">Vettaiyaadu Vilaiyaadu</a>\n",
       " <span class=\"secondaryInfo\">(2006)</span>\n",
       " </td>,\n",
       " <td class=\"titleColumn\">\n",
       "       150.\n",
       "       <a href=\"/title/tt2631186/\" title=\"S.S. Rajamouli (dir.), Prabhas, Rana Daggubati\">Bãhubali: The Beginning</a>\n",
       " <span class=\"secondaryInfo\">(2015)</span>\n",
       " </td>,\n",
       " <td class=\"titleColumn\">\n",
       "       151.\n",
       "       <a href=\"/title/tt3848892/\" title=\"Neeraj Pandey (dir.), Akshay Kumar, Danny Denzongpa\">Baby</a>\n",
       " <span class=\"secondaryInfo\">(2015)</span>\n",
       " </td>,\n",
       " <td class=\"titleColumn\">\n",
       "       152.\n",
       "       <a href=\"/title/tt0375878/\" title=\"Gautham Vasudev Menon (dir.), Suriya, Jyotika\">Kaakha..Kaakha: The Police</a>\n",
       " <span class=\"secondaryInfo\">(2003)</span>\n",
       " </td>,\n",
       " <td class=\"titleColumn\">\n",
       "       153.\n",
       "       <a href=\"/title/tt0222012/\" title=\"Kamal Haasan (dir.), Kamal Haasan, Shah Rukh Khan\">Hey Ram</a>\n",
       " <span class=\"secondaryInfo\">(2000)</span>\n",
       " </td>,\n",
       " <td class=\"titleColumn\">\n",
       "       154.\n",
       "       <a href=\"/title/tt2181931/\" title=\"Gauri Shinde (dir.), Sridevi, Adil Hussain\">English Vinglish</a>\n",
       " <span class=\"secondaryInfo\">(2012)</span>\n",
       " </td>,\n",
       " <td class=\"titleColumn\">\n",
       "       155.\n",
       "       <a href=\"/title/tt0373856/\" title=\"Prakash Jha (dir.), Ajay Devgn, Gracy Singh\">Gangaajal</a>\n",
       " <span class=\"secondaryInfo\">(2003)</span>\n",
       " </td>,\n",
       " <td class=\"titleColumn\">\n",
       "       156.\n",
       "       <a href=\"/title/tt0366840/\" title=\"Gunasekhar (dir.), Mahesh Babu, Bhoomika Chawla\">Okkadu</a>\n",
       " <span class=\"secondaryInfo\">(2003)</span>\n",
       " </td>,\n",
       " <td class=\"titleColumn\">\n",
       "       157.\n",
       "       <a href=\"/title/tt2350496/\" title=\"Ritesh Batra (dir.), Irrfan Khan, Nimrat Kaur\">The Lunchbox</a>\n",
       " <span class=\"secondaryInfo\">(2013)</span>\n",
       " </td>,\n",
       " <td class=\"titleColumn\">\n",
       "       158.\n",
       "       <a href=\"/title/tt5764096/\" title=\"Saket Chaudhary (dir.), Irrfan Khan, Saba Qamar\">Hindi Medium</a>\n",
       " <span class=\"secondaryInfo\">(2017)</span>\n",
       " </td>,\n",
       " <td class=\"titleColumn\">\n",
       "       159.\n",
       "       <a href=\"/title/tt0402014/\" title=\"Shimit Amin (dir.), Nana Patekar, Revathi\">Ab Tak Chhappan</a>\n",
       " <span class=\"secondaryInfo\">(2004)</span>\n",
       " </td>,\n",
       " <td class=\"titleColumn\">\n",
       "       160.\n",
       "       <a href=\"/title/tt1077248/\" title=\"Sriram Raghavan (dir.), Dharmendra, Rimi Sen\">Johnny Gaddaar</a>\n",
       " <span class=\"secondaryInfo\">(2007)</span>\n",
       " </td>,\n",
       " <td class=\"titleColumn\">\n",
       "       161.\n",
       "       <a href=\"/title/tt2926068/\" title=\"Vikram K. Kumar (dir.), Akkineni Nageshwara Rao, Nagarjuna Akkineni\">Manam</a>\n",
       " <span class=\"secondaryInfo\">(2014)</span>\n",
       " </td>,\n",
       " <td class=\"titleColumn\">\n",
       "       162.\n",
       "       <a href=\"/title/tt6108090/\" title=\"Advait Chandan (dir.), Zaira Wasim, Meher Vij\">Secret Superstar</a>\n",
       " <span class=\"secondaryInfo\">(2017)</span>\n",
       " </td>,\n",
       " <td class=\"titleColumn\">\n",
       "       163.\n",
       "       <a href=\"/title/tt8130968/\" title=\"Sujoy Ghosh (dir.), Amitabh Bachchan, Taapsee Pannu\">Badla</a>\n",
       " <span class=\"secondaryInfo\">(2019)</span>\n",
       " </td>,\n",
       " <td class=\"titleColumn\">\n",
       "       164.\n",
       "       <a href=\"/title/tt8108200/\" title=\"Abhishek Chaubey (dir.), Sushant Singh Rajput, Bhumi Pednekar\">Sonchiriya</a>\n",
       " <span class=\"secondaryInfo\">(2019)</span>\n",
       " </td>,\n",
       " <td class=\"titleColumn\">\n",
       "       165.\n",
       "       <a href=\"/title/tt7098658/\" title=\"Meghna Gulzar (dir.), Alia Bhatt, Vicky Kaushal\">Raazi</a>\n",
       " <span class=\"secondaryInfo\">(2018)</span>\n",
       " </td>,\n",
       " <td class=\"titleColumn\">\n",
       "       166.\n",
       "       <a href=\"/title/tt0093578/\" title=\"Shekhar Kapur (dir.), Anil Kapoor, Sridevi\">Mr. India</a>\n",
       " <span class=\"secondaryInfo\">(1987)</span>\n",
       " </td>,\n",
       " <td class=\"titleColumn\">\n",
       "       167.\n",
       "       <a href=\"/title/tt0291376/\" title=\"S. Shankar (dir.), Anil Kapoor, Rani Mukerji\">Nayak: The Real Hero</a>\n",
       " <span class=\"secondaryInfo\">(2001)</span>\n",
       " </td>,\n",
       " <td class=\"titleColumn\">\n",
       "       168.\n",
       "       <a href=\"/title/tt2317337/\" title=\"Shoojit Sircar (dir.), Ayushmann Khurrana, Yami Gautam\">Vicky Donor</a>\n",
       " <span class=\"secondaryInfo\">(2012)</span>\n",
       " </td>,\n",
       " <td class=\"titleColumn\">\n",
       "       169.\n",
       "       <a href=\"/title/tt0816258/\" title=\"Puri Jagannadh (dir.), Mahesh Babu, Ileana D'Cruz\">Pokiri</a>\n",
       " <span class=\"secondaryInfo\">(2006)</span>\n",
       " </td>,\n",
       " <td class=\"titleColumn\">\n",
       "       170.\n",
       "       <a href=\"/title/tt4434004/\" title=\"Abhishek Chaubey (dir.), Shahid Kapoor, Alia Bhatt\">Udta Punjab</a>\n",
       " <span class=\"secondaryInfo\">(2016)</span>\n",
       " </td>,\n",
       " <td class=\"titleColumn\">\n",
       "       171.\n",
       "       <a href=\"/title/tt0077451/\" title=\"Chandra Barot (dir.), Amitabh Bachchan, Zeenat Aman\">Don</a>\n",
       " <span class=\"secondaryInfo\">(1978)</span>\n",
       " </td>,\n",
       " <td class=\"titleColumn\">\n",
       "       172.\n",
       "       <a href=\"/title/tt1907761/\" title=\"Amole Gupte (dir.), Partho A. Gupte, Numaan Sheikh\">Stanley Ka Dabba</a>\n",
       " <span class=\"secondaryInfo\">(2011)</span>\n",
       " </td>,\n",
       " <td class=\"titleColumn\">\n",
       "       173.\n",
       "       <a href=\"/title/tt1230165/\" title=\"Abhishek Kapoor (dir.), Arjun Rampal, Farhan Akhtar\">Rock On!!</a>\n",
       " <span class=\"secondaryInfo\">(2008)</span>\n",
       " </td>,\n",
       " <td class=\"titleColumn\">\n",
       "       174.\n",
       "       <a href=\"/title/tt4432480/\" title=\"Anup Bhandari (dir.), Nirup Bhandari, Radhika Narayan\">RangiTaranga</a>\n",
       " <span class=\"secondaryInfo\">(2015)</span>\n",
       " </td>,\n",
       " <td class=\"titleColumn\">\n",
       "       175.\n",
       "       <a href=\"/title/tt1288638/\" title=\"Shashant Shah (dir.), Vinay Pathak, Sarita Joshi\">Dasvidaniya</a>\n",
       " <span class=\"secondaryInfo\">(2008)</span>\n",
       " </td>,\n",
       " <td class=\"titleColumn\">\n",
       "       176.\n",
       "       <a href=\"/title/tt0420332/\" title=\"Yash Chopra (dir.), Shah Rukh Khan, Preity Zinta\">Veer-Zaara</a>\n",
       " <span class=\"secondaryInfo\">(2004)</span>\n",
       " </td>,\n",
       " <td class=\"titleColumn\">\n",
       "       177.\n",
       "       <a href=\"/title/tt5121000/\" title=\"Hansal Mehta (dir.), Manoj Bajpayee, Rajkummar Rao\">Aligarh</a>\n",
       " <span class=\"secondaryInfo\">(2015)</span>\n",
       " </td>,\n",
       " <td class=\"titleColumn\">\n",
       "       178.\n",
       "       <a href=\"/title/tt0196069/\" title=\"Pan Nalin (dir.), Shawn Ku, Christy Chung\">Samsara</a>\n",
       " <span class=\"secondaryInfo\">(2001)</span>\n",
       " </td>,\n",
       " <td class=\"titleColumn\">\n",
       "       179.\n",
       "       <a href=\"/title/tt0499375/\" title=\"Mani Ratnam (dir.), Mithun Chakraborty, Abhishek Bachchan\">Guru</a>\n",
       " <span class=\"secondaryInfo\">(2007)</span>\n",
       " </td>,\n",
       " <td class=\"titleColumn\">\n",
       "       180.\n",
       "       <a href=\"/title/tt0431619/\" title=\"Sukumar (dir.), Allu Arjun, Anuradha Mehta\">Arya</a>\n",
       " <span class=\"secondaryInfo\">(2004)</span>\n",
       " </td>,\n",
       " <td class=\"titleColumn\">\n",
       "       181.\n",
       "       <a href=\"/title/tt7758160/\" title=\"Sashi Kiran Tikka (dir.), Adivi Sesh, Sobhita Dhulipala\">Goodachari</a>\n",
       " <span class=\"secondaryInfo\">(2018)</span>\n",
       " </td>,\n",
       " <td class=\"titleColumn\">\n",
       "       182.\n",
       "       <a href=\"/title/tt3822396/\" title=\"Velraj (dir.), Dhanush, Saranya Ponvannan\">Velaiilla Pattadhari</a>\n",
       " <span class=\"secondaryInfo\">(2014)</span>\n",
       " </td>,\n",
       " <td class=\"titleColumn\">\n",
       "       183.\n",
       "       <a href=\"/title/tt1292703/\" title=\"Dibakar Banerjee (dir.), Abhay Deol, Paresh Rawal\">Oye Lucky! Lucky Oye!</a>\n",
       " <span class=\"secondaryInfo\">(2008)</span>\n",
       " </td>,\n",
       " <td class=\"titleColumn\">\n",
       "       184.\n",
       "       <a href=\"/title/tt4169250/\" title=\"Neeraj Pandey (dir.), Sushant Singh Rajput, Kiara Advani\">M.S. Dhoni: The Untold Story</a>\n",
       " <span class=\"secondaryInfo\">(2016)</span>\n",
       " </td>,\n",
       " <td class=\"titleColumn\">\n",
       "       185.\n",
       "       <a href=\"/title/tt1266583/\" title=\"Nishikant Kamat (dir.), Paresh Rawal, Kay Kay Menon\">Mumbai Meri Jaan</a>\n",
       " <span class=\"secondaryInfo\">(2008)</span>\n",
       " </td>,\n",
       " <td class=\"titleColumn\">\n",
       "       186.\n",
       "       <a href=\"/title/tt2213054/\" title=\"Abhishek Kapoor (dir.), Amit Sadh, Sushant Singh Rajput\">Kai po che!</a>\n",
       " <span class=\"secondaryInfo\">(2013)</span>\n",
       " </td>,\n",
       " <td class=\"titleColumn\">\n",
       "       187.\n",
       "       <a href=\"/title/tt4900716/\" title=\"Shakun Batra (dir.), Rishi Kapoor, Rajat Kapoor\">Kapoor &amp; Sons</a>\n",
       " <span class=\"secondaryInfo\">(2016)</span>\n",
       " </td>,\n",
       " <td class=\"titleColumn\">\n",
       "       188.\n",
       "       <a href=\"/title/tt1839596/\" title=\"Imtiaz Ali (dir.), Ranbir Kapoor, Nargis Fakhri\">Rockstar</a>\n",
       " <span class=\"secondaryInfo\">(2011)</span>\n",
       " </td>,\n",
       " <td class=\"titleColumn\">\n",
       "       189.\n",
       "       <a href=\"/title/tt0110222/\" title=\"Kundan Shah (dir.), Shah Rukh Khan, Suchitra Krishnamoorthi\">Kabhi Haan Kabhi Naa</a>\n",
       " <span class=\"secondaryInfo\">(1994)</span>\n",
       " </td>,\n",
       " <td class=\"titleColumn\">\n",
       "       190.\n",
       "       <a href=\"/title/tt2258337/\" title=\"S.S. Rajamouli (dir.), Sudeep, Nani\">Eega</a>\n",
       " <span class=\"secondaryInfo\">(2012)</span>\n",
       " </td>,\n",
       " <td class=\"titleColumn\">\n",
       "       191.\n",
       "       <a href=\"/title/tt0109555/\" title=\"Yash Chopra (dir.), Juhi Chawla, Sunny Deol\">Darr</a>\n",
       " <span class=\"secondaryInfo\">(1993)</span>\n",
       " </td>,\n",
       " <td class=\"titleColumn\">\n",
       "       192.\n",
       "       <a href=\"/title/tt1241195/\" title=\"Raj Kumar Gupta (dir.), Rajeev Khandelwal, Aishwarya\">Aamir</a>\n",
       " <span class=\"secondaryInfo\">(2008)</span>\n",
       " </td>,\n",
       " <td class=\"titleColumn\">\n",
       "       193.\n",
       "       <a href=\"/title/tt6484982/\" title=\"Amit Masurkar (dir.), Rajkummar Rao, Pankaj Tripathi\">Newton</a>\n",
       " <span class=\"secondaryInfo\">(2017)</span>\n",
       " </td>,\n",
       " <td class=\"titleColumn\">\n",
       "       194.\n",
       "       <a href=\"/title/tt4981966/\" title=\"Vikram K. Kumar (dir.), Suriya, Samantha Ruth Prabhu\">24</a>\n",
       " <span class=\"secondaryInfo\">(2016)</span>\n",
       " </td>,\n",
       " <td class=\"titleColumn\">\n",
       "       195.\n",
       "       <a href=\"/title/tt3320542/\" title=\"Prashanth Neel (dir.), Sri Murali, Haripriya\">Ugramm</a>\n",
       " <span class=\"secondaryInfo\">(2014)</span>\n",
       " </td>,\n",
       " <td class=\"titleColumn\">\n",
       "       196.\n",
       "       <a href=\"/title/tt0150433/\" title=\"Deepa Mehta (dir.), Aamir Khan, Nandita Das\">Earth</a>\n",
       " <span class=\"secondaryInfo\">(1998)</span>\n",
       " </td>,\n",
       " <td class=\"titleColumn\">\n",
       "       197.\n",
       "       <a href=\"/title/tt0098999/\" title=\"Mukul Anand (dir.), Amitabh Bachchan, Mithun Chakraborty\">Agneepath</a>\n",
       " <span class=\"secondaryInfo\">(1990)</span>\n",
       " </td>,\n",
       " <td class=\"titleColumn\">\n",
       "       198.\n",
       "       <a href=\"/title/tt2855648/\" title=\"Shoojit Sircar (dir.), John Abraham, Nargis Fakhri\">Madras Cafe</a>\n",
       " <span class=\"secondaryInfo\">(2013)</span>\n",
       " </td>,\n",
       " <td class=\"titleColumn\">\n",
       "       199.\n",
       "       <a href=\"/title/tt1926313/\" title=\"Luv Ranjan (dir.), Kartik Aaryan, Raayo S. Bakhirta\">Pyaar Ka Punchnama</a>\n",
       " <span class=\"secondaryInfo\">(2011)</span>\n",
       " </td>,\n",
       " <td class=\"titleColumn\">\n",
       "       200.\n",
       "       <a href=\"/title/tt5286444/\" title=\"Ram Madhvani (dir.), Sonam Kapoor, Shabana Azmi\">Neerja</a>\n",
       " <span class=\"secondaryInfo\">(2016)</span>\n",
       " </td>,\n",
       " <td class=\"titleColumn\">\n",
       "       201.\n",
       "       <a href=\"/title/tt0432047/\" title=\"Ram Gopal Varma (dir.), Amitabh Bachchan, Abhishek Bachchan\">Sarkar</a>\n",
       " <span class=\"secondaryInfo\">(2005)</span>\n",
       " </td>,\n",
       " <td class=\"titleColumn\">\n",
       "       202.\n",
       "       <a href=\"/title/tt1014672/\" title=\"Sagar Ballary (dir.), Vinay Pathak, Rajat Kapoor\">Bheja Fry</a>\n",
       " <span class=\"secondaryInfo\">(2007)</span>\n",
       " </td>,\n",
       " <td class=\"titleColumn\">\n",
       "       203.\n",
       "       <a href=\"/title/tt8108268/\" title=\"Vivek Agnihotri (dir.), Shweta Basu Prasad, Mithun Chakraborty\">The Tashkent Files</a>\n",
       " <span class=\"secondaryInfo\">(2019)</span>\n",
       " </td>,\n",
       " <td class=\"titleColumn\">\n",
       "       204.\n",
       "       <a href=\"/title/tt2187153/\" title=\"A.R. Murugadoss (dir.), Joseph Vijay, Kajal Aggarwal\">Thuppakki</a>\n",
       " <span class=\"secondaryInfo\">(2012)</span>\n",
       " </td>,\n",
       " <td class=\"titleColumn\">\n",
       "       205.\n",
       "       <a href=\"/title/tt2980794/\" title=\"Imtiaz Ali (dir.), Alia Bhatt, Randeep Hooda\">Highway</a>\n",
       " <span class=\"secondaryInfo\">(2014)</span>\n",
       " </td>,\n",
       " <td class=\"titleColumn\">\n",
       "       206.\n",
       "       <a href=\"/title/tt3447364/\" title=\"Dibakar Banerjee (dir.), Sushant Singh Rajput, Anand Tiwari\">Detective Byomkesh Bakshy!</a>\n",
       " <span class=\"secondaryInfo\">(2015)</span>\n",
       " </td>,\n",
       " <td class=\"titleColumn\">\n",
       "       207.\n",
       "       <a href=\"/title/tt1447500/\" title=\"S.S. Rajamouli (dir.), Ram Charan, Kajal Aggarwal\">Magadheera</a>\n",
       " <span class=\"secondaryInfo\">(2009)</span>\n",
       " </td>,\n",
       " <td class=\"titleColumn\">\n",
       "       208.\n",
       "       <a href=\"/title/tt0920464/\" title=\"Navdeep Singh (dir.), Abhay Deol, Gul Panag\">Manorama: Six Feet Under</a>\n",
       " <span class=\"secondaryInfo\">(2007)</span>\n",
       " </td>,\n",
       " <td class=\"titleColumn\">\n",
       "       209.\n",
       "       <a href=\"/title/tt0106333/\" title=\"Abbas Alibhai Burmawalla (dir.), Shah Rukh Khan, Kajol\">Baazigar</a>\n",
       " <span class=\"secondaryInfo\">(1993)</span>\n",
       " </td>,\n",
       " <td class=\"titleColumn\">\n",
       "       210.\n",
       "       <a href=\"/title/tt2140465/\" title=\"Aanand L. Rai (dir.), Kangana Ranaut, Madhavan\">Tanu Weds Manu Returns</a>\n",
       " <span class=\"secondaryInfo\">(2015)</span>\n",
       " </td>,\n",
       " <td class=\"titleColumn\">\n",
       "       211.\n",
       "       <a href=\"/title/tt3801314/\" title=\"A.R. Murugadoss (dir.), Joseph Vijay, Samantha Ruth Prabhu\">Kaththi</a>\n",
       " <span class=\"secondaryInfo\">(2014)</span>\n",
       " </td>,\n",
       " <td class=\"titleColumn\">\n",
       "       212.\n",
       "       <a href=\"/title/tt5310090/\" title=\"Sudha Kongara (dir.), Madhavan, Nassar\">Saala Khadoos</a>\n",
       " <span class=\"secondaryInfo\">(2016)</span>\n",
       " </td>,\n",
       " <td class=\"titleColumn\">\n",
       "       213.\n",
       "       <a href=\"/title/tt1324059/\" title=\"Ayan Mukherjee (dir.), Ranbir Kapoor, Konkona Sen Sharma\">Wake Up Sid</a>\n",
       " <span class=\"secondaryInfo\">(2009)</span>\n",
       " </td>,\n",
       " <td class=\"titleColumn\">\n",
       "       214.\n",
       "       <a href=\"/title/tt3767372/\" title=\"Shoojit Sircar (dir.), Deepika Padukone, Amitabh Bachchan\">Piku</a>\n",
       " <span class=\"secondaryInfo\">(2015)</span>\n",
       " </td>,\n",
       " <td class=\"titleColumn\">\n",
       "       215.\n",
       "       <a href=\"/title/tt2375559/\" title=\"Sukumar (dir.), Mahesh Babu, Kriti Sanon\">1 - Nenokkadine</a>\n",
       " <span class=\"secondaryInfo\">(2014)</span>\n",
       " </td>,\n",
       " <td class=\"titleColumn\">\n",
       "       216.\n",
       "       <a href=\"/title/tt0172684/\" title=\"Karan Johar (dir.), Shah Rukh Khan, Kajol\">Kuch Kuch Hota Hai</a>\n",
       " <span class=\"secondaryInfo\">(1998)</span>\n",
       " </td>,\n",
       " <td class=\"titleColumn\">\n",
       "       217.\n",
       "       <a href=\"/title/tt6452574/\" title=\"Rajkumar Hirani (dir.), Ranbir Kapoor, Paresh Rawal\">Sanju</a>\n",
       " <span class=\"secondaryInfo\">(2018)</span>\n",
       " </td>,\n",
       " <td class=\"titleColumn\">\n",
       "       218.\n",
       "       <a href=\"/title/tt9675716/\" title=\"H. Vinoth (dir.), Ajith Kumar, Shraddha Srinath\">Nerkonda Paarvai</a>\n",
       " <span class=\"secondaryInfo\">(2019)</span>\n",
       " </td>,\n",
       " <td class=\"titleColumn\">\n",
       "       219.\n",
       "       <a href=\"/title/tt6027478/\" title=\"Surender Reddy (dir.), Ram Charan, Arvind Swamy\">Dhruva</a>\n",
       " <span class=\"secondaryInfo\">(2016)</span>\n",
       " </td>,\n",
       " <td class=\"titleColumn\">\n",
       "       220.\n",
       "       <a href=\"/title/tt7212754/\" title=\"Anurag Basu (dir.), Pankaj Tripathi, Abhishek Bachchan\">Ludo</a>\n",
       " <span class=\"secondaryInfo\">(2020)</span>\n",
       " </td>,\n",
       " <td class=\"titleColumn\">\n",
       "       221.\n",
       "       <a href=\"/title/tt1934231/\" title=\"Abhinay Deo (dir.), Imran Khan, Vir Das\">Delhi Belly</a>\n",
       " <span class=\"secondaryInfo\">(2011)</span>\n",
       " </td>,\n",
       " <td class=\"titleColumn\">\n",
       "       222.\n",
       "       <a href=\"/title/tt0449994/\" title=\"Ashutosh Gowariker (dir.), Hrithik Roshan, Aishwarya Rai Bachchan\">Jodhaa Akbar</a>\n",
       " <span class=\"secondaryInfo\">(2008)</span>\n",
       " </td>,\n",
       " <td class=\"titleColumn\">\n",
       "       223.\n",
       "       <a href=\"/title/tt0238936/\" title=\"Sanjay Leela Bhansali (dir.), Shah Rukh Khan, Aishwarya Rai Bachchan\">Devdas</a>\n",
       " <span class=\"secondaryInfo\">(2002)</span>\n",
       " </td>,\n",
       " <td class=\"titleColumn\">\n",
       "       224.\n",
       "       <a href=\"/title/tt8108202/\" title=\"Amar Kaushik (dir.), Rajkummar Rao, Shraddha Kapoor\">Stree</a>\n",
       " <span class=\"secondaryInfo\">(2018)</span>\n",
       " </td>,\n",
       " <td class=\"titleColumn\">\n",
       "       225.\n",
       "       <a href=\"/title/tt6826438/\" title=\"Abhishek Sharma (dir.), John Abraham, Boman Irani\">Parmanu: The Story of Pokhran</a>\n",
       " <span class=\"secondaryInfo\">(2018)</span>\n",
       " </td>,\n",
       " <td class=\"titleColumn\">\n",
       "       226.\n",
       "       <a href=\"/title/tt6206564/\" title=\"Vikramaditya Motwane (dir.), Rajkummar Rao, Geetanjali Thapa\">Trapped</a>\n",
       " <span class=\"secondaryInfo\">(2016)</span>\n",
       " </td>,\n",
       " <td class=\"titleColumn\">\n",
       "       227.\n",
       "       <a href=\"/title/tt2359810/\" title=\"Aanand L. Rai (dir.), Dhanush, Sonam Kapoor\">Raanjhanaa</a>\n",
       " <span class=\"secondaryInfo\">(2013)</span>\n",
       " </td>,\n",
       " <td class=\"titleColumn\">\n",
       "       228.\n",
       "       <a href=\"/title/tt10515526/\" title=\"Rajesh Krishnan (dir.), Kunal Khemu, Rasika Dugal\">Lootcase</a>\n",
       " <span class=\"secondaryInfo\">(2020)</span>\n",
       " </td>,\n",
       " <td class=\"titleColumn\">\n",
       "       229.\n",
       "       <a href=\"/title/tt0164538/\" title=\"Mani Ratnam (dir.), Shah Rukh Khan, Manisha Koirala\">Dil Se..</a>\n",
       " <span class=\"secondaryInfo\">(1998)</span>\n",
       " </td>,\n",
       " <td class=\"titleColumn\">\n",
       "       230.\n",
       "       <a href=\"/title/tt0352314/\" title=\"Sriram Raghavan (dir.), Saif Ali Khan, Urmila Matondkar\">Ek Hasina Thi</a>\n",
       " <span class=\"secondaryInfo\">(2004)</span>\n",
       " </td>,\n",
       " <td class=\"titleColumn\">\n",
       "       231.\n",
       "       <a href=\"/title/tt8590896/\" title=\"Parasuram (dir.), Vijay Deverakonda, Rashmika Mandanna\">Geetha Govindam</a>\n",
       " <span class=\"secondaryInfo\">(2018)</span>\n",
       " </td>,\n",
       " <td class=\"titleColumn\">\n",
       "       232.\n",
       "       <a href=\"/title/tt1434447/\" title=\"Shimit Amin (dir.), Ranbir Kapoor, Prem Chopra\">Rocket Singh: Salesman of the Year</a>\n",
       " <span class=\"secondaryInfo\">(2009)</span>\n",
       " </td>,\n",
       " <td class=\"titleColumn\">\n",
       "       233.\n",
       "       <a href=\"/title/tt6129302/\" title=\"Vikramaditya Motwane (dir.), Harshvardhan Kapoor, Priyanshu Painyuli\">Bhavesh Joshi Superhero</a>\n",
       " <span class=\"secondaryInfo\">(2018)</span>\n",
       " </td>,\n",
       " <td class=\"titleColumn\">\n",
       "       234.\n",
       "       <a href=\"/title/tt0371735/\" title=\"Priyadarshan (dir.), Akshaye Khanna, Aftab Shivdasani\">Hungama</a>\n",
       " <span class=\"secondaryInfo\">(2003)</span>\n",
       " </td>,\n",
       " <td class=\"titleColumn\">\n",
       "       235.\n",
       "       <a href=\"/title/tt5713232/\" title=\"Nishikant Kamat (dir.), Irrfan Khan, Jimmy Sheirgill\">Madaari</a>\n",
       " <span class=\"secondaryInfo\">(2016)</span>\n",
       " </td>,\n",
       " <td class=\"titleColumn\">\n",
       "       236.\n",
       "       <a href=\"/title/tt0299108/\" title=\"Gautham Vasudev Menon (dir.), Madhavan, Saif Ali Khan\">Rehnaa Hai Terre Dil Mein</a>\n",
       " <span class=\"secondaryInfo\">(2001)</span>\n",
       " </td>,\n",
       " <td class=\"titleColumn\">\n",
       "       237.\n",
       "       <a href=\"/title/tt2621000/\" title=\"Subhash Kapoor (dir.), Arshad Warsi, Amrita Rao\">Jolly LLB</a>\n",
       " <span class=\"secondaryInfo\">(2013)</span>\n",
       " </td>,\n",
       " <td class=\"titleColumn\">\n",
       "       238.\n",
       "       <a href=\"/title/tt1714832/\" title=\"Habib Faisal (dir.), Rishi Kapoor, Neetu Singh\">Do Dooni Chaar</a>\n",
       " <span class=\"secondaryInfo\">(2010)</span>\n",
       " </td>,\n",
       " <td class=\"titleColumn\">\n",
       "       239.\n",
       "       <a href=\"/title/tt6299040/\" title=\"Sankalp Reddy (dir.), Rana Daggubati, Kay Kay Menon\">The Ghazi Attack</a>\n",
       " <span class=\"secondaryInfo\">(2017)</span>\n",
       " </td>,\n",
       " <td class=\"titleColumn\">\n",
       "       240.\n",
       "       <a href=\"/title/tt0422320/\" title=\"Dharani (dir.), Joseph Vijay, Trisha Krishnan\">Ghilli</a>\n",
       " <span class=\"secondaryInfo\">(2004)</span>\n",
       " </td>,\n",
       " <td class=\"titleColumn\">\n",
       "       241.\n",
       "       <a href=\"/title/tt8721556/\" title=\"Lijo Jose Pellissery (dir.), Antony Varghese, Chemban Vinod Jose\">Jallikattu</a>\n",
       " <span class=\"secondaryInfo\">(2019)</span>\n",
       " </td>,\n",
       " <td class=\"titleColumn\">\n",
       "       242.\n",
       "       <a href=\"/title/tt7919680/\" title=\"Akarsh Khurana (dir.), Irrfan Khan, Dulquer Salmaan\">Karwaan</a>\n",
       " <span class=\"secondaryInfo\">(2018)</span>\n",
       " </td>,\n",
       " <td class=\"titleColumn\">\n",
       "       243.\n",
       "       <a href=\"/title/tt6967980/\" title=\"Ashwiny Iyer Tiwari (dir.), Ayushmann Khurrana, Kriti Sanon\">Bareilly Ki Barfi</a>\n",
       " <span class=\"secondaryInfo\">(2017)</span>\n",
       " </td>,\n",
       " <td class=\"titleColumn\">\n",
       "       244.\n",
       "       <a href=\"/title/tt0449951/\" title=\"A.R. Murugadoss (dir.), Suriya, Asin Thottumkal\">Ghajini</a>\n",
       " <span class=\"secondaryInfo\">(2005)</span>\n",
       " </td>,\n",
       " <td class=\"titleColumn\">\n",
       "       245.\n",
       "       <a href=\"/title/tt8902990/\" title=\"Shonali Bose (dir.), Priyanka Chopra, Farhan Akhtar\">The Sky Is Pink</a>\n",
       " <span class=\"secondaryInfo\">(2019)</span>\n",
       " </td>,\n",
       " <td class=\"titleColumn\">\n",
       "       246.\n",
       "       <a href=\"/title/tt1773015/\" title=\"Subhash Kapoor (dir.), Rajat Kapoor, Neha Dhupia\">Phas Gaye Re Obama</a>\n",
       " <span class=\"secondaryInfo\">(2010)</span>\n",
       " </td>,\n",
       " <td class=\"titleColumn\">\n",
       "       247.\n",
       "       <a href=\"/title/tt0095936/\" title=\"Mansoor Khan (dir.), Aamir Khan, Juhi Chawla\">Qayamat Se Qayamat Tak</a>\n",
       " <span class=\"secondaryInfo\">(1988)</span>\n",
       " </td>,\n",
       " <td class=\"titleColumn\">\n",
       "       248.\n",
       "       <a href=\"/title/tt3495030/\" title=\"Sharat Katariya (dir.), Ayushmann Khurrana, Bhumi Pednekar\">Dum Laga Ke Haisha</a>\n",
       " <span class=\"secondaryInfo\">(2015)</span>\n",
       " </td>,\n",
       " <td class=\"titleColumn\">\n",
       "       249.\n",
       "       <a href=\"/title/tt7700730/\" title=\"Shoojit Sircar (dir.), Varun Dhawan, Banita Sandhu\">October</a>\n",
       " <span class=\"secondaryInfo\">(2018)</span>\n",
       " </td>,\n",
       " <td class=\"titleColumn\">\n",
       "       250.\n",
       "       <a href=\"/title/tt0479751/\" title=\"S. Shankar (dir.), Rajinikanth, Shriya Saran\">Sivaji</a>\n",
       " <span class=\"secondaryInfo\">(2007)</span>\n",
       " </td>]"
      ]
     },
     "execution_count": 225,
     "metadata": {},
     "output_type": "execute_result"
    }
   ],
   "source": [
    "movies_title"
   ]
  },
  {
   "cell_type": "code",
   "execution_count": 226,
   "metadata": {},
   "outputs": [],
   "source": [
    "first_movie=movies_title[0]"
   ]
  },
  {
   "cell_type": "code",
   "execution_count": 229,
   "metadata": {},
   "outputs": [],
   "source": [
    "first_rating = movies_rating[0]"
   ]
  },
  {
   "cell_type": "code",
   "execution_count": 227,
   "metadata": {},
   "outputs": [
    {
     "data": {
      "text/plain": [
       "<td class=\"titleColumn\">\n",
       "      1.\n",
       "      <a href=\"/title/tt0048473/\" title=\"Satyajit Ray (dir.), Kanu Bannerjee, Karuna Bannerjee\">Pather Panchali</a>\n",
       "<span class=\"secondaryInfo\">(1955)</span>\n",
       "</td>"
      ]
     },
     "execution_count": 227,
     "metadata": {},
     "output_type": "execute_result"
    }
   ],
   "source": [
    "first_movie"
   ]
  },
  {
   "cell_type": "code",
   "execution_count": 196,
   "metadata": {},
   "outputs": [
    {
     "data": {
      "text/plain": [
       "'Pather Panchali'"
      ]
     },
     "execution_count": 196,
     "metadata": {},
     "output_type": "execute_result"
    }
   ],
   "source": [
    "first_movie.a.text"
   ]
  },
  {
   "cell_type": "code",
   "execution_count": 197,
   "metadata": {},
   "outputs": [
    {
     "data": {
      "text/plain": [
       "'1955'"
      ]
     },
     "execution_count": 197,
     "metadata": {},
     "output_type": "execute_result"
    }
   ],
   "source": [
    "first_movie.find(\"span\",{\"class\":\"secondaryInfo\"}).text[1:5] #Year of Release"
   ]
  },
  {
   "cell_type": "code",
   "execution_count": 230,
   "metadata": {},
   "outputs": [
    {
     "data": {
      "text/plain": [
       "'8.5'"
      ]
     },
     "execution_count": 230,
     "metadata": {},
     "output_type": "execute_result"
    }
   ],
   "source": [
    "first_rating.find('strong').text #Rating of the movie"
   ]
  },
  {
   "cell_type": "code",
   "execution_count": 240,
   "metadata": {},
   "outputs": [],
   "source": [
    "Name = []\n",
    "Year = []\n",
    "Rating = []\n",
    "for i in movies_title[0:100]:\n",
    "    Name.append(i.a.text)\n",
    "    Year.append(i.find(\"span\",{\"class\":\"secondaryInfo\"}).text[1:5])\n",
    "for i in movies_rating[0:100]:    \n",
    "    Rating.append(i.find('strong').text)"
   ]
  },
  {
   "cell_type": "code",
   "execution_count": 241,
   "metadata": {},
   "outputs": [],
   "source": [
    "data= list(zip(Name,Year,Rating))"
   ]
  },
  {
   "cell_type": "code",
   "execution_count": 244,
   "metadata": {},
   "outputs": [],
   "source": [
    "df_indianmovie= pd.DataFrame(data,columns=[\"Movie Name\",\"Year\", \"Rating\"])"
   ]
  },
  {
   "cell_type": "code",
   "execution_count": 245,
   "metadata": {
    "scrolled": true
   },
   "outputs": [
    {
     "data": {
      "text/html": [
       "<div>\n",
       "<style scoped>\n",
       "    .dataframe tbody tr th:only-of-type {\n",
       "        vertical-align: middle;\n",
       "    }\n",
       "\n",
       "    .dataframe tbody tr th {\n",
       "        vertical-align: top;\n",
       "    }\n",
       "\n",
       "    .dataframe thead th {\n",
       "        text-align: right;\n",
       "    }\n",
       "</style>\n",
       "<table border=\"1\" class=\"dataframe\">\n",
       "  <thead>\n",
       "    <tr style=\"text-align: right;\">\n",
       "      <th></th>\n",
       "      <th>Movie Name</th>\n",
       "      <th>Year</th>\n",
       "      <th>Rating</th>\n",
       "    </tr>\n",
       "  </thead>\n",
       "  <tbody>\n",
       "    <tr>\n",
       "      <th>0</th>\n",
       "      <td>Pather Panchali</td>\n",
       "      <td>1955</td>\n",
       "      <td>8.5</td>\n",
       "    </tr>\n",
       "    <tr>\n",
       "      <th>1</th>\n",
       "      <td>Gol Maal</td>\n",
       "      <td>1979</td>\n",
       "      <td>8.5</td>\n",
       "    </tr>\n",
       "    <tr>\n",
       "      <th>2</th>\n",
       "      <td>Nayakan</td>\n",
       "      <td>1987</td>\n",
       "      <td>8.5</td>\n",
       "    </tr>\n",
       "    <tr>\n",
       "      <th>3</th>\n",
       "      <td>Anbe Sivam</td>\n",
       "      <td>2003</td>\n",
       "      <td>8.5</td>\n",
       "    </tr>\n",
       "    <tr>\n",
       "      <th>4</th>\n",
       "      <td>Drishyam 2</td>\n",
       "      <td>2021</td>\n",
       "      <td>8.5</td>\n",
       "    </tr>\n",
       "    <tr>\n",
       "      <th>...</th>\n",
       "      <td>...</td>\n",
       "      <td>...</td>\n",
       "      <td>...</td>\n",
       "    </tr>\n",
       "    <tr>\n",
       "      <th>95</th>\n",
       "      <td>The Legend of Bhagat Singh</td>\n",
       "      <td>2002</td>\n",
       "      <td>8.0</td>\n",
       "    </tr>\n",
       "    <tr>\n",
       "      <th>96</th>\n",
       "      <td>Bommarillu</td>\n",
       "      <td>2006</td>\n",
       "      <td>8.0</td>\n",
       "    </tr>\n",
       "    <tr>\n",
       "      <th>97</th>\n",
       "      <td>Maqbool</td>\n",
       "      <td>2003</td>\n",
       "      <td>8.0</td>\n",
       "    </tr>\n",
       "    <tr>\n",
       "      <th>98</th>\n",
       "      <td>Bombay</td>\n",
       "      <td>1995</td>\n",
       "      <td>8.0</td>\n",
       "    </tr>\n",
       "    <tr>\n",
       "      <th>99</th>\n",
       "      <td>Omkara</td>\n",
       "      <td>2006</td>\n",
       "      <td>8.0</td>\n",
       "    </tr>\n",
       "  </tbody>\n",
       "</table>\n",
       "<p>100 rows × 3 columns</p>\n",
       "</div>"
      ],
      "text/plain": [
       "                    Movie Name  Year Rating\n",
       "0              Pather Panchali  1955    8.5\n",
       "1                     Gol Maal  1979    8.5\n",
       "2                      Nayakan  1987    8.5\n",
       "3                   Anbe Sivam  2003    8.5\n",
       "4                   Drishyam 2  2021    8.5\n",
       "..                         ...   ...    ...\n",
       "95  The Legend of Bhagat Singh  2002    8.0\n",
       "96                  Bommarillu  2006    8.0\n",
       "97                     Maqbool  2003    8.0\n",
       "98                      Bombay  1995    8.0\n",
       "99                      Omkara  2006    8.0\n",
       "\n",
       "[100 rows x 3 columns]"
      ]
     },
     "execution_count": 245,
     "metadata": {},
     "output_type": "execute_result"
    }
   ],
   "source": [
    "df_indianmovie"
   ]
  },
  {
   "cell_type": "markdown",
   "metadata": {},
   "source": [
    "# Cricket Mens ODI Top ten Teams"
   ]
  },
  {
   "cell_type": "code",
   "execution_count": 246,
   "metadata": {},
   "outputs": [],
   "source": [
    "url=\"https://www.icc-cricket.com/rankings/mens/team-rankings/odi\""
   ]
  },
  {
   "cell_type": "code",
   "execution_count": 247,
   "metadata": {},
   "outputs": [
    {
     "name": "stdout",
     "output_type": "stream",
     "text": [
      "<Response [200]>\n"
     ]
    }
   ],
   "source": [
    "res=requests.get(url)\n",
    "print(res)"
   ]
  },
  {
   "cell_type": "code",
   "execution_count": 248,
   "metadata": {},
   "outputs": [],
   "source": [
    "soup=BeautifulSoup(res.content,'html.parser')"
   ]
  },
  {
   "cell_type": "code",
   "execution_count": 249,
   "metadata": {},
   "outputs": [
    {
     "data": {
      "text/plain": [
       "'ICC Ranking for ODI teams International Cricket Council'"
      ]
     },
     "execution_count": 249,
     "metadata": {},
     "output_type": "execute_result"
    }
   ],
   "source": [
    "soup.title.text"
   ]
  },
  {
   "cell_type": "code",
   "execution_count": 267,
   "metadata": {},
   "outputs": [],
   "source": [
    "ranking_first = soup.findAll('tr',{'class':'rankings-block__banner'})"
   ]
  },
  {
   "cell_type": "code",
   "execution_count": 269,
   "metadata": {},
   "outputs": [
    {
     "data": {
      "text/plain": [
       "<tr class=\"rankings-block__banner\">\n",
       "<td class=\"rankings-block__banner--pos\">1</td>\n",
       "<td class=\"rankings-block__banner--team-name\">\n",
       "<span class=\"flag-30 rankings-block__banner--flag ENG\"></span>\n",
       "<span class=\"u-hide-phablet\">England</span>\n",
       "<span class=\"u-show-phablet\">ENG</span>\n",
       "</td>\n",
       "<td class=\"rankings-block__banner--matches\">44</td>\n",
       "<td class=\"rankings-block__banner--points\">5,405</td>\n",
       "<td class=\"rankings-block__banner--rating u-text-right\">\n",
       "                            123\n",
       "                            <span class=\"circle-branding circle-branding--top\"></span>\n",
       "<span class=\"circle-branding circle-branding--bottom\"></span>\n",
       "</td>\n",
       "</tr>"
      ]
     },
     "execution_count": 269,
     "metadata": {},
     "output_type": "execute_result"
    }
   ],
   "source": [
    "ranking_first[0]"
   ]
  },
  {
   "cell_type": "code",
   "execution_count": 270,
   "metadata": {},
   "outputs": [
    {
     "data": {
      "text/plain": [
       "'England'"
      ]
     },
     "execution_count": 270,
     "metadata": {},
     "output_type": "execute_result"
    }
   ],
   "source": [
    "ranking_first[0].find(\"span\",{\"class\":\"u-hide-phablet\"}).text"
   ]
  },
  {
   "cell_type": "code",
   "execution_count": 272,
   "metadata": {},
   "outputs": [
    {
     "data": {
      "text/plain": [
       "'44'"
      ]
     },
     "execution_count": 272,
     "metadata": {},
     "output_type": "execute_result"
    }
   ],
   "source": [
    "ranking_first[0].find(\"td\",{\"class\":\"rankings-block__banner--matches\"}).text"
   ]
  },
  {
   "cell_type": "code",
   "execution_count": 273,
   "metadata": {},
   "outputs": [
    {
     "data": {
      "text/plain": [
       "'5,405'"
      ]
     },
     "execution_count": 273,
     "metadata": {},
     "output_type": "execute_result"
    }
   ],
   "source": [
    "ranking_first[0].find(\"td\",{\"class\":\"rankings-block__banner--points\"}).text"
   ]
  },
  {
   "cell_type": "code",
   "execution_count": 284,
   "metadata": {},
   "outputs": [
    {
     "data": {
      "text/plain": [
       "'123'"
      ]
     },
     "execution_count": 284,
     "metadata": {},
     "output_type": "execute_result"
    }
   ],
   "source": [
    "ranking_first[0].find(\"td\",{\"class\":\"rankings-block__banner--rating u-text-right\"}).text.strip('\\n').strip(\" \").strip(\"\\n\")"
   ]
  },
  {
   "cell_type": "code",
   "execution_count": 285,
   "metadata": {},
   "outputs": [],
   "source": [
    "ranking_rest = soup.findAll('tr',{'class':'table-body'})"
   ]
  },
  {
   "cell_type": "code",
   "execution_count": 287,
   "metadata": {},
   "outputs": [
    {
     "data": {
      "text/plain": [
       "<tr class=\"table-body\" data-team-id=\"14\">\n",
       "<td class=\"table-body__cell table-body__cell--position u-text-right\">2</td>\n",
       "<td class=\"table-body__cell rankings-table__team\">\n",
       "<span class=\"flag-15 table-body_logo IND\"></span>\n",
       "<span class=\"u-hide-phablet\">India</span>\n",
       "<span class=\"u-show-phablet\">IND</span>\n",
       "</td>\n",
       "<td class=\"table-body__cell u-center-text\">52</td>\n",
       "<td class=\"table-body__cell u-center-text\">6,102</td>\n",
       "<td class=\"table-body__cell u-text-right rating\">117</td>\n",
       "</tr>"
      ]
     },
     "execution_count": 287,
     "metadata": {},
     "output_type": "execute_result"
    }
   ],
   "source": [
    "ranking_rest[0]"
   ]
  },
  {
   "cell_type": "code",
   "execution_count": 288,
   "metadata": {},
   "outputs": [
    {
     "data": {
      "text/plain": [
       "'India'"
      ]
     },
     "execution_count": 288,
     "metadata": {},
     "output_type": "execute_result"
    }
   ],
   "source": [
    "ranking_rest[0].find(\"span\",{\"class\":\"u-hide-phablet\"}).text"
   ]
  },
  {
   "cell_type": "code",
   "execution_count": 290,
   "metadata": {},
   "outputs": [
    {
     "data": {
      "text/plain": [
       "'52'"
      ]
     },
     "execution_count": 290,
     "metadata": {},
     "output_type": "execute_result"
    }
   ],
   "source": [
    "ranking_rest[0].find(\"td\",{\"class\":\"table-body__cell u-center-text\"}).text"
   ]
  },
  {
   "cell_type": "code",
   "execution_count": 304,
   "metadata": {},
   "outputs": [
    {
     "data": {
      "text/plain": [
       "'6,102'"
      ]
     },
     "execution_count": 304,
     "metadata": {},
     "output_type": "execute_result"
    }
   ],
   "source": [
    "ranking_rest[0].findAll(\"td\",{\"class\":\"table-body__cell u-center-text\"})[1].text"
   ]
  },
  {
   "cell_type": "code",
   "execution_count": 302,
   "metadata": {},
   "outputs": [
    {
     "data": {
      "text/plain": [
       "'117'"
      ]
     },
     "execution_count": 302,
     "metadata": {},
     "output_type": "execute_result"
    }
   ],
   "source": [
    "ranking_rest[0].find(\"td\",{\"class\":\"table-body__cell u-text-right rating\"}).text"
   ]
  },
  {
   "cell_type": "code",
   "execution_count": 306,
   "metadata": {},
   "outputs": [],
   "source": [
    "Team = []\n",
    "Matches = []\n",
    "Points = []\n",
    "Rating = []\n",
    "for i in ranking_first[0:1]:\n",
    "    Team.append(i.find(\"span\",{\"class\":\"u-hide-phablet\"}).text)\n",
    "    Matches.append(i.find(\"td\",{\"class\":\"rankings-block__banner--matches\"}).text) \n",
    "    Points.append(i.find(\"td\",{\"class\":\"rankings-block__banner--points\"}).text)\n",
    "    Rating.append(i.find(\"td\",{\"class\":\"rankings-block__banner--rating u-text-right\"}).text.strip('\\n').strip(\" \").strip(\"\\n\"))\n",
    "for i in ranking_rest[0:9]:\n",
    "    Team.append(i.find(\"span\",{\"class\":\"u-hide-phablet\"}).text)\n",
    "    Matches.append(i.find(\"td\",{\"class\":\"table-body__cell u-center-text\"}).text) \n",
    "    Points.append(i.findAll(\"td\",{\"class\":\"table-body__cell u-center-text\"})[1].text)\n",
    "    Rating.append(i.find(\"td\",{\"class\":\"table-body__cell u-text-right rating\"}).text)"
   ]
  },
  {
   "cell_type": "code",
   "execution_count": 307,
   "metadata": {},
   "outputs": [],
   "source": [
    "data= list(zip(Team,Matches,Points,Rating))"
   ]
  },
  {
   "cell_type": "code",
   "execution_count": 308,
   "metadata": {},
   "outputs": [],
   "source": [
    "df_ODI10= pd.DataFrame(data,columns=[\"Team\",\"Matches\",\"Points\",\"Rating\"])"
   ]
  },
  {
   "cell_type": "code",
   "execution_count": 309,
   "metadata": {},
   "outputs": [
    {
     "data": {
      "text/html": [
       "<div>\n",
       "<style scoped>\n",
       "    .dataframe tbody tr th:only-of-type {\n",
       "        vertical-align: middle;\n",
       "    }\n",
       "\n",
       "    .dataframe tbody tr th {\n",
       "        vertical-align: top;\n",
       "    }\n",
       "\n",
       "    .dataframe thead th {\n",
       "        text-align: right;\n",
       "    }\n",
       "</style>\n",
       "<table border=\"1\" class=\"dataframe\">\n",
       "  <thead>\n",
       "    <tr style=\"text-align: right;\">\n",
       "      <th></th>\n",
       "      <th>Team</th>\n",
       "      <th>Matches</th>\n",
       "      <th>Points</th>\n",
       "      <th>Rating</th>\n",
       "    </tr>\n",
       "  </thead>\n",
       "  <tbody>\n",
       "    <tr>\n",
       "      <th>0</th>\n",
       "      <td>England</td>\n",
       "      <td>44</td>\n",
       "      <td>5,405</td>\n",
       "      <td>123</td>\n",
       "    </tr>\n",
       "    <tr>\n",
       "      <th>1</th>\n",
       "      <td>India</td>\n",
       "      <td>52</td>\n",
       "      <td>6,102</td>\n",
       "      <td>117</td>\n",
       "    </tr>\n",
       "    <tr>\n",
       "      <th>2</th>\n",
       "      <td>New Zealand</td>\n",
       "      <td>32</td>\n",
       "      <td>3,716</td>\n",
       "      <td>116</td>\n",
       "    </tr>\n",
       "    <tr>\n",
       "      <th>3</th>\n",
       "      <td>Australia</td>\n",
       "      <td>39</td>\n",
       "      <td>4,344</td>\n",
       "      <td>111</td>\n",
       "    </tr>\n",
       "    <tr>\n",
       "      <th>4</th>\n",
       "      <td>South Africa</td>\n",
       "      <td>31</td>\n",
       "      <td>3,345</td>\n",
       "      <td>108</td>\n",
       "    </tr>\n",
       "    <tr>\n",
       "      <th>5</th>\n",
       "      <td>Pakistan</td>\n",
       "      <td>35</td>\n",
       "      <td>3,490</td>\n",
       "      <td>100</td>\n",
       "    </tr>\n",
       "    <tr>\n",
       "      <th>6</th>\n",
       "      <td>Bangladesh</td>\n",
       "      <td>37</td>\n",
       "      <td>3,366</td>\n",
       "      <td>91</td>\n",
       "    </tr>\n",
       "    <tr>\n",
       "      <th>7</th>\n",
       "      <td>Sri Lanka</td>\n",
       "      <td>42</td>\n",
       "      <td>3,372</td>\n",
       "      <td>80</td>\n",
       "    </tr>\n",
       "    <tr>\n",
       "      <th>8</th>\n",
       "      <td>West Indies</td>\n",
       "      <td>49</td>\n",
       "      <td>3,802</td>\n",
       "      <td>78</td>\n",
       "    </tr>\n",
       "    <tr>\n",
       "      <th>9</th>\n",
       "      <td>Afghanistan</td>\n",
       "      <td>31</td>\n",
       "      <td>1,844</td>\n",
       "      <td>59</td>\n",
       "    </tr>\n",
       "  </tbody>\n",
       "</table>\n",
       "</div>"
      ],
      "text/plain": [
       "           Team Matches Points Rating\n",
       "0       England      44  5,405    123\n",
       "1         India      52  6,102    117\n",
       "2   New Zealand      32  3,716    116\n",
       "3     Australia      39  4,344    111\n",
       "4  South Africa      31  3,345    108\n",
       "5      Pakistan      35  3,490    100\n",
       "6    Bangladesh      37  3,366     91\n",
       "7     Sri Lanka      42  3,372     80\n",
       "8   West Indies      49  3,802     78\n",
       "9   Afghanistan      31  1,844     59"
      ]
     },
     "execution_count": 309,
     "metadata": {},
     "output_type": "execute_result"
    }
   ],
   "source": [
    "df_ODI10"
   ]
  },
  {
   "cell_type": "markdown",
   "metadata": {},
   "source": [
    "# ODI Top 10 Batting Ranking"
   ]
  },
  {
   "cell_type": "code",
   "execution_count": 310,
   "metadata": {},
   "outputs": [],
   "source": [
    "url=\"https://www.icc-cricket.com/rankings/mens/player-rankings/odi/batting\""
   ]
  },
  {
   "cell_type": "code",
   "execution_count": 311,
   "metadata": {},
   "outputs": [
    {
     "name": "stdout",
     "output_type": "stream",
     "text": [
      "<Response [200]>\n"
     ]
    }
   ],
   "source": [
    "res=requests.get(url)\n",
    "print(res)"
   ]
  },
  {
   "cell_type": "code",
   "execution_count": 312,
   "metadata": {},
   "outputs": [],
   "source": [
    "soup=BeautifulSoup(res.content,'html.parser')"
   ]
  },
  {
   "cell_type": "code",
   "execution_count": 313,
   "metadata": {},
   "outputs": [
    {
     "data": {
      "text/plain": [
       "'Live Cricket Scores & News International Cricket Council'"
      ]
     },
     "execution_count": 313,
     "metadata": {},
     "output_type": "execute_result"
    }
   ],
   "source": [
    "soup.title.text"
   ]
  },
  {
   "cell_type": "code",
   "execution_count": 314,
   "metadata": {},
   "outputs": [],
   "source": [
    "ranking_first = soup.findAll('tr',{'class':'rankings-block__banner'})"
   ]
  },
  {
   "cell_type": "code",
   "execution_count": 331,
   "metadata": {},
   "outputs": [],
   "source": [
    "ranking_first1 = soup.findAll('td',{'class':'u-text-left'})"
   ]
  },
  {
   "cell_type": "code",
   "execution_count": 339,
   "metadata": {},
   "outputs": [],
   "source": [
    "ranking_first2 = soup.findAll('td',{'class':\"u-text-right u-hide-phablet u-overflow-hidden\"})"
   ]
  },
  {
   "cell_type": "code",
   "execution_count": 332,
   "metadata": {},
   "outputs": [
    {
     "data": {
      "text/plain": [
       "[<tr class=\"rankings-block__banner\">\n",
       " <td class=\"rankings-block__position\">1</td>\n",
       " <td class=\"rankings-block__top-player-container\">\n",
       " <div class=\"u-flex-center u-text-left\">\n",
       " <div class=\"rankings-block__player-image-container rankings-block__player-image-container--large\">\n",
       " <a href=\"/rankings/mens/player-rankings/164\">\n",
       " <img alt=\"Player Image\" class=\"rankings-block__player-image image-missing\" data-error=\"true\" data-player=\"164\" data-size=\"130x150\" data-widget=\"player-image\" src=\"//resources.pulse.icc-cricket.com/players/130x150/Photo-Missing.png\"/>\n",
       " </a>\n",
       " </div>\n",
       " <div>\n",
       " <a href=\"/rankings/mens/player-rankings/164\"><div class=\"rankings-block__banner--name-large\">Virat Kohli</div></a>\n",
       " </div>\n",
       " </div>\n",
       " </td>\n",
       " <td>\n",
       " <div class=\"rankings-block__banner--nationality\">\n",
       " <div class=\"flag-15 IND\"></div>\n",
       " <span class=\"rankings-block__banner--nation\"></span>IND</div></td></tr>]"
      ]
     },
     "execution_count": 332,
     "metadata": {},
     "output_type": "execute_result"
    }
   ],
   "source": [
    "ranking_first"
   ]
  },
  {
   "cell_type": "code",
   "execution_count": 333,
   "metadata": {},
   "outputs": [
    {
     "data": {
      "text/plain": [
       "[<td class=\"u-text-left\">\n",
       " <div class=\"rankings-block__banner--rating\">870</div>\n",
       " </td>]"
      ]
     },
     "execution_count": 333,
     "metadata": {},
     "output_type": "execute_result"
    }
   ],
   "source": [
    "ranking_first1"
   ]
  },
  {
   "cell_type": "code",
   "execution_count": 340,
   "metadata": {},
   "outputs": [
    {
     "data": {
      "text/plain": [
       "[<td class=\"u-text-right u-hide-phablet u-overflow-hidden\">\n",
       " <div class=\"rankings-block__career-best\">\n",
       " <span class=\"rankings-block__career-best-text\">\n",
       "                                 911 v England, 12/07/2018\n",
       "                         </span>\n",
       " <span class=\"circle-branding circle-branding--full-table circle-branding--top\"></span>\n",
       " <span class=\"circle-branding circle-branding--full-table circle-branding--bottom\"></span>\n",
       " </div>\n",
       " </td>]"
      ]
     },
     "execution_count": 340,
     "metadata": {},
     "output_type": "execute_result"
    }
   ],
   "source": [
    "ranking_first2"
   ]
  },
  {
   "cell_type": "code",
   "execution_count": 321,
   "metadata": {},
   "outputs": [
    {
     "data": {
      "text/plain": [
       "'Virat Kohli'"
      ]
     },
     "execution_count": 321,
     "metadata": {},
     "output_type": "execute_result"
    }
   ],
   "source": [
    "ranking_first[0].find(\"div\",{\"class\":\"rankings-block__banner--name-large\"}).text"
   ]
  },
  {
   "cell_type": "code",
   "execution_count": 327,
   "metadata": {},
   "outputs": [
    {
     "data": {
      "text/plain": [
       "'IND'"
      ]
     },
     "execution_count": 327,
     "metadata": {},
     "output_type": "execute_result"
    }
   ],
   "source": [
    "ranking_first[0].find(\"div\",{\"class\":\"rankings-block__banner--nationality\"}).text.strip('\\n')"
   ]
  },
  {
   "cell_type": "code",
   "execution_count": 334,
   "metadata": {},
   "outputs": [
    {
     "data": {
      "text/plain": [
       "'870'"
      ]
     },
     "execution_count": 334,
     "metadata": {},
     "output_type": "execute_result"
    }
   ],
   "source": [
    "ranking_first1[0].find(\"div\",{\"class\":\"rankings-block__banner--rating\"}).text"
   ]
  },
  {
   "cell_type": "code",
   "execution_count": 344,
   "metadata": {},
   "outputs": [
    {
     "data": {
      "text/plain": [
       "'911 v England, 12/07/2018'"
      ]
     },
     "execution_count": 344,
     "metadata": {},
     "output_type": "execute_result"
    }
   ],
   "source": [
    "ranking_first2[0].find(\"span\",{\"class\":\"rankings-block__career-best-text\"}).text.strip('\\n').strip(\" \").strip('\\n')"
   ]
  },
  {
   "cell_type": "code",
   "execution_count": 318,
   "metadata": {},
   "outputs": [],
   "source": [
    "ranking_rest = soup.findAll('tr',{'class':'table-body'})"
   ]
  },
  {
   "cell_type": "code",
   "execution_count": 320,
   "metadata": {},
   "outputs": [
    {
     "data": {
      "text/plain": [
       "<tr class=\"table-body\">\n",
       "<td class=\"table-body__cell table-body__cell--position u-text-right\">\n",
       "                            2\n",
       "        <span class=\"ranking-pos no-change\"></span>\n",
       "</td>\n",
       "<td class=\"table-body__cell rankings-table__name name\">\n",
       "<a href=\"/rankings/mens/player-rankings/107\">Rohit Sharma</a>\n",
       "</td>\n",
       "<td class=\"table-body__cell nationality-logo rankings-table__team\">\n",
       "<span class=\"flag-15 table-body_logo IND\"></span>\n",
       "<span class=\"table-body__logo-text\">IND</span>\n",
       "</td>\n",
       "<td class=\"table-body__cell rating\">842</td>\n",
       "<td class=\"table-body__cell u-text-right u-hide-phablet\">\n",
       "                                885 v Sri Lanka, 06/07/2019\n",
       "                        </td>\n",
       "</tr>"
      ]
     },
     "execution_count": 320,
     "metadata": {},
     "output_type": "execute_result"
    }
   ],
   "source": [
    "ranking_rest[0]"
   ]
  },
  {
   "cell_type": "code",
   "execution_count": 345,
   "metadata": {},
   "outputs": [
    {
     "data": {
      "text/plain": [
       "'885 v Sri Lanka, 06/07/2019'"
      ]
     },
     "execution_count": 345,
     "metadata": {},
     "output_type": "execute_result"
    }
   ],
   "source": [
    "ranking_rest[0].find(\"td\",{\"class\":\"table-body__cell u-text-right u-hide-phablet\"}).text.strip('\\n').strip(\" \").strip('\\n')"
   ]
  },
  {
   "cell_type": "code",
   "execution_count": 349,
   "metadata": {},
   "outputs": [],
   "source": [
    "Player = []\n",
    "Team = []\n",
    "Rating = []\n",
    "Bestrating = []\n",
    "for i in ranking_first[0:1]:\n",
    "    Player.append(i.find(\"div\",{\"class\":\"rankings-block__banner--name-large\"}).text)\n",
    "    Team.append(i.find(\"div\",{\"class\":\"rankings-block__banner--nationality\"}).text.strip('\\n'))\n",
    "for i in ranking_first1[0:1]:\n",
    "    Rating.append(i.find(\"div\",{\"class\":\"rankings-block__banner--rating\"}).text)\n",
    "for i in ranking_first2[0:1]:    \n",
    "    Bestrating.append(i.find(\"span\",{\"class\":\"rankings-block__career-best-text\"}).text.strip('\\n').strip(\" \").strip('\\n'))\n",
    "\n",
    "    \n",
    "for i in ranking_rest[0:9]:\n",
    "    Player.append(i.find(\"td\",{\"class\":\"table-body__cell rankings-table__name name\"}).text)\n",
    "    Team.append(i.find(\"span\",{\"class\":\"table-body__logo-text\"}).text.strip('\\n'))\n",
    "    Rating.append(i.find(\"td\",{\"class\":\"table-body__cell rating\"}).text)  \n",
    "    Bestrating.append(i.find(\"td\",{\"class\":\"table-body__cell u-text-right u-hide-phablet\"}).text.strip('\\n').strip(\" \").strip('\\n'))"
   ]
  },
  {
   "cell_type": "code",
   "execution_count": 350,
   "metadata": {},
   "outputs": [],
   "source": [
    "data= list(zip(Player,Team,Rating,Bestrating))"
   ]
  },
  {
   "cell_type": "code",
   "execution_count": 351,
   "metadata": {},
   "outputs": [],
   "source": [
    "df_ODI10batsman= pd.DataFrame(data,columns=[\"Player\",\"Team\",\"Rating\",\"Bestrating\"])"
   ]
  },
  {
   "cell_type": "code",
   "execution_count": 352,
   "metadata": {},
   "outputs": [
    {
     "data": {
      "text/html": [
       "<div>\n",
       "<style scoped>\n",
       "    .dataframe tbody tr th:only-of-type {\n",
       "        vertical-align: middle;\n",
       "    }\n",
       "\n",
       "    .dataframe tbody tr th {\n",
       "        vertical-align: top;\n",
       "    }\n",
       "\n",
       "    .dataframe thead th {\n",
       "        text-align: right;\n",
       "    }\n",
       "</style>\n",
       "<table border=\"1\" class=\"dataframe\">\n",
       "  <thead>\n",
       "    <tr style=\"text-align: right;\">\n",
       "      <th></th>\n",
       "      <th>Player</th>\n",
       "      <th>Team</th>\n",
       "      <th>Rating</th>\n",
       "      <th>Bestrating</th>\n",
       "    </tr>\n",
       "  </thead>\n",
       "  <tbody>\n",
       "    <tr>\n",
       "      <th>0</th>\n",
       "      <td>Virat Kohli</td>\n",
       "      <td>IND</td>\n",
       "      <td>870</td>\n",
       "      <td>911 v England, 12/07/2018</td>\n",
       "    </tr>\n",
       "    <tr>\n",
       "      <th>1</th>\n",
       "      <td>\\nRohit Sharma\\n</td>\n",
       "      <td>IND</td>\n",
       "      <td>842</td>\n",
       "      <td>885 v Sri Lanka, 06/07/2019</td>\n",
       "    </tr>\n",
       "    <tr>\n",
       "      <th>2</th>\n",
       "      <td>\\nBabar Azam\\n</td>\n",
       "      <td>PAK</td>\n",
       "      <td>837</td>\n",
       "      <td>846 v Sri Lanka, 20/10/2017</td>\n",
       "    </tr>\n",
       "    <tr>\n",
       "      <th>3</th>\n",
       "      <td>\\nRoss Taylor\\n</td>\n",
       "      <td>NZ</td>\n",
       "      <td>818</td>\n",
       "      <td>841 v Bangladesh, 05/06/2019</td>\n",
       "    </tr>\n",
       "    <tr>\n",
       "      <th>4</th>\n",
       "      <td>\\nAaron Finch\\n</td>\n",
       "      <td>AUS</td>\n",
       "      <td>791</td>\n",
       "      <td>798 v England, 25/06/2019</td>\n",
       "    </tr>\n",
       "    <tr>\n",
       "      <th>5</th>\n",
       "      <td>\\nFrancois du Plessis\\n</td>\n",
       "      <td>SA</td>\n",
       "      <td>790</td>\n",
       "      <td>820 v Australia, 06/07/2019</td>\n",
       "    </tr>\n",
       "    <tr>\n",
       "      <th>6</th>\n",
       "      <td>\\nDavid Warner\\n</td>\n",
       "      <td>AUS</td>\n",
       "      <td>773</td>\n",
       "      <td>880 v Pakistan, 26/01/2017</td>\n",
       "    </tr>\n",
       "    <tr>\n",
       "      <th>7</th>\n",
       "      <td>\\nShai Hope\\n</td>\n",
       "      <td>WI</td>\n",
       "      <td>773</td>\n",
       "      <td>808 v Bangladesh, 17/05/2019</td>\n",
       "    </tr>\n",
       "    <tr>\n",
       "      <th>8</th>\n",
       "      <td>\\nKane Williamson\\n</td>\n",
       "      <td>NZ</td>\n",
       "      <td>765</td>\n",
       "      <td>799 v India, 09/07/2019</td>\n",
       "    </tr>\n",
       "    <tr>\n",
       "      <th>9</th>\n",
       "      <td>\\nQuinton de Kock\\n</td>\n",
       "      <td>SA</td>\n",
       "      <td>755</td>\n",
       "      <td>813 v Sri Lanka, 10/03/2019</td>\n",
       "    </tr>\n",
       "  </tbody>\n",
       "</table>\n",
       "</div>"
      ],
      "text/plain": [
       "                    Player Team Rating                    Bestrating\n",
       "0              Virat Kohli  IND    870     911 v England, 12/07/2018\n",
       "1         \\nRohit Sharma\\n  IND    842   885 v Sri Lanka, 06/07/2019\n",
       "2           \\nBabar Azam\\n  PAK    837   846 v Sri Lanka, 20/10/2017\n",
       "3          \\nRoss Taylor\\n   NZ    818  841 v Bangladesh, 05/06/2019\n",
       "4          \\nAaron Finch\\n  AUS    791     798 v England, 25/06/2019\n",
       "5  \\nFrancois du Plessis\\n   SA    790   820 v Australia, 06/07/2019\n",
       "6         \\nDavid Warner\\n  AUS    773    880 v Pakistan, 26/01/2017\n",
       "7            \\nShai Hope\\n   WI    773  808 v Bangladesh, 17/05/2019\n",
       "8      \\nKane Williamson\\n   NZ    765       799 v India, 09/07/2019\n",
       "9      \\nQuinton de Kock\\n   SA    755   813 v Sri Lanka, 10/03/2019"
      ]
     },
     "execution_count": 352,
     "metadata": {},
     "output_type": "execute_result"
    }
   ],
   "source": [
    "df_ODI10batsman"
   ]
  },
  {
   "cell_type": "markdown",
   "metadata": {},
   "source": [
    "# ODI Bowler Top 10"
   ]
  },
  {
   "cell_type": "code",
   "execution_count": 388,
   "metadata": {},
   "outputs": [],
   "source": [
    "url=\"https://www.icc-cricket.com/rankings/mens/player-rankings/odi/bowling\""
   ]
  },
  {
   "cell_type": "code",
   "execution_count": 389,
   "metadata": {},
   "outputs": [
    {
     "name": "stdout",
     "output_type": "stream",
     "text": [
      "<Response [200]>\n"
     ]
    }
   ],
   "source": [
    "res=requests.get(url)\n",
    "print(res)"
   ]
  },
  {
   "cell_type": "code",
   "execution_count": 390,
   "metadata": {},
   "outputs": [],
   "source": [
    "soup=BeautifulSoup(res.content,'html.parser')"
   ]
  },
  {
   "cell_type": "code",
   "execution_count": 391,
   "metadata": {},
   "outputs": [
    {
     "data": {
      "text/plain": [
       "'Live Cricket Scores & News International Cricket Council'"
      ]
     },
     "execution_count": 391,
     "metadata": {},
     "output_type": "execute_result"
    }
   ],
   "source": [
    "soup.title.text"
   ]
  },
  {
   "cell_type": "code",
   "execution_count": 392,
   "metadata": {},
   "outputs": [],
   "source": [
    "ranking_first = soup.findAll('tr',{'class':'rankings-block__banner'})"
   ]
  },
  {
   "cell_type": "code",
   "execution_count": 393,
   "metadata": {},
   "outputs": [],
   "source": [
    "ranking_first1 = soup.findAll('td',{'class':'u-text-left'})"
   ]
  },
  {
   "cell_type": "code",
   "execution_count": 394,
   "metadata": {},
   "outputs": [],
   "source": [
    "ranking_first2 = soup.findAll('td',{'class':\"u-text-right u-hide-phablet u-overflow-hidden\"})"
   ]
  },
  {
   "cell_type": "code",
   "execution_count": 395,
   "metadata": {
    "scrolled": true
   },
   "outputs": [
    {
     "data": {
      "text/plain": [
       "[<tr class=\"rankings-block__banner\">\n",
       " <td class=\"rankings-block__position\">1</td>\n",
       " <td class=\"rankings-block__top-player-container\">\n",
       " <div class=\"u-flex-center u-text-left\">\n",
       " <div class=\"rankings-block__player-image-container rankings-block__player-image-container--large\">\n",
       " <a href=\"/rankings/mens/player-rankings/969\">\n",
       " <img alt=\"Player Image\" class=\"rankings-block__player-image image-missing\" data-error=\"true\" data-player=\"969\" data-size=\"130x150\" data-widget=\"player-image\" src=\"//resources.pulse.icc-cricket.com/players/130x150/Photo-Missing.png\"/>\n",
       " </a>\n",
       " </div>\n",
       " <div>\n",
       " <a href=\"/rankings/mens/player-rankings/969\"><div class=\"rankings-block__banner--name-large\">Trent Boult</div></a>\n",
       " </div>\n",
       " </div>\n",
       " </td>\n",
       " <td>\n",
       " <div class=\"rankings-block__banner--nationality\">\n",
       " <div class=\"flag-15 NZ\"></div>\n",
       " <span class=\"rankings-block__banner--nation\"></span>NZ</div></td></tr>]"
      ]
     },
     "execution_count": 395,
     "metadata": {},
     "output_type": "execute_result"
    }
   ],
   "source": [
    "ranking_first"
   ]
  },
  {
   "cell_type": "code",
   "execution_count": 396,
   "metadata": {},
   "outputs": [],
   "source": [
    "ranking_rest = soup.findAll('tr',{'class':'table-body'})"
   ]
  },
  {
   "cell_type": "code",
   "execution_count": null,
   "metadata": {},
   "outputs": [],
   "source": []
  },
  {
   "cell_type": "code",
   "execution_count": 397,
   "metadata": {},
   "outputs": [
    {
     "data": {
      "text/plain": [
       "'Trent Boult'"
      ]
     },
     "execution_count": 397,
     "metadata": {},
     "output_type": "execute_result"
    }
   ],
   "source": [
    "ranking_first[0].find(\"div\",{\"class\":\"rankings-block__banner--name-large\"}).text"
   ]
  },
  {
   "cell_type": "code",
   "execution_count": 398,
   "metadata": {},
   "outputs": [
    {
     "data": {
      "text/plain": [
       "'NZ'"
      ]
     },
     "execution_count": 398,
     "metadata": {},
     "output_type": "execute_result"
    }
   ],
   "source": [
    "ranking_first[0].find(\"div\",{\"class\":\"rankings-block__banner--nationality\"}).text.strip('\\n')"
   ]
  },
  {
   "cell_type": "code",
   "execution_count": 399,
   "metadata": {},
   "outputs": [
    {
     "data": {
      "text/plain": [
       "'722'"
      ]
     },
     "execution_count": 399,
     "metadata": {},
     "output_type": "execute_result"
    }
   ],
   "source": [
    "ranking_first1[0].find(\"div\",{\"class\":\"rankings-block__banner--rating\"}).text"
   ]
  },
  {
   "cell_type": "code",
   "execution_count": 400,
   "metadata": {},
   "outputs": [
    {
     "data": {
      "text/plain": [
       "'770 v West Indies, 22/06/2019'"
      ]
     },
     "execution_count": 400,
     "metadata": {},
     "output_type": "execute_result"
    }
   ],
   "source": [
    "ranking_first2[0].find(\"span\",{\"class\":\"rankings-block__career-best-text\"}).text.strip('\\n').strip(\" \").strip('\\n')"
   ]
  },
  {
   "cell_type": "code",
   "execution_count": 401,
   "metadata": {},
   "outputs": [],
   "source": [
    "Player = []\n",
    "Team = []\n",
    "Rating = []\n",
    "Bestrating = []\n",
    "for i in ranking_first[0:1]:\n",
    "    Player.append(i.find(\"div\",{\"class\":\"rankings-block__banner--name-large\"}).text)\n",
    "    Team.append(i.find(\"div\",{\"class\":\"rankings-block__banner--nationality\"}).text.strip('\\n'))\n",
    "for i in ranking_first1[0:1]:\n",
    "    Rating.append(i.find(\"div\",{\"class\":\"rankings-block__banner--rating\"}).text)\n",
    "for i in ranking_first2[0:1]:    \n",
    "    Bestrating.append(i.find(\"span\",{\"class\":\"rankings-block__career-best-text\"}).text.strip('\\n').strip(\" \").strip('\\n'))\n",
    "\n",
    "    \n",
    "for i in ranking_rest[0:9]:\n",
    "    Player.append(i.find(\"td\",{\"class\":\"table-body__cell rankings-table__name name\"}).text.strip('\\n'))\n",
    "    Team.append(i.find(\"span\",{\"class\":\"table-body__logo-text\"}).text.strip('\\n'))\n",
    "    Rating.append(i.find(\"td\",{\"class\":\"table-body__cell rating\"}).text)  \n",
    "    Bestrating.append(i.find(\"td\",{\"class\":\"table-body__cell u-text-right u-hide-phablet\"}).text.strip('\\n').strip(\" \").strip('\\n'))"
   ]
  },
  {
   "cell_type": "code",
   "execution_count": 402,
   "metadata": {},
   "outputs": [],
   "source": [
    "data= list(zip(Player,Team,Rating,Bestrating))"
   ]
  },
  {
   "cell_type": "code",
   "execution_count": 403,
   "metadata": {},
   "outputs": [],
   "source": [
    "df_ODI10bowler = pd.DataFrame(data,columns=[\"Player\",\"Team\",\"Rating\",\"Bestrating\"])"
   ]
  },
  {
   "cell_type": "code",
   "execution_count": 404,
   "metadata": {
    "scrolled": true
   },
   "outputs": [
    {
     "data": {
      "text/html": [
       "<div>\n",
       "<style scoped>\n",
       "    .dataframe tbody tr th:only-of-type {\n",
       "        vertical-align: middle;\n",
       "    }\n",
       "\n",
       "    .dataframe tbody tr th {\n",
       "        vertical-align: top;\n",
       "    }\n",
       "\n",
       "    .dataframe thead th {\n",
       "        text-align: right;\n",
       "    }\n",
       "</style>\n",
       "<table border=\"1\" class=\"dataframe\">\n",
       "  <thead>\n",
       "    <tr style=\"text-align: right;\">\n",
       "      <th></th>\n",
       "      <th>Player</th>\n",
       "      <th>Team</th>\n",
       "      <th>Rating</th>\n",
       "      <th>Bestrating</th>\n",
       "    </tr>\n",
       "  </thead>\n",
       "  <tbody>\n",
       "    <tr>\n",
       "      <th>0</th>\n",
       "      <td>Trent Boult</td>\n",
       "      <td>NZ</td>\n",
       "      <td>722</td>\n",
       "      <td>770 v West Indies, 22/06/2019</td>\n",
       "    </tr>\n",
       "    <tr>\n",
       "      <th>1</th>\n",
       "      <td>Mujeeb Ur Rahman</td>\n",
       "      <td>AFG</td>\n",
       "      <td>708</td>\n",
       "      <td>712 v Ireland, 24/01/2021</td>\n",
       "    </tr>\n",
       "    <tr>\n",
       "      <th>2</th>\n",
       "      <td>Jasprit Bumrah</td>\n",
       "      <td>IND</td>\n",
       "      <td>700</td>\n",
       "      <td>841 v West Indies, 01/11/2018</td>\n",
       "    </tr>\n",
       "    <tr>\n",
       "      <th>3</th>\n",
       "      <td>Mehedi Hasan</td>\n",
       "      <td>BAN</td>\n",
       "      <td>694</td>\n",
       "      <td>694 v West Indies, 25/01/2021</td>\n",
       "    </tr>\n",
       "    <tr>\n",
       "      <th>4</th>\n",
       "      <td>Chris Woakes</td>\n",
       "      <td>ENG</td>\n",
       "      <td>675</td>\n",
       "      <td>676 v New Zealand, 14/07/2019</td>\n",
       "    </tr>\n",
       "    <tr>\n",
       "      <th>5</th>\n",
       "      <td>Kagiso Rabada</td>\n",
       "      <td>SA</td>\n",
       "      <td>665</td>\n",
       "      <td>724 v England, 29/05/2017</td>\n",
       "    </tr>\n",
       "    <tr>\n",
       "      <th>6</th>\n",
       "      <td>Josh Hazlewood</td>\n",
       "      <td>AUS</td>\n",
       "      <td>660</td>\n",
       "      <td>733 v England, 26/01/2018</td>\n",
       "    </tr>\n",
       "    <tr>\n",
       "      <th>7</th>\n",
       "      <td>Mustafizur Rahman</td>\n",
       "      <td>BAN</td>\n",
       "      <td>658</td>\n",
       "      <td>695 v West Indies, 14/12/2018</td>\n",
       "    </tr>\n",
       "    <tr>\n",
       "      <th>8</th>\n",
       "      <td>Mohammad Amir</td>\n",
       "      <td>PAK</td>\n",
       "      <td>647</td>\n",
       "      <td>663 v Sri Lanka, 02/10/2019</td>\n",
       "    </tr>\n",
       "    <tr>\n",
       "      <th>9</th>\n",
       "      <td>Pat Cummins</td>\n",
       "      <td>AUS</td>\n",
       "      <td>646</td>\n",
       "      <td>729 v Pakistan, 12/06/2019</td>\n",
       "    </tr>\n",
       "  </tbody>\n",
       "</table>\n",
       "</div>"
      ],
      "text/plain": [
       "              Player Team Rating                     Bestrating\n",
       "0        Trent Boult   NZ    722  770 v West Indies, 22/06/2019\n",
       "1   Mujeeb Ur Rahman  AFG    708      712 v Ireland, 24/01/2021\n",
       "2     Jasprit Bumrah  IND    700  841 v West Indies, 01/11/2018\n",
       "3       Mehedi Hasan  BAN    694  694 v West Indies, 25/01/2021\n",
       "4       Chris Woakes  ENG    675  676 v New Zealand, 14/07/2019\n",
       "5      Kagiso Rabada   SA    665      724 v England, 29/05/2017\n",
       "6     Josh Hazlewood  AUS    660      733 v England, 26/01/2018\n",
       "7  Mustafizur Rahman  BAN    658  695 v West Indies, 14/12/2018\n",
       "8      Mohammad Amir  PAK    647    663 v Sri Lanka, 02/10/2019\n",
       "9        Pat Cummins  AUS    646     729 v Pakistan, 12/06/2019"
      ]
     },
     "execution_count": 404,
     "metadata": {},
     "output_type": "execute_result"
    }
   ],
   "source": [
    "df_ODI10bowler"
   ]
  },
  {
   "cell_type": "markdown",
   "metadata": {},
   "source": [
    "# ODI Womens Top 10"
   ]
  },
  {
   "cell_type": "code",
   "execution_count": 405,
   "metadata": {},
   "outputs": [],
   "source": [
    "url= \"https://www.icc-cricket.com/rankings/womens/team-rankings/odi\""
   ]
  },
  {
   "cell_type": "code",
   "execution_count": 406,
   "metadata": {},
   "outputs": [
    {
     "name": "stdout",
     "output_type": "stream",
     "text": [
      "<Response [200]>\n"
     ]
    }
   ],
   "source": [
    "res=requests.get(url)\n",
    "print(res)"
   ]
  },
  {
   "cell_type": "code",
   "execution_count": 407,
   "metadata": {},
   "outputs": [],
   "source": [
    "soup=BeautifulSoup(res.content,'html.parser')"
   ]
  },
  {
   "cell_type": "code",
   "execution_count": 408,
   "metadata": {},
   "outputs": [
    {
     "data": {
      "text/plain": [
       "'ICC Ranking for ODI teams International Cricket Council'"
      ]
     },
     "execution_count": 408,
     "metadata": {},
     "output_type": "execute_result"
    }
   ],
   "source": [
    "soup.title.text"
   ]
  },
  {
   "cell_type": "code",
   "execution_count": 409,
   "metadata": {},
   "outputs": [],
   "source": [
    "ranking_first = soup.findAll('tr',{'class':'rankings-block__banner'})"
   ]
  },
  {
   "cell_type": "code",
   "execution_count": 410,
   "metadata": {},
   "outputs": [
    {
     "data": {
      "text/plain": [
       "[<tr class=\"rankings-block__banner\">\n",
       " <td class=\"rankings-block__banner--pos\">1</td>\n",
       " <td class=\"rankings-block__banner--team-name\">\n",
       " <span class=\"flag-30 rankings-block__banner--flag AUS\"></span>\n",
       " <span class=\"u-hide-phablet\">Australia</span>\n",
       " <span class=\"u-show-phablet\">AUS</span>\n",
       " </td>\n",
       " <td class=\"rankings-block__banner--matches\">15</td>\n",
       " <td class=\"rankings-block__banner--points\">2,436</td>\n",
       " <td class=\"rankings-block__banner--rating u-text-right\">\n",
       "                             162\n",
       "                             <span class=\"circle-branding circle-branding--top\"></span>\n",
       " <span class=\"circle-branding circle-branding--bottom\"></span>\n",
       " </td>\n",
       " </tr>]"
      ]
     },
     "execution_count": 410,
     "metadata": {},
     "output_type": "execute_result"
    }
   ],
   "source": [
    "ranking_first"
   ]
  },
  {
   "cell_type": "code",
   "execution_count": 411,
   "metadata": {},
   "outputs": [],
   "source": [
    "ranking_rest = soup.findAll('tr',{'class':'table-body'})"
   ]
  },
  {
   "cell_type": "code",
   "execution_count": 412,
   "metadata": {},
   "outputs": [],
   "source": [
    "Team = []\n",
    "Matches = []\n",
    "Points = []\n",
    "Rating = []\n",
    "\n",
    "for i in ranking_first[0:1]:\n",
    "    Team.append(i.find(\"span\",{\"class\":\"u-hide-phablet\"}).text)\n",
    "    Matches.append(i.find(\"td\",{\"class\":\"rankings-block__banner--matches\"}).text) \n",
    "    Points.append(i.find(\"td\",{\"class\":\"rankings-block__banner--points\"}).text)\n",
    "    Rating.append(i.find(\"td\",{\"class\":\"rankings-block__banner--rating u-text-right\"}).text.strip('\\n').strip(\" \").strip(\"\\n\"))\n",
    "\n",
    "for i in ranking_rest[0:9]:\n",
    "    Team.append(i.find(\"span\",{\"class\":\"u-hide-phablet\"}).text)\n",
    "    Matches.append(i.find(\"td\",{\"class\":\"table-body__cell u-center-text\"}).text) \n",
    "    Points.append(i.findAll(\"td\",{\"class\":\"table-body__cell u-center-text\"})[1].text)\n",
    "    Rating.append(i.find(\"td\",{\"class\":\"table-body__cell u-text-right rating\"}).text)"
   ]
  },
  {
   "cell_type": "code",
   "execution_count": 413,
   "metadata": {},
   "outputs": [],
   "source": [
    "data= list(zip(Team,Matches,Points,Rating))"
   ]
  },
  {
   "cell_type": "code",
   "execution_count": 414,
   "metadata": {},
   "outputs": [],
   "source": [
    "df_womenODI10= pd.DataFrame(data,columns=[\"Team\",\"Matches\",\"Points\",\"Rating\"])"
   ]
  },
  {
   "cell_type": "code",
   "execution_count": 415,
   "metadata": {
    "scrolled": true
   },
   "outputs": [
    {
     "data": {
      "text/html": [
       "<div>\n",
       "<style scoped>\n",
       "    .dataframe tbody tr th:only-of-type {\n",
       "        vertical-align: middle;\n",
       "    }\n",
       "\n",
       "    .dataframe tbody tr th {\n",
       "        vertical-align: top;\n",
       "    }\n",
       "\n",
       "    .dataframe thead th {\n",
       "        text-align: right;\n",
       "    }\n",
       "</style>\n",
       "<table border=\"1\" class=\"dataframe\">\n",
       "  <thead>\n",
       "    <tr style=\"text-align: right;\">\n",
       "      <th></th>\n",
       "      <th>Team</th>\n",
       "      <th>Matches</th>\n",
       "      <th>Points</th>\n",
       "      <th>Rating</th>\n",
       "    </tr>\n",
       "  </thead>\n",
       "  <tbody>\n",
       "    <tr>\n",
       "      <th>0</th>\n",
       "      <td>Australia</td>\n",
       "      <td>15</td>\n",
       "      <td>2,436</td>\n",
       "      <td>162</td>\n",
       "    </tr>\n",
       "    <tr>\n",
       "      <th>1</th>\n",
       "      <td>South Africa</td>\n",
       "      <td>24</td>\n",
       "      <td>2,828</td>\n",
       "      <td>118</td>\n",
       "    </tr>\n",
       "    <tr>\n",
       "      <th>2</th>\n",
       "      <td>England</td>\n",
       "      <td>17</td>\n",
       "      <td>1,993</td>\n",
       "      <td>117</td>\n",
       "    </tr>\n",
       "    <tr>\n",
       "      <th>3</th>\n",
       "      <td>India</td>\n",
       "      <td>20</td>\n",
       "      <td>2,226</td>\n",
       "      <td>111</td>\n",
       "    </tr>\n",
       "    <tr>\n",
       "      <th>4</th>\n",
       "      <td>New Zealand</td>\n",
       "      <td>18</td>\n",
       "      <td>1,696</td>\n",
       "      <td>94</td>\n",
       "    </tr>\n",
       "    <tr>\n",
       "      <th>5</th>\n",
       "      <td>West Indies</td>\n",
       "      <td>12</td>\n",
       "      <td>1,025</td>\n",
       "      <td>85</td>\n",
       "    </tr>\n",
       "    <tr>\n",
       "      <th>6</th>\n",
       "      <td>Pakistan</td>\n",
       "      <td>15</td>\n",
       "      <td>1,101</td>\n",
       "      <td>73</td>\n",
       "    </tr>\n",
       "    <tr>\n",
       "      <th>7</th>\n",
       "      <td>Bangladesh</td>\n",
       "      <td>5</td>\n",
       "      <td>306</td>\n",
       "      <td>61</td>\n",
       "    </tr>\n",
       "    <tr>\n",
       "      <th>8</th>\n",
       "      <td>Sri Lanka</td>\n",
       "      <td>11</td>\n",
       "      <td>519</td>\n",
       "      <td>47</td>\n",
       "    </tr>\n",
       "    <tr>\n",
       "      <th>9</th>\n",
       "      <td>Ireland</td>\n",
       "      <td>2</td>\n",
       "      <td>25</td>\n",
       "      <td>13</td>\n",
       "    </tr>\n",
       "  </tbody>\n",
       "</table>\n",
       "</div>"
      ],
      "text/plain": [
       "           Team Matches Points Rating\n",
       "0     Australia      15  2,436    162\n",
       "1  South Africa      24  2,828    118\n",
       "2       England      17  1,993    117\n",
       "3         India      20  2,226    111\n",
       "4   New Zealand      18  1,696     94\n",
       "5   West Indies      12  1,025     85\n",
       "6      Pakistan      15  1,101     73\n",
       "7    Bangladesh       5    306     61\n",
       "8     Sri Lanka      11    519     47\n",
       "9       Ireland       2     25     13"
      ]
     },
     "execution_count": 415,
     "metadata": {},
     "output_type": "execute_result"
    }
   ],
   "source": [
    "df_womenODI10"
   ]
  },
  {
   "cell_type": "markdown",
   "metadata": {},
   "source": [
    "# ODI Womens Batting Top 10"
   ]
  },
  {
   "cell_type": "code",
   "execution_count": 416,
   "metadata": {},
   "outputs": [],
   "source": [
    "url=\"https://www.icc-cricket.com/rankings/womens/player-rankings/odi/batting\""
   ]
  },
  {
   "cell_type": "code",
   "execution_count": 417,
   "metadata": {},
   "outputs": [
    {
     "name": "stdout",
     "output_type": "stream",
     "text": [
      "<Response [200]>\n"
     ]
    }
   ],
   "source": [
    "res=requests.get(url)\n",
    "print(res)"
   ]
  },
  {
   "cell_type": "code",
   "execution_count": 418,
   "metadata": {},
   "outputs": [],
   "source": [
    "soup=BeautifulSoup(res.content,'html.parser')"
   ]
  },
  {
   "cell_type": "code",
   "execution_count": 419,
   "metadata": {},
   "outputs": [
    {
     "data": {
      "text/plain": [
       "'Live Cricket Scores & News International Cricket Council'"
      ]
     },
     "execution_count": 419,
     "metadata": {},
     "output_type": "execute_result"
    }
   ],
   "source": [
    "soup.title.text"
   ]
  },
  {
   "cell_type": "code",
   "execution_count": 420,
   "metadata": {},
   "outputs": [],
   "source": [
    "ranking_first = soup.findAll('tr',{'class':'rankings-block__banner'})"
   ]
  },
  {
   "cell_type": "code",
   "execution_count": 421,
   "metadata": {},
   "outputs": [],
   "source": [
    "ranking_first1 = soup.findAll('td',{'class':'u-text-left'})"
   ]
  },
  {
   "cell_type": "code",
   "execution_count": 422,
   "metadata": {},
   "outputs": [],
   "source": [
    "ranking_first2 = soup.findAll('td',{'class':\"u-text-right u-hide-phablet u-overflow-hidden\"})"
   ]
  },
  {
   "cell_type": "code",
   "execution_count": 424,
   "metadata": {},
   "outputs": [],
   "source": [
    "ranking_rest = soup.findAll('tr',{'class':'table-body'})"
   ]
  },
  {
   "cell_type": "code",
   "execution_count": 425,
   "metadata": {},
   "outputs": [],
   "source": [
    "Player = []\n",
    "Team = []\n",
    "Rating = []\n",
    "Bestrating = []\n",
    "for i in ranking_first[0:1]:\n",
    "    Player.append(i.find(\"div\",{\"class\":\"rankings-block__banner--name-large\"}).text)\n",
    "    Team.append(i.find(\"div\",{\"class\":\"rankings-block__banner--nationality\"}).text.strip('\\n'))\n",
    "for i in ranking_first1[0:1]:\n",
    "    Rating.append(i.find(\"div\",{\"class\":\"rankings-block__banner--rating\"}).text)\n",
    "for i in ranking_first2[0:1]:    \n",
    "    Bestrating.append(i.find(\"span\",{\"class\":\"rankings-block__career-best-text\"}).text.strip('\\n').strip(\" \").strip('\\n'))\n",
    "\n",
    "    \n",
    "for i in ranking_rest[0:9]:\n",
    "    Player.append(i.find(\"td\",{\"class\":\"table-body__cell rankings-table__name name\"}).text)\n",
    "    Team.append(i.find(\"span\",{\"class\":\"table-body__logo-text\"}).text.strip('\\n'))\n",
    "    Rating.append(i.find(\"td\",{\"class\":\"table-body__cell rating\"}).text)  \n",
    "    Bestrating.append(i.find(\"td\",{\"class\":\"table-body__cell u-text-right u-hide-phablet\"}).text.strip('\\n').strip(\" \").strip('\\n'))"
   ]
  },
  {
   "cell_type": "code",
   "execution_count": 426,
   "metadata": {},
   "outputs": [],
   "source": [
    "data= list(zip(Player,Team,Rating,Bestrating))"
   ]
  },
  {
   "cell_type": "code",
   "execution_count": 427,
   "metadata": {},
   "outputs": [],
   "source": [
    "df_ODI10batting = pd.DataFrame(data,columns=[\"Player\",\"Team\",\"Rating\",\"Bestrating\"])"
   ]
  },
  {
   "cell_type": "code",
   "execution_count": 428,
   "metadata": {},
   "outputs": [
    {
     "data": {
      "text/html": [
       "<div>\n",
       "<style scoped>\n",
       "    .dataframe tbody tr th:only-of-type {\n",
       "        vertical-align: middle;\n",
       "    }\n",
       "\n",
       "    .dataframe tbody tr th {\n",
       "        vertical-align: top;\n",
       "    }\n",
       "\n",
       "    .dataframe thead th {\n",
       "        text-align: right;\n",
       "    }\n",
       "</style>\n",
       "<table border=\"1\" class=\"dataframe\">\n",
       "  <thead>\n",
       "    <tr style=\"text-align: right;\">\n",
       "      <th></th>\n",
       "      <th>Player</th>\n",
       "      <th>Team</th>\n",
       "      <th>Rating</th>\n",
       "      <th>Bestrating</th>\n",
       "    </tr>\n",
       "  </thead>\n",
       "  <tbody>\n",
       "    <tr>\n",
       "      <th>0</th>\n",
       "      <td>Lizelle Lee</td>\n",
       "      <td>SA</td>\n",
       "      <td>773</td>\n",
       "      <td>773 v India, 14/03/2021</td>\n",
       "    </tr>\n",
       "    <tr>\n",
       "      <th>1</th>\n",
       "      <td>\\nTammy Beaumont\\n</td>\n",
       "      <td>ENG</td>\n",
       "      <td>765</td>\n",
       "      <td>765 v New Zealand, 28/02/2021</td>\n",
       "    </tr>\n",
       "    <tr>\n",
       "      <th>2</th>\n",
       "      <td>\\nMeg Lanning\\n</td>\n",
       "      <td>AUS</td>\n",
       "      <td>749</td>\n",
       "      <td>834 v New Zealand, 24/02/2016</td>\n",
       "    </tr>\n",
       "    <tr>\n",
       "      <th>3</th>\n",
       "      <td>\\nStafanie Taylor\\n</td>\n",
       "      <td>WI</td>\n",
       "      <td>746</td>\n",
       "      <td>765 v India, 02/03/2012</td>\n",
       "    </tr>\n",
       "    <tr>\n",
       "      <th>4</th>\n",
       "      <td>\\nAlyssa Healy\\n</td>\n",
       "      <td>AUS</td>\n",
       "      <td>741</td>\n",
       "      <td>741 v New Zealand, 07/10/2020</td>\n",
       "    </tr>\n",
       "    <tr>\n",
       "      <th>5</th>\n",
       "      <td>\\nAmy Satterthwaite\\n</td>\n",
       "      <td>NZ</td>\n",
       "      <td>740</td>\n",
       "      <td>756 v Australia, 02/03/2017</td>\n",
       "    </tr>\n",
       "    <tr>\n",
       "      <th>6</th>\n",
       "      <td>\\nSmriti Mandhana\\n</td>\n",
       "      <td>IND</td>\n",
       "      <td>719</td>\n",
       "      <td>797 v England, 28/02/2019</td>\n",
       "    </tr>\n",
       "    <tr>\n",
       "      <th>7</th>\n",
       "      <td>\\nLaura Wolvaardt\\n</td>\n",
       "      <td>SA</td>\n",
       "      <td>699</td>\n",
       "      <td>725 v India, 07/03/2021</td>\n",
       "    </tr>\n",
       "    <tr>\n",
       "      <th>8</th>\n",
       "      <td>\\nMithali Raj\\n</td>\n",
       "      <td>IND</td>\n",
       "      <td>693</td>\n",
       "      <td>839 v Australia, 24/12/2004</td>\n",
       "    </tr>\n",
       "    <tr>\n",
       "      <th>9</th>\n",
       "      <td>\\nEllyse Perry\\n</td>\n",
       "      <td>AUS</td>\n",
       "      <td>691</td>\n",
       "      <td>766 v West Indies, 11/09/2019</td>\n",
       "    </tr>\n",
       "  </tbody>\n",
       "</table>\n",
       "</div>"
      ],
      "text/plain": [
       "                  Player Team Rating                     Bestrating\n",
       "0            Lizelle Lee   SA    773        773 v India, 14/03/2021\n",
       "1     \\nTammy Beaumont\\n  ENG    765  765 v New Zealand, 28/02/2021\n",
       "2        \\nMeg Lanning\\n  AUS    749  834 v New Zealand, 24/02/2016\n",
       "3    \\nStafanie Taylor\\n   WI    746        765 v India, 02/03/2012\n",
       "4       \\nAlyssa Healy\\n  AUS    741  741 v New Zealand, 07/10/2020\n",
       "5  \\nAmy Satterthwaite\\n   NZ    740    756 v Australia, 02/03/2017\n",
       "6    \\nSmriti Mandhana\\n  IND    719      797 v England, 28/02/2019\n",
       "7    \\nLaura Wolvaardt\\n   SA    699        725 v India, 07/03/2021\n",
       "8        \\nMithali Raj\\n  IND    693    839 v Australia, 24/12/2004\n",
       "9       \\nEllyse Perry\\n  AUS    691  766 v West Indies, 11/09/2019"
      ]
     },
     "execution_count": 428,
     "metadata": {},
     "output_type": "execute_result"
    }
   ],
   "source": [
    "df_ODI10batting "
   ]
  },
  {
   "cell_type": "markdown",
   "metadata": {},
   "source": [
    "# ODI Bowling Womens Top 10"
   ]
  },
  {
   "cell_type": "code",
   "execution_count": 429,
   "metadata": {},
   "outputs": [],
   "source": [
    "url=\"https://www.icc-cricket.com/rankings/womens/player-rankings/odi/bowling\""
   ]
  },
  {
   "cell_type": "code",
   "execution_count": 430,
   "metadata": {},
   "outputs": [
    {
     "name": "stdout",
     "output_type": "stream",
     "text": [
      "<Response [200]>\n"
     ]
    }
   ],
   "source": [
    "res=requests.get(url)\n",
    "print(res)"
   ]
  },
  {
   "cell_type": "code",
   "execution_count": 431,
   "metadata": {},
   "outputs": [],
   "source": [
    "soup=BeautifulSoup(res.content,'html.parser')"
   ]
  },
  {
   "cell_type": "code",
   "execution_count": 432,
   "metadata": {},
   "outputs": [
    {
     "data": {
      "text/plain": [
       "'Live Cricket Scores & News International Cricket Council'"
      ]
     },
     "execution_count": 432,
     "metadata": {},
     "output_type": "execute_result"
    }
   ],
   "source": [
    "soup.title.text"
   ]
  },
  {
   "cell_type": "code",
   "execution_count": 433,
   "metadata": {},
   "outputs": [],
   "source": [
    "ranking_first = soup.findAll('tr',{'class':'rankings-block__banner'})"
   ]
  },
  {
   "cell_type": "code",
   "execution_count": 434,
   "metadata": {},
   "outputs": [],
   "source": [
    "ranking_first1 = soup.findAll('td',{'class':'u-text-left'})"
   ]
  },
  {
   "cell_type": "code",
   "execution_count": 435,
   "metadata": {},
   "outputs": [],
   "source": [
    "ranking_first2 = soup.findAll('td',{'class':\"u-text-right u-hide-phablet u-overflow-hidden\"})"
   ]
  },
  {
   "cell_type": "code",
   "execution_count": 436,
   "metadata": {},
   "outputs": [],
   "source": [
    "ranking_rest = soup.findAll('tr',{'class':'table-body'})"
   ]
  },
  {
   "cell_type": "code",
   "execution_count": 437,
   "metadata": {},
   "outputs": [],
   "source": [
    "Player = []\n",
    "Team = []\n",
    "Rating = []\n",
    "Bestrating = []\n",
    "for i in ranking_first[0:1]:\n",
    "    Player.append(i.find(\"div\",{\"class\":\"rankings-block__banner--name-large\"}).text)\n",
    "    Team.append(i.find(\"div\",{\"class\":\"rankings-block__banner--nationality\"}).text.strip('\\n'))\n",
    "for i in ranking_first1[0:1]:\n",
    "    Rating.append(i.find(\"div\",{\"class\":\"rankings-block__banner--rating\"}).text)\n",
    "for i in ranking_first2[0:1]:    \n",
    "    Bestrating.append(i.find(\"span\",{\"class\":\"rankings-block__career-best-text\"}).text.strip('\\n').strip(\" \").strip('\\n'))\n",
    "\n",
    "    \n",
    "for i in ranking_rest[0:9]:\n",
    "    Player.append(i.find(\"td\",{\"class\":\"table-body__cell rankings-table__name name\"}).text.strip('\\n'))\n",
    "    Team.append(i.find(\"span\",{\"class\":\"table-body__logo-text\"}).text.strip('\\n'))\n",
    "    Rating.append(i.find(\"td\",{\"class\":\"table-body__cell rating\"}).text)  \n",
    "    Bestrating.append(i.find(\"td\",{\"class\":\"table-body__cell u-text-right u-hide-phablet\"}).text.strip('\\n').strip(\" \").strip('\\n'))"
   ]
  },
  {
   "cell_type": "code",
   "execution_count": 438,
   "metadata": {},
   "outputs": [],
   "source": [
    "data= list(zip(Player,Team,Rating,Bestrating))"
   ]
  },
  {
   "cell_type": "code",
   "execution_count": 439,
   "metadata": {},
   "outputs": [],
   "source": [
    "df_ODI10bowling = pd.DataFrame(data,columns=[\"Player\",\"Team\",\"Rating\",\"Bestrating\"])"
   ]
  },
  {
   "cell_type": "code",
   "execution_count": 440,
   "metadata": {
    "scrolled": false
   },
   "outputs": [
    {
     "data": {
      "text/html": [
       "<div>\n",
       "<style scoped>\n",
       "    .dataframe tbody tr th:only-of-type {\n",
       "        vertical-align: middle;\n",
       "    }\n",
       "\n",
       "    .dataframe tbody tr th {\n",
       "        vertical-align: top;\n",
       "    }\n",
       "\n",
       "    .dataframe thead th {\n",
       "        text-align: right;\n",
       "    }\n",
       "</style>\n",
       "<table border=\"1\" class=\"dataframe\">\n",
       "  <thead>\n",
       "    <tr style=\"text-align: right;\">\n",
       "      <th></th>\n",
       "      <th>Player</th>\n",
       "      <th>Team</th>\n",
       "      <th>Rating</th>\n",
       "      <th>Bestrating</th>\n",
       "    </tr>\n",
       "  </thead>\n",
       "  <tbody>\n",
       "    <tr>\n",
       "      <th>0</th>\n",
       "      <td>Jess Jonassen</td>\n",
       "      <td>AUS</td>\n",
       "      <td>804</td>\n",
       "      <td>804 v New Zealand, 07/10/2020</td>\n",
       "    </tr>\n",
       "    <tr>\n",
       "      <th>1</th>\n",
       "      <td>Megan Schutt</td>\n",
       "      <td>AUS</td>\n",
       "      <td>735</td>\n",
       "      <td>766 v West Indies, 11/09/2019</td>\n",
       "    </tr>\n",
       "    <tr>\n",
       "      <th>2</th>\n",
       "      <td>Shabnim Ismail</td>\n",
       "      <td>SA</td>\n",
       "      <td>733</td>\n",
       "      <td>743 v India, 07/03/2021</td>\n",
       "    </tr>\n",
       "    <tr>\n",
       "      <th>3</th>\n",
       "      <td>Marizanne Kapp</td>\n",
       "      <td>SA</td>\n",
       "      <td>725</td>\n",
       "      <td>745 v India, 09/03/2021</td>\n",
       "    </tr>\n",
       "    <tr>\n",
       "      <th>4</th>\n",
       "      <td>Jhulan Goswami</td>\n",
       "      <td>IND</td>\n",
       "      <td>687</td>\n",
       "      <td>796 v England, 28/02/2007</td>\n",
       "    </tr>\n",
       "    <tr>\n",
       "      <th>5</th>\n",
       "      <td>Ellyse Perry</td>\n",
       "      <td>AUS</td>\n",
       "      <td>666</td>\n",
       "      <td>719 v West Indies, 05/09/2019</td>\n",
       "    </tr>\n",
       "    <tr>\n",
       "      <th>6</th>\n",
       "      <td>Katherine Brunt</td>\n",
       "      <td>ENG</td>\n",
       "      <td>655</td>\n",
       "      <td>796 v India, 03/02/2013</td>\n",
       "    </tr>\n",
       "    <tr>\n",
       "      <th>7</th>\n",
       "      <td>Poonam Yadav</td>\n",
       "      <td>IND</td>\n",
       "      <td>654</td>\n",
       "      <td>680 v West Indies, 06/11/2019</td>\n",
       "    </tr>\n",
       "    <tr>\n",
       "      <th>8</th>\n",
       "      <td>Ayabonga Khaka</td>\n",
       "      <td>SA</td>\n",
       "      <td>651</td>\n",
       "      <td>651 v India, 14/03/2021</td>\n",
       "    </tr>\n",
       "    <tr>\n",
       "      <th>9</th>\n",
       "      <td>Shikha Pandey</td>\n",
       "      <td>IND</td>\n",
       "      <td>623</td>\n",
       "      <td>696 v South Africa, 11/10/2019</td>\n",
       "    </tr>\n",
       "  </tbody>\n",
       "</table>\n",
       "</div>"
      ],
      "text/plain": [
       "            Player Team Rating                      Bestrating\n",
       "0    Jess Jonassen  AUS    804   804 v New Zealand, 07/10/2020\n",
       "1     Megan Schutt  AUS    735   766 v West Indies, 11/09/2019\n",
       "2   Shabnim Ismail   SA    733         743 v India, 07/03/2021\n",
       "3   Marizanne Kapp   SA    725         745 v India, 09/03/2021\n",
       "4   Jhulan Goswami  IND    687       796 v England, 28/02/2007\n",
       "5     Ellyse Perry  AUS    666   719 v West Indies, 05/09/2019\n",
       "6  Katherine Brunt  ENG    655         796 v India, 03/02/2013\n",
       "7     Poonam Yadav  IND    654   680 v West Indies, 06/11/2019\n",
       "8   Ayabonga Khaka   SA    651         651 v India, 14/03/2021\n",
       "9    Shikha Pandey  IND    623  696 v South Africa, 11/10/2019"
      ]
     },
     "execution_count": 440,
     "metadata": {},
     "output_type": "execute_result"
    }
   ],
   "source": [
    "df_ODI10bowling "
   ]
  },
  {
   "cell_type": "markdown",
   "metadata": {},
   "source": [
    "# Amazon Mobile list under Rs20,000"
   ]
  },
  {
   "cell_type": "code",
   "execution_count": 651,
   "metadata": {},
   "outputs": [],
   "source": [
    "from requests_html import HTMLSession"
   ]
  },
  {
   "cell_type": "code",
   "execution_count": 678,
   "metadata": {},
   "outputs": [],
   "source": [
    "\n",
    "pages = list(range(1,50))\n",
    "for page in pages:\n",
    "    req = requests.get(\"https://www.amazon.in/s?i=electronics&bbn=1389401031&rh=n%3A1389401031%2Cp_36%3A1318506031&dc&page=2&qid=1616257200&rnid=1318502031&ref=sr_pg_{}\".format(page)).text  # URL of the website which you want to scrape\n",
    "    #content = req.content # Get the content\n",
    "    soup = BeautifulSoup(req,'html.parser')\n",
    "  #print(soup.prettify())"
   ]
  },
  {
   "cell_type": "code",
   "execution_count": 540,
   "metadata": {},
   "outputs": [],
   "source": [
    "soup=BeautifulSoup(res.content,'html.parser')"
   ]
  },
  {
   "cell_type": "code",
   "execution_count": 658,
   "metadata": {},
   "outputs": [
    {
     "data": {
      "text/plain": [
       "'Amazon.in: ₹10,000 - ₹20,000 - Mobiles & Accessories: Electronics'"
      ]
     },
     "execution_count": 658,
     "metadata": {},
     "output_type": "execute_result"
    }
   ],
   "source": [
    "soup.title.text"
   ]
  },
  {
   "cell_type": "code",
   "execution_count": 681,
   "metadata": {},
   "outputs": [],
   "source": [
    "mobile= soup.findAll('div',{'class':'sg-col-4-of-12 s-result-item s-asin sg-col-4-of-16 sg-col sg-col-4-of-20'})"
   ]
  },
  {
   "cell_type": "code",
   "execution_count": 661,
   "metadata": {},
   "outputs": [
    {
     "data": {
      "text/plain": [
       "'Redmi 9 Power (Electric Green, 4GB RAM, 64GB Storage) - 6000mAh Battery |FHD+ Screen| 48MP Quad Camera'"
      ]
     },
     "execution_count": 661,
     "metadata": {},
     "output_type": "execute_result"
    }
   ],
   "source": [
    "mobile[0].find(\"span\",{\"class\":\"a-size-base-plus a-color-base a-text-normal\"}).text #Model"
   ]
  },
  {
   "cell_type": "code",
   "execution_count": 662,
   "metadata": {},
   "outputs": [
    {
     "data": {
      "text/plain": [
       "'₹10,499'"
      ]
     },
     "execution_count": 662,
     "metadata": {},
     "output_type": "execute_result"
    }
   ],
   "source": [
    "mobile[0].find(\"span\",{\"class\":\"a-offscreen\"}).text #Price\n"
   ]
  },
  {
   "cell_type": "code",
   "execution_count": 664,
   "metadata": {},
   "outputs": [],
   "source": [
    "\n",
    "for a_tag in mobile[0].findAll(\"a\",{\"class\":\"a-link-normal s-no-outline\"}):\n",
    "    \n",
    "    Productlink = \"https://www.amazon.in/\" + a_tag.attrs.get(\"href\")\n",
    "    "
   ]
  },
  {
   "cell_type": "code",
   "execution_count": 665,
   "metadata": {},
   "outputs": [
    {
     "data": {
      "text/plain": [
       "'https://www.amazon.in//Test-Exclusive_2020_1111-Multi-3GB-Storage/dp/B089MS8HPF?dchild=1'"
      ]
     },
     "execution_count": 665,
     "metadata": {},
     "output_type": "execute_result"
    }
   ],
   "source": [
    "Productlink"
   ]
  },
  {
   "cell_type": "code",
   "execution_count": 666,
   "metadata": {},
   "outputs": [],
   "source": [
    "for item in mobile[0].findAll('img'):\n",
    "    Image = item['src']"
   ]
  },
  {
   "cell_type": "code",
   "execution_count": 667,
   "metadata": {},
   "outputs": [
    {
     "data": {
      "text/plain": [
       "'https://m.media-amazon.com/images/I/71hEzQGO5qL._AC_UL320_.jpg'"
      ]
     },
     "execution_count": 667,
     "metadata": {},
     "output_type": "execute_result"
    }
   ],
   "source": [
    "Image"
   ]
  },
  {
   "cell_type": "code",
   "execution_count": 688,
   "metadata": {},
   "outputs": [],
   "source": [
    "Model = []\n",
    "Price = []\n",
    "Rating = []\n",
    "Productlink = []\n",
    "Imagelink =[]"
   ]
  },
  {
   "cell_type": "code",
   "execution_count": 887,
   "metadata": {
    "scrolled": true
   },
   "outputs": [
    {
     "name": "stdout",
     "output_type": "stream",
     "text": [
      "<Response [503]>\n",
      "<Response [200]>\n",
      "<Response [503]>\n",
      "<Response [200]>\n",
      "<Response [503]>\n",
      "<Response [200]>\n",
      "<Response [503]>\n",
      "<Response [503]>\n",
      "<Response [503]>\n",
      "<Response [503]>\n",
      "<Response [503]>\n",
      "<Response [503]>\n",
      "<Response [503]>\n",
      "<Response [503]>\n",
      "<Response [200]>\n",
      "<Response [503]>\n",
      "<Response [503]>\n",
      "<Response [200]>\n",
      "<Response [503]>\n",
      "<Response [503]>\n",
      "<Response [503]>\n",
      "<Response [200]>\n",
      "<Response [503]>\n",
      "<Response [503]>\n",
      "<Response [503]>\n",
      "<Response [200]>\n",
      "<Response [200]>\n",
      "<Response [200]>\n",
      "<Response [503]>\n"
     ]
    }
   ],
   "source": [
    "pages = list(range(1,30))\n",
    "Model = []\n",
    "Price = []\n",
    "Rating = []\n",
    "Productlink = []\n",
    "Imagelink =[]\n",
    "for page in pages:\n",
    "    \n",
    "    req = requests.get(\"https://www.amazon.in/s?i=electronics&bbn=1389401031&rh=n%3A1389401031%2Cp_36%3A1318506031&dc&page=\"+str(page)+\"&qid=1616257200&rnid=1318502031&ref=sr_pg_\"+str(page))\n",
    "    print(req)\n",
    "    soup=BeautifulSoup(req.content,'html.parser')\n",
    "    mobile= soup.findAll('div',{'class':'sg-col-4-of-12 s-result-item s-asin sg-col-4-of-16 sg-col sg-col-4-of-20'})\n",
    "    for i in mobile[0:300]:\n",
    "        Model.append(i.find(\"span\",{\"class\":\"a-size-base-plus a-color-base a-text-normal\"}).text)\n",
    "        #Price\n",
    "        if(i.find(\"span\",{\"class\":\"a-offscreen\"}) != None):\n",
    "            Price.append(i.find(\"span\",{\"class\":\"a-offscreen\"}).text)   \n",
    "        else:\n",
    "            Price.append(\"Null\")\n",
    "        #Rating    \n",
    "        if(i.find(\"span\",{\"class\":\"a-icon-alt\"}) != None):\n",
    "            Rating.append(i.find(\"span\",{\"class\":\"a-icon-alt\"}).text[0:3])   \n",
    "        else:\n",
    "            Rating.append(\"Null\")\n",
    "        for a_tag in i.findAll(\"a\",{\"class\":\"a-link-normal s-no-outline\"}):\n",
    "            Productlink.append(\"https://www.amazon.in/\" + a_tag.attrs.get(\"href\"))\n",
    "        for item in i.findAll('img'):\n",
    "            Imagelink.append(item['src'])\n"
   ]
  },
  {
   "cell_type": "code",
   "execution_count": 888,
   "metadata": {},
   "outputs": [],
   "source": [
    "data= list(zip(Model,Price,Rating,Productlink,Imagelink))"
   ]
  },
  {
   "cell_type": "code",
   "execution_count": 889,
   "metadata": {},
   "outputs": [],
   "source": [
    "df1 = pd.DataFrame(data,columns=[\"Model\",\"Price\",\"Rating\",\"Productlink\",\"Imagelink\"])"
   ]
  },
  {
   "cell_type": "code",
   "execution_count": 890,
   "metadata": {
    "scrolled": false
   },
   "outputs": [
    {
     "data": {
      "text/html": [
       "<div>\n",
       "<style scoped>\n",
       "    .dataframe tbody tr th:only-of-type {\n",
       "        vertical-align: middle;\n",
       "    }\n",
       "\n",
       "    .dataframe tbody tr th {\n",
       "        vertical-align: top;\n",
       "    }\n",
       "\n",
       "    .dataframe thead th {\n",
       "        text-align: right;\n",
       "    }\n",
       "</style>\n",
       "<table border=\"1\" class=\"dataframe\">\n",
       "  <thead>\n",
       "    <tr style=\"text-align: right;\">\n",
       "      <th></th>\n",
       "      <th>Model</th>\n",
       "      <th>Price</th>\n",
       "      <th>Rating</th>\n",
       "      <th>Productlink</th>\n",
       "      <th>Imagelink</th>\n",
       "    </tr>\n",
       "  </thead>\n",
       "  <tbody>\n",
       "    <tr>\n",
       "      <th>0</th>\n",
       "      <td>Redmi 9 Power (Electric Green, 4GB RAM, 64GB S...</td>\n",
       "      <td>₹10,499</td>\n",
       "      <td>4.0</td>\n",
       "      <td>https://www.amazon.in//Test-Exclusive_2020_111...</td>\n",
       "      <td>https://m.media-amazon.com/images/I/71hEzQGO5q...</td>\n",
       "    </tr>\n",
       "    <tr>\n",
       "      <th>1</th>\n",
       "      <td>Samsung Galaxy M31s (Mirage Blue, 6GB RAM, 128...</td>\n",
       "      <td>₹18,499</td>\n",
       "      <td>4.3</td>\n",
       "      <td>https://www.amazon.in//Samsung-Galaxy-Mirage-1...</td>\n",
       "      <td>https://m.media-amazon.com/images/I/61d-phh4Gf...</td>\n",
       "    </tr>\n",
       "    <tr>\n",
       "      <th>2</th>\n",
       "      <td>Samsung Galaxy M31 (Iceberg Blue, 6GB RAM, 128...</td>\n",
       "      <td>₹16,499</td>\n",
       "      <td>4.2</td>\n",
       "      <td>https://www.amazon.in//Samsung-Galaxy-Iceberg-...</td>\n",
       "      <td>https://m.media-amazon.com/images/I/71ZsMOcpeP...</td>\n",
       "    </tr>\n",
       "    <tr>\n",
       "      <th>3</th>\n",
       "      <td>Samsung Galaxy M12 (White,6GB RAM, 128GB Stora...</td>\n",
       "      <td>₹13,499</td>\n",
       "      <td>5.0</td>\n",
       "      <td>https://www.amazon.in//Samsung-Galaxy-M12-Stor...</td>\n",
       "      <td>https://m.media-amazon.com/images/I/71PVpFc7Fw...</td>\n",
       "    </tr>\n",
       "    <tr>\n",
       "      <th>4</th>\n",
       "      <td>Samsung Galaxy M31s (Mirage Black, 6GB RAM, 12...</td>\n",
       "      <td>₹18,499</td>\n",
       "      <td>4.3</td>\n",
       "      <td>https://www.amazon.in//Samsung-Galaxy-Mirage-B...</td>\n",
       "      <td>https://m.media-amazon.com/images/I/71BFG8Zu7z...</td>\n",
       "    </tr>\n",
       "    <tr>\n",
       "      <th>...</th>\n",
       "      <td>...</td>\n",
       "      <td>...</td>\n",
       "      <td>...</td>\n",
       "      <td>...</td>\n",
       "      <td>...</td>\n",
       "    </tr>\n",
       "    <tr>\n",
       "      <th>211</th>\n",
       "      <td>Sony XB950B1 Extra Bass Wireless Headphones wi...</td>\n",
       "      <td>Null</td>\n",
       "      <td>4.3</td>\n",
       "      <td>https://www.amazon.in//Sony-MDR-XB950B1-Extra-...</td>\n",
       "      <td>https://m.media-amazon.com/images/I/61wvNRSOaq...</td>\n",
       "    </tr>\n",
       "    <tr>\n",
       "      <th>212</th>\n",
       "      <td>Samsung Galaxy A20s (Black, 4GB RAM, 64GB Stor...</td>\n",
       "      <td>₹14,900</td>\n",
       "      <td>4.0</td>\n",
       "      <td>https://www.amazon.in//Samsung-Galaxy-Storage-...</td>\n",
       "      <td>https://m.media-amazon.com/images/I/71gyuVYDxX...</td>\n",
       "    </tr>\n",
       "    <tr>\n",
       "      <th>213</th>\n",
       "      <td>Microsoft Surface Pen Tip Kit V2, 2-Pack</td>\n",
       "      <td>Null</td>\n",
       "      <td>4.7</td>\n",
       "      <td>https://www.amazon.in//Microsoft-Surface-Pen-T...</td>\n",
       "      <td>https://m.media-amazon.com/images/I/51YoCghJEy...</td>\n",
       "    </tr>\n",
       "    <tr>\n",
       "      <th>214</th>\n",
       "      <td>(Renewed) Samsung Galaxy A30s (Prism Crush Bla...</td>\n",
       "      <td>₹13,990</td>\n",
       "      <td>3.8</td>\n",
       "      <td>https://www.amazon.in//Renewed-Samsung-Galaxy-...</td>\n",
       "      <td>https://m.media-amazon.com/images/I/81nfJ2jimj...</td>\n",
       "    </tr>\n",
       "    <tr>\n",
       "      <th>215</th>\n",
       "      <td>Vivo Y55s (Crown Gold)</td>\n",
       "      <td>Null</td>\n",
       "      <td>3.9</td>\n",
       "      <td>https://www.amazon.in//Vivo-Y55s-Crown-Gold-RA...</td>\n",
       "      <td>https://m.media-amazon.com/images/I/71Y01WHXJb...</td>\n",
       "    </tr>\n",
       "  </tbody>\n",
       "</table>\n",
       "<p>216 rows × 5 columns</p>\n",
       "</div>"
      ],
      "text/plain": [
       "                                                 Model    Price Rating  \\\n",
       "0    Redmi 9 Power (Electric Green, 4GB RAM, 64GB S...  ₹10,499    4.0   \n",
       "1    Samsung Galaxy M31s (Mirage Blue, 6GB RAM, 128...  ₹18,499    4.3   \n",
       "2    Samsung Galaxy M31 (Iceberg Blue, 6GB RAM, 128...  ₹16,499    4.2   \n",
       "3    Samsung Galaxy M12 (White,6GB RAM, 128GB Stora...  ₹13,499    5.0   \n",
       "4    Samsung Galaxy M31s (Mirage Black, 6GB RAM, 12...  ₹18,499    4.3   \n",
       "..                                                 ...      ...    ...   \n",
       "211  Sony XB950B1 Extra Bass Wireless Headphones wi...     Null    4.3   \n",
       "212  Samsung Galaxy A20s (Black, 4GB RAM, 64GB Stor...  ₹14,900    4.0   \n",
       "213           Microsoft Surface Pen Tip Kit V2, 2-Pack     Null    4.7   \n",
       "214  (Renewed) Samsung Galaxy A30s (Prism Crush Bla...  ₹13,990    3.8   \n",
       "215                             Vivo Y55s (Crown Gold)     Null    3.9   \n",
       "\n",
       "                                           Productlink  \\\n",
       "0    https://www.amazon.in//Test-Exclusive_2020_111...   \n",
       "1    https://www.amazon.in//Samsung-Galaxy-Mirage-1...   \n",
       "2    https://www.amazon.in//Samsung-Galaxy-Iceberg-...   \n",
       "3    https://www.amazon.in//Samsung-Galaxy-M12-Stor...   \n",
       "4    https://www.amazon.in//Samsung-Galaxy-Mirage-B...   \n",
       "..                                                 ...   \n",
       "211  https://www.amazon.in//Sony-MDR-XB950B1-Extra-...   \n",
       "212  https://www.amazon.in//Samsung-Galaxy-Storage-...   \n",
       "213  https://www.amazon.in//Microsoft-Surface-Pen-T...   \n",
       "214  https://www.amazon.in//Renewed-Samsung-Galaxy-...   \n",
       "215  https://www.amazon.in//Vivo-Y55s-Crown-Gold-RA...   \n",
       "\n",
       "                                             Imagelink  \n",
       "0    https://m.media-amazon.com/images/I/71hEzQGO5q...  \n",
       "1    https://m.media-amazon.com/images/I/61d-phh4Gf...  \n",
       "2    https://m.media-amazon.com/images/I/71ZsMOcpeP...  \n",
       "3    https://m.media-amazon.com/images/I/71PVpFc7Fw...  \n",
       "4    https://m.media-amazon.com/images/I/71BFG8Zu7z...  \n",
       "..                                                 ...  \n",
       "211  https://m.media-amazon.com/images/I/61wvNRSOaq...  \n",
       "212  https://m.media-amazon.com/images/I/71gyuVYDxX...  \n",
       "213  https://m.media-amazon.com/images/I/51YoCghJEy...  \n",
       "214  https://m.media-amazon.com/images/I/81nfJ2jimj...  \n",
       "215  https://m.media-amazon.com/images/I/71Y01WHXJb...  \n",
       "\n",
       "[216 rows x 5 columns]"
      ]
     },
     "execution_count": 890,
     "metadata": {},
     "output_type": "execute_result"
    }
   ],
   "source": [
    "df1"
   ]
  },
  {
   "cell_type": "markdown",
   "metadata": {},
   "source": [
    "# San Fransisco weather forcasting"
   ]
  },
  {
   "cell_type": "code",
   "execution_count": 1073,
   "metadata": {},
   "outputs": [],
   "source": [
    "url=\"https://forecast.weather.gov/MapClick.php?lat=37.777120000000025&lon=-122.41963999999996#.YFb_hZ0zZdg\""
   ]
  },
  {
   "cell_type": "code",
   "execution_count": 1074,
   "metadata": {},
   "outputs": [
    {
     "name": "stdout",
     "output_type": "stream",
     "text": [
      "<Response [200]>\n"
     ]
    }
   ],
   "source": [
    "res=requests.get(url)\n",
    "print(res)"
   ]
  },
  {
   "cell_type": "code",
   "execution_count": 1075,
   "metadata": {},
   "outputs": [],
   "source": [
    "soup=BeautifulSoup(res.content,'html.parser')"
   ]
  },
  {
   "cell_type": "code",
   "execution_count": 1076,
   "metadata": {},
   "outputs": [
    {
     "data": {
      "text/plain": [
       "'National Weather Service'"
      ]
     },
     "execution_count": 1076,
     "metadata": {},
     "output_type": "execute_result"
    }
   ],
   "source": [
    "soup.title.text"
   ]
  },
  {
   "cell_type": "code",
   "execution_count": 1077,
   "metadata": {},
   "outputs": [],
   "source": [
    "weather= soup.findAll('li',{'class':'forecast-tombstone'})"
   ]
  },
  {
   "cell_type": "code",
   "execution_count": 1078,
   "metadata": {},
   "outputs": [
    {
     "data": {
      "text/plain": [
       "<li class=\"forecast-tombstone\">\n",
       "<div class=\"tombstone-container\">\n",
       "<p class=\"period-name\">Today<br/><br/></p>\n",
       "<p><img alt=\"Today: Sunny, with a high near 63. West wind 6 to 14 mph, with gusts as high as 18 mph. \" class=\"forecast-icon\" src=\"newimages/medium/skc.png\" title=\"Today: Sunny, with a high near 63. West wind 6 to 14 mph, with gusts as high as 18 mph. \"/></p><p class=\"short-desc\">Sunny</p><p class=\"temp temp-high\">High: 63 °F</p></div></li>"
      ]
     },
     "execution_count": 1078,
     "metadata": {},
     "output_type": "execute_result"
    }
   ],
   "source": [
    "weather[0]"
   ]
  },
  {
   "cell_type": "code",
   "execution_count": 1086,
   "metadata": {},
   "outputs": [],
   "source": [
    "weather1= soup.findAll('div',{'class':'col-sm-10 forecast-text'})"
   ]
  },
  {
   "cell_type": "code",
   "execution_count": 1085,
   "metadata": {},
   "outputs": [],
   "source": [
    "weather2= soup.findAll('div',{'class':'row row-even row-forecast'})"
   ]
  },
  {
   "cell_type": "code",
   "execution_count": 1087,
   "metadata": {},
   "outputs": [
    {
     "data": {
      "text/plain": [
       "[<div class=\"col-sm-10 forecast-text\">Sunny, with a high near 63. West wind 6 to 14 mph, with gusts as high as 18 mph. </div>,\n",
       " <div class=\"col-sm-10 forecast-text\">Mostly clear, with a low around 46. West wind 8 to 14 mph. </div>,\n",
       " <div class=\"col-sm-10 forecast-text\">Sunny, with a high near 63. Northwest wind 6 to 14 mph, with gusts as high as 20 mph. </div>,\n",
       " <div class=\"col-sm-10 forecast-text\">Mostly clear, with a low around 47. West northwest wind 7 to 15 mph, with gusts as high as 23 mph. </div>,\n",
       " <div class=\"col-sm-10 forecast-text\">Sunny, with a high near 67. North wind 6 to 15 mph, with gusts as high as 24 mph. </div>,\n",
       " <div class=\"col-sm-10 forecast-text\">Clear, with a low around 50.</div>,\n",
       " <div class=\"col-sm-10 forecast-text\">Sunny, with a high near 67.</div>,\n",
       " <div class=\"col-sm-10 forecast-text\">Partly cloudy, with a low around 48.</div>,\n",
       " <div class=\"col-sm-10 forecast-text\">Sunny, with a high near 62.</div>,\n",
       " <div class=\"col-sm-10 forecast-text\">Mostly clear, with a low around 46.</div>,\n",
       " <div class=\"col-sm-10 forecast-text\">Sunny, with a high near 65.</div>,\n",
       " <div class=\"col-sm-10 forecast-text\">Clear, with a low around 48.</div>,\n",
       " <div class=\"col-sm-10 forecast-text\">Sunny, with a high near 68.</div>]"
      ]
     },
     "execution_count": 1087,
     "metadata": {},
     "output_type": "execute_result"
    }
   ],
   "source": [
    "weather1"
   ]
  },
  {
   "cell_type": "code",
   "execution_count": 1089,
   "metadata": {},
   "outputs": [
    {
     "data": {
      "text/plain": [
       "'Today'"
      ]
     },
     "execution_count": 1089,
     "metadata": {},
     "output_type": "execute_result"
    }
   ],
   "source": [
    "weather[0].find('p',{'class':'period-name'}).text"
   ]
  },
  {
   "cell_type": "code",
   "execution_count": 1090,
   "metadata": {},
   "outputs": [
    {
     "data": {
      "text/plain": [
       "'Sunny'"
      ]
     },
     "execution_count": 1090,
     "metadata": {},
     "output_type": "execute_result"
    }
   ],
   "source": [
    "weather[0].find('p',{'class':'short-desc'}).text"
   ]
  },
  {
   "cell_type": "code",
   "execution_count": 1091,
   "metadata": {},
   "outputs": [
    {
     "data": {
      "text/plain": [
       "'High: 63 °F'"
      ]
     },
     "execution_count": 1091,
     "metadata": {},
     "output_type": "execute_result"
    }
   ],
   "source": [
    "weather[0].find('p',{'class':'temp temp-high'}).text"
   ]
  },
  {
   "cell_type": "code",
   "execution_count": 1092,
   "metadata": {},
   "outputs": [
    {
     "data": {
      "text/plain": [
       "'Sunny, with a high near 63. West wind 6 to 14 mph, with gusts as high as 18 mph. '"
      ]
     },
     "execution_count": 1092,
     "metadata": {},
     "output_type": "execute_result"
    }
   ],
   "source": [
    "weather1[0].text"
   ]
  },
  {
   "cell_type": "code",
   "execution_count": 1099,
   "metadata": {},
   "outputs": [],
   "source": [
    "Period = []\n",
    "ShortDisc = []\n",
    "Temperature = []\n",
    "LongDisc = []\n",
    "\n",
    "for i in weather[0:9]:\n",
    "    Period.append(i.find('p',{'class':'period-name'}).text)\n",
    "    ShortDisc.append(i.find('p',{'class':'short-desc'}).text)\n",
    "    if(i.find('p',{'class':'temp temp-high'}) != None):\n",
    "        Temperature.append(i.find('p',{'class':'temp temp-high'}).text)   \n",
    "    else:\n",
    "        Temperature.append(i.find('p',{'class':'temp temp-low'}).text)\n",
    "        \n",
    "for i in weather1[0:9]:\n",
    "        LongDisc.append(i.text) \n"
   ]
  },
  {
   "cell_type": "code",
   "execution_count": 1100,
   "metadata": {},
   "outputs": [],
   "source": [
    "data= list(zip(Period,ShortDisc,Temperature,LongDisc))"
   ]
  },
  {
   "cell_type": "code",
   "execution_count": 1101,
   "metadata": {},
   "outputs": [],
   "source": [
    "df1 = pd.DataFrame(data,columns=[\"Period\",\"ShortDisc\",\"Temperature\",\"LongDisc\"])"
   ]
  },
  {
   "cell_type": "code",
   "execution_count": 1102,
   "metadata": {},
   "outputs": [
    {
     "data": {
      "text/html": [
       "<div>\n",
       "<style scoped>\n",
       "    .dataframe tbody tr th:only-of-type {\n",
       "        vertical-align: middle;\n",
       "    }\n",
       "\n",
       "    .dataframe tbody tr th {\n",
       "        vertical-align: top;\n",
       "    }\n",
       "\n",
       "    .dataframe thead th {\n",
       "        text-align: right;\n",
       "    }\n",
       "</style>\n",
       "<table border=\"1\" class=\"dataframe\">\n",
       "  <thead>\n",
       "    <tr style=\"text-align: right;\">\n",
       "      <th></th>\n",
       "      <th>Period</th>\n",
       "      <th>ShortDisc</th>\n",
       "      <th>Temperature</th>\n",
       "      <th>LongDisc</th>\n",
       "    </tr>\n",
       "  </thead>\n",
       "  <tbody>\n",
       "    <tr>\n",
       "      <th>0</th>\n",
       "      <td>Today</td>\n",
       "      <td>Sunny</td>\n",
       "      <td>High: 63 °F</td>\n",
       "      <td>Sunny, with a high near 63. West wind 6 to 14 ...</td>\n",
       "    </tr>\n",
       "    <tr>\n",
       "      <th>1</th>\n",
       "      <td>Tonight</td>\n",
       "      <td>Mostly Clear</td>\n",
       "      <td>Low: 46 °F</td>\n",
       "      <td>Mostly clear, with a low around 46. West wind ...</td>\n",
       "    </tr>\n",
       "    <tr>\n",
       "      <th>2</th>\n",
       "      <td>Monday</td>\n",
       "      <td>Sunny</td>\n",
       "      <td>High: 63 °F</td>\n",
       "      <td>Sunny, with a high near 63. Northwest wind 6 t...</td>\n",
       "    </tr>\n",
       "    <tr>\n",
       "      <th>3</th>\n",
       "      <td>MondayNight</td>\n",
       "      <td>Mostly Clear</td>\n",
       "      <td>Low: 47 °F</td>\n",
       "      <td>Mostly clear, with a low around 47. West north...</td>\n",
       "    </tr>\n",
       "    <tr>\n",
       "      <th>4</th>\n",
       "      <td>Tuesday</td>\n",
       "      <td>Sunny</td>\n",
       "      <td>High: 67 °F</td>\n",
       "      <td>Sunny, with a high near 67. North wind 6 to 15...</td>\n",
       "    </tr>\n",
       "    <tr>\n",
       "      <th>5</th>\n",
       "      <td>TuesdayNight</td>\n",
       "      <td>Clear</td>\n",
       "      <td>Low: 50 °F</td>\n",
       "      <td>Clear, with a low around 50.</td>\n",
       "    </tr>\n",
       "    <tr>\n",
       "      <th>6</th>\n",
       "      <td>Wednesday</td>\n",
       "      <td>Sunny</td>\n",
       "      <td>High: 67 °F</td>\n",
       "      <td>Sunny, with a high near 67.</td>\n",
       "    </tr>\n",
       "    <tr>\n",
       "      <th>7</th>\n",
       "      <td>WednesdayNight</td>\n",
       "      <td>Partly Cloudy</td>\n",
       "      <td>Low: 48 °F</td>\n",
       "      <td>Partly cloudy, with a low around 48.</td>\n",
       "    </tr>\n",
       "    <tr>\n",
       "      <th>8</th>\n",
       "      <td>Thursday</td>\n",
       "      <td>Sunny</td>\n",
       "      <td>High: 62 °F</td>\n",
       "      <td>Sunny, with a high near 62.</td>\n",
       "    </tr>\n",
       "  </tbody>\n",
       "</table>\n",
       "</div>"
      ],
      "text/plain": [
       "           Period      ShortDisc  Temperature  \\\n",
       "0           Today          Sunny  High: 63 °F   \n",
       "1         Tonight   Mostly Clear   Low: 46 °F   \n",
       "2          Monday          Sunny  High: 63 °F   \n",
       "3     MondayNight   Mostly Clear   Low: 47 °F   \n",
       "4         Tuesday          Sunny  High: 67 °F   \n",
       "5    TuesdayNight          Clear   Low: 50 °F   \n",
       "6       Wednesday          Sunny  High: 67 °F   \n",
       "7  WednesdayNight  Partly Cloudy   Low: 48 °F   \n",
       "8        Thursday          Sunny  High: 62 °F   \n",
       "\n",
       "                                            LongDisc  \n",
       "0  Sunny, with a high near 63. West wind 6 to 14 ...  \n",
       "1  Mostly clear, with a low around 46. West wind ...  \n",
       "2  Sunny, with a high near 63. Northwest wind 6 t...  \n",
       "3  Mostly clear, with a low around 47. West north...  \n",
       "4  Sunny, with a high near 67. North wind 6 to 15...  \n",
       "5                       Clear, with a low around 50.  \n",
       "6                        Sunny, with a high near 67.  \n",
       "7               Partly cloudy, with a low around 48.  \n",
       "8                        Sunny, with a high near 62.  "
      ]
     },
     "execution_count": 1102,
     "metadata": {},
     "output_type": "execute_result"
    }
   ],
   "source": [
    "df1"
   ]
  },
  {
   "cell_type": "markdown",
   "metadata": {},
   "source": [
    "# Book Reviews"
   ]
  },
  {
   "cell_type": "code",
   "execution_count": 1047,
   "metadata": {},
   "outputs": [],
   "source": [
    "url=\"https://bookpage.com/reviews\""
   ]
  },
  {
   "cell_type": "code",
   "execution_count": 1048,
   "metadata": {},
   "outputs": [
    {
     "name": "stdout",
     "output_type": "stream",
     "text": [
      "<Response [200]>\n"
     ]
    }
   ],
   "source": [
    "res=requests.get(url)\n",
    "print(res)"
   ]
  },
  {
   "cell_type": "code",
   "execution_count": 1049,
   "metadata": {},
   "outputs": [],
   "source": [
    "soup=BeautifulSoup(res.content,'html.parser')"
   ]
  },
  {
   "cell_type": "code",
   "execution_count": 1050,
   "metadata": {},
   "outputs": [
    {
     "data": {
      "text/plain": [
       "'Book Reviews | BookPage'"
      ]
     },
     "execution_count": 1050,
     "metadata": {},
     "output_type": "execute_result"
    }
   ],
   "source": [
    "soup.title.text"
   ]
  },
  {
   "cell_type": "code",
   "execution_count": 1052,
   "metadata": {},
   "outputs": [],
   "source": [
    "books= soup.findAll('div',{'class':'row-fluid article-row'})"
   ]
  },
  {
   "cell_type": "code",
   "execution_count": 1055,
   "metadata": {},
   "outputs": [
    {
     "data": {
      "text/plain": [
       "<div class=\"row-fluid article-row\">\n",
       "<div class=\"bp-block article-info\">\n",
       "<div class=\"article-list-left\">\n",
       "<a href=\"/reviews/26014-gayle-tzemach-lemmon-daughters-kobani-history\"><img alt=\"Medium\" src=\"https://t1.bookpage.com/books/images/062d77690a03eab0988c407b6c399031/medium.jpg\"/></a>\n",
       "</div>\n",
       "<div class=\"flex-article-content\">\n",
       "<h4 class=\"italic\">\n",
       "<a href=\"/reviews/26014-gayle-tzemach-lemmon-daughters-kobani-history\">The Daughters of Kobani</a>\n",
       "</h4>\n",
       "<p class=\"sans bold\">\n",
       "Gayle Tzemach Lemmon\n",
       "</p>\n",
       "<p class=\"genre-links hidden-phone\">\n",
       "<a href=\"/search?book_genre=nonfiction\">Nonfiction</a>\n",
       " / \n",
       "<a href=\"/search?book_genre=history\">History</a>\n",
       " / \n",
       "<a href=\"/search?book_genre=middle_eastern_history\">Middle Eastern History</a>\n",
       "</p>\n",
       "<p class=\"excerpt\">\n",
       "The story of how young Kurdish women brought down terrorists from the Islamic State group finally gets told in <b>The Daughters of Kobani</b>.\n",
       "</p>\n",
       "<div class=\"read-full\">\n",
       "<a href=\"/reviews/26014-gayle-tzemach-lemmon-daughters-kobani-nonfiction\">Read the Review <i class=\"zmdi zmdi-chevron-right\"></i></a>\n",
       "</div>\n",
       "</div>\n",
       "<br class=\"clear\"/>\n",
       "</div>\n",
       "</div>"
      ]
     },
     "execution_count": 1055,
     "metadata": {},
     "output_type": "execute_result"
    }
   ],
   "source": [
    "books[1]"
   ]
  },
  {
   "cell_type": "code",
   "execution_count": 1057,
   "metadata": {},
   "outputs": [
    {
     "data": {
      "text/plain": [
       "'The Daughters of Kobani'"
      ]
     },
     "execution_count": 1057,
     "metadata": {},
     "output_type": "execute_result"
    }
   ],
   "source": [
    "books[1].h4.a.text #title"
   ]
  },
  {
   "cell_type": "code",
   "execution_count": 1061,
   "metadata": {},
   "outputs": [
    {
     "data": {
      "text/plain": [
       "'Gayle Tzemach Lemmon'"
      ]
     },
     "execution_count": 1061,
     "metadata": {},
     "output_type": "execute_result"
    }
   ],
   "source": [
    "books[1].find('p',{'class':'sans bold'}).text.strip(\"\\n\") #Author"
   ]
  },
  {
   "cell_type": "code",
   "execution_count": 1063,
   "metadata": {},
   "outputs": [
    {
     "data": {
      "text/plain": [
       "'Nonfiction / History / Middle Eastern History'"
      ]
     },
     "execution_count": 1063,
     "metadata": {},
     "output_type": "execute_result"
    }
   ],
   "source": [
    "books[1].find('p',{'class':'genre-links hidden-phone'}).text.strip(\"\\n\").replace(\"\\n\",\"\") #Gener"
   ]
  },
  {
   "cell_type": "code",
   "execution_count": 1064,
   "metadata": {},
   "outputs": [
    {
     "data": {
      "text/plain": [
       "'The story of how young Kurdish women brought down terrorists from the Islamic State group finally gets told in The Daughters of Kobani.'"
      ]
     },
     "execution_count": 1064,
     "metadata": {},
     "output_type": "execute_result"
    }
   ],
   "source": [
    "books[1].find('p',{'class':'excerpt'}).text.strip(\"\\n\")"
   ]
  },
  {
   "cell_type": "code",
   "execution_count": 1066,
   "metadata": {},
   "outputs": [],
   "source": [
    "Title = []\n",
    "Author = []\n",
    "Gener = []\n",
    "Review = []\n",
    "\n",
    "for i in books[0:5]:\n",
    "    Title.append(i.h4.a.text)\n",
    "    Author.append(i.find('p',{'class':'sans bold'}).text.strip(\"\\n\"))\n",
    "    Gener.append(i.find('p',{'class':'genre-links hidden-phone'}).text.strip(\"\\n\").replace(\"\\n\",\"\"))   \n",
    "    Review.append(i.find('p',{'class':'excerpt'}).text.strip(\"\\n\"))"
   ]
  },
  {
   "cell_type": "code",
   "execution_count": 1067,
   "metadata": {},
   "outputs": [],
   "source": [
    "data= list(zip(Title,Author,Gener,Review))"
   ]
  },
  {
   "cell_type": "code",
   "execution_count": 1068,
   "metadata": {},
   "outputs": [],
   "source": [
    "df1 = pd.DataFrame(data,columns=[\"Title\",\"Author\",\"Gener\",\"Short Review\"])"
   ]
  },
  {
   "cell_type": "code",
   "execution_count": 1069,
   "metadata": {},
   "outputs": [
    {
     "data": {
      "text/html": [
       "<div>\n",
       "<style scoped>\n",
       "    .dataframe tbody tr th:only-of-type {\n",
       "        vertical-align: middle;\n",
       "    }\n",
       "\n",
       "    .dataframe tbody tr th {\n",
       "        vertical-align: top;\n",
       "    }\n",
       "\n",
       "    .dataframe thead th {\n",
       "        text-align: right;\n",
       "    }\n",
       "</style>\n",
       "<table border=\"1\" class=\"dataframe\">\n",
       "  <thead>\n",
       "    <tr style=\"text-align: right;\">\n",
       "      <th></th>\n",
       "      <th>Title</th>\n",
       "      <th>Author</th>\n",
       "      <th>Gener</th>\n",
       "      <th>Short Review</th>\n",
       "    </tr>\n",
       "  </thead>\n",
       "  <tbody>\n",
       "    <tr>\n",
       "      <th>0</th>\n",
       "      <td>The One Thing You'd Save</td>\n",
       "      <td>Linda Sue Park, Robert Sae-Heng</td>\n",
       "      <td>Children's / Middle Grade</td>\n",
       "      <td>In The One Thing You’d Save, a teacher named M...</td>\n",
       "    </tr>\n",
       "    <tr>\n",
       "      <th>1</th>\n",
       "      <td>The Daughters of Kobani</td>\n",
       "      <td>Gayle Tzemach Lemmon</td>\n",
       "      <td>Nonfiction / History / Middle Eastern History</td>\n",
       "      <td>The story of how young Kurdish women brought d...</td>\n",
       "    </tr>\n",
       "    <tr>\n",
       "      <th>2</th>\n",
       "      <td>The Zoologist's Guide to the Galaxy</td>\n",
       "      <td>Arik Kershenbaum</td>\n",
       "      <td>Nonfiction / Science &amp; Nature</td>\n",
       "      <td>Zoologist Arik Kershenbaum draws on a range of...</td>\n",
       "    </tr>\n",
       "    <tr>\n",
       "      <th>3</th>\n",
       "      <td>Rivals</td>\n",
       "      <td>Tommy Greenwald</td>\n",
       "      <td>Children's / Middle Grade</td>\n",
       "      <td>In Rivals, Tommy Greenwald’s second novel set ...</td>\n",
       "    </tr>\n",
       "    <tr>\n",
       "      <th>4</th>\n",
       "      <td>Brother, Sister, Mother, Explorer</td>\n",
       "      <td>Jamie Figueroa</td>\n",
       "      <td>Fiction / Literary Fiction</td>\n",
       "      <td>Ghosts hover over Jamie Figueroa’s debut, a ly...</td>\n",
       "    </tr>\n",
       "  </tbody>\n",
       "</table>\n",
       "</div>"
      ],
      "text/plain": [
       "                                 Title                           Author  \\\n",
       "0             The One Thing You'd Save  Linda Sue Park, Robert Sae-Heng   \n",
       "1              The Daughters of Kobani             Gayle Tzemach Lemmon   \n",
       "2  The Zoologist's Guide to the Galaxy                 Arik Kershenbaum   \n",
       "3                               Rivals                  Tommy Greenwald   \n",
       "4   Brother, Sister, Mother, Explorer                    Jamie Figueroa   \n",
       "\n",
       "                                           Gener  \\\n",
       "0                      Children's / Middle Grade   \n",
       "1  Nonfiction / History / Middle Eastern History   \n",
       "2                  Nonfiction / Science & Nature   \n",
       "3                      Children's / Middle Grade   \n",
       "4                     Fiction / Literary Fiction   \n",
       "\n",
       "                                        Short Review  \n",
       "0  In The One Thing You’d Save, a teacher named M...  \n",
       "1  The story of how young Kurdish women brought d...  \n",
       "2  Zoologist Arik Kershenbaum draws on a range of...  \n",
       "3  In Rivals, Tommy Greenwald’s second novel set ...  \n",
       "4  Ghosts hover over Jamie Figueroa’s debut, a ly...  "
      ]
     },
     "execution_count": 1069,
     "metadata": {},
     "output_type": "execute_result"
    }
   ],
   "source": [
    "df1"
   ]
  },
  {
   "cell_type": "code",
   "execution_count": null,
   "metadata": {},
   "outputs": [],
   "source": []
  }
 ],
 "metadata": {
  "kernelspec": {
   "display_name": "Python 3",
   "language": "python",
   "name": "python3"
  },
  "language_info": {
   "codemirror_mode": {
    "name": "ipython",
    "version": 3
   },
   "file_extension": ".py",
   "mimetype": "text/x-python",
   "name": "python",
   "nbconvert_exporter": "python",
   "pygments_lexer": "ipython3",
   "version": "3.8.3"
  }
 },
 "nbformat": 4,
 "nbformat_minor": 4
}
